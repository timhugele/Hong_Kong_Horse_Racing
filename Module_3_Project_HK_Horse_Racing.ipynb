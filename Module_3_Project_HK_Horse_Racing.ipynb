{
 "cells": [
  {
   "cell_type": "code",
   "execution_count": 256,
   "metadata": {},
   "outputs": [],
   "source": [
    "import numpy as np\n",
    "import pandas as pd\n",
    "\n",
    "from sklearn.impute import SimpleImputer\n",
    "from sklearn.preprocessing import MinMaxScaler, RobustScaler\n",
    "from sklearn.linear_model import LogisticRegression\n",
    "from sklearn.tree import DecisionTreeClassifier\n",
    "from sklearn.pipeline import make_pipeline, Pipeline\n",
    "from sklearn.model_selection import cross_val_score, KFold, train_test_split, GridSearchCV\n",
    "from sklearn.metrics import classification_report, confusion_matrix, plot_confusion_matrix, roc_auc_score\n",
    "from sklearn.metrics import plot_roc_curve\n",
    "from category_encoders import OneHotEncoder\n",
    "\n",
    "from sklearn.preprocessing import KBinsDiscretizer\n",
    "\n",
    "from trueskill import Rating, quality_1vs1, rate_1vs1"
   ]
  },
  {
   "cell_type": "code",
   "execution_count": 257,
   "metadata": {},
   "outputs": [
    {
     "data": {
      "text/plain": [
       "<function seaborn.rcmod.set(context='notebook', style='darkgrid', palette='deep', font='sans-serif', font_scale=1, color_codes=True, rc=None)>"
      ]
     },
     "execution_count": 257,
     "metadata": {},
     "output_type": "execute_result"
    }
   ],
   "source": [
    "from matplotlib import pyplot as plt\n",
    "%matplotlib inline\n",
    "import seaborn as sns; sns.set"
   ]
  },
  {
   "cell_type": "code",
   "execution_count": 258,
   "metadata": {},
   "outputs": [],
   "source": [
    "horse = pd.read_csv('race_result_horse.csv')"
   ]
  },
  {
   "cell_type": "code",
   "execution_count": 259,
   "metadata": {},
   "outputs": [],
   "source": [
    "race = pd.read_csv('race_result_race.csv')"
   ]
  },
  {
   "cell_type": "code",
   "execution_count": 260,
   "metadata": {},
   "outputs": [
    {
     "data": {
      "text/plain": [
       "Index(['src', 'race_date', 'race_course', 'race_number', 'race_id',\n",
       "       'race_class', 'race_distance', 'track_condition', 'race_name', 'track',\n",
       "       'sectional_time', 'incident_report'],\n",
       "      dtype='object')"
      ]
     },
     "execution_count": 260,
     "metadata": {},
     "output_type": "execute_result"
    }
   ],
   "source": [
    "race.columns"
   ]
  },
  {
   "cell_type": "code",
   "execution_count": 261,
   "metadata": {},
   "outputs": [],
   "source": [
    "del race['incident_report']"
   ]
  },
  {
   "cell_type": "code",
   "execution_count": 262,
   "metadata": {},
   "outputs": [],
   "source": [
    "profiles = pd.read_csv('horse_profiles_2.csv', index_col = 0)"
   ]
  },
  {
   "cell_type": "code",
   "execution_count": 263,
   "metadata": {},
   "outputs": [],
   "source": [
    "horse = horse.merge(race, on='race_id', how='left')"
   ]
  },
  {
   "cell_type": "code",
   "execution_count": 264,
   "metadata": {},
   "outputs": [],
   "source": [
    "horse = horse.merge(profiles, on='horse_id', how='left')"
   ]
  },
  {
   "cell_type": "code",
   "execution_count": 265,
   "metadata": {},
   "outputs": [],
   "source": [
    "del horse['src']; del horse['import_type']; del horse['age']; \n",
    "del horse['sectional_time']; del horse['length_behind_winner']; del horse['race_name']; \n",
    "del horse['color']; del horse['sex']; del horse['dam']; del horse['dam_sire']; del horse['horse_id'];"
   ]
  },
  {
   "cell_type": "code",
   "execution_count": 266,
   "metadata": {},
   "outputs": [],
   "source": [
    "for i in range(1,7):\n",
    "    del horse['running_position_{}'.format(i)]"
   ]
  },
  {
   "cell_type": "markdown",
   "metadata": {},
   "source": [
    "### Create Target (Finishing 1st)"
   ]
  },
  {
   "cell_type": "code",
   "execution_count": 267,
   "metadata": {},
   "outputs": [],
   "source": [
    "target = 'win'\n",
    "horse[target] = (horse['finishing_position'].isin(['1', '1 DH'])).astype(np.int)"
   ]
  },
  {
   "cell_type": "code",
   "execution_count": 268,
   "metadata": {},
   "outputs": [],
   "source": [
    "horse.drop(index = 17242, inplace = True)"
   ]
  },
  {
   "cell_type": "code",
   "execution_count": 269,
   "metadata": {},
   "outputs": [],
   "source": [
    "horse.drop(index = 11053, inplace = True)"
   ]
  },
  {
   "cell_type": "markdown",
   "metadata": {},
   "source": [
    "### Win Odds Probability"
   ]
  },
  {
   "cell_type": "code",
   "execution_count": 270,
   "metadata": {},
   "outputs": [
    {
     "data": {
      "text/plain": [
       "(30187, 21)"
      ]
     },
     "execution_count": 270,
     "metadata": {},
     "output_type": "execute_result"
    }
   ],
   "source": [
    "horse.shape"
   ]
  },
  {
   "cell_type": "code",
   "execution_count": 271,
   "metadata": {},
   "outputs": [],
   "source": [
    "horse = horse[horse['win_odds'] != '---']"
   ]
  },
  {
   "cell_type": "code",
   "execution_count": 272,
   "metadata": {
    "scrolled": true
   },
   "outputs": [],
   "source": [
    "horse['win_odds'] = horse['win_odds'].astype(float)"
   ]
  },
  {
   "cell_type": "code",
   "execution_count": 273,
   "metadata": {},
   "outputs": [],
   "source": [
    "unique_race_ids = list(horse['race_id'].unique())"
   ]
  },
  {
   "cell_type": "code",
   "execution_count": 274,
   "metadata": {},
   "outputs": [],
   "source": [
    "horse_win_odds_prob = []\n",
    "for i in unique_race_ids:\n",
    "    race = horse[horse.race_id == i]\n",
    "    race_win_odds = race.win_odds\n",
    "    inverse_odds = race_win_odds.map(lambda x: 1/x)\n",
    "    inverse_odds_sum = inverse_odds.sum()\n",
    "    scaled_inverse_odds = list(inverse_odds.map(lambda x: x/inverse_odds_sum))\n",
    "    horse_names = list(race.horse_name)\n",
    "    len_horses = list(range(len(horse_names)))\n",
    "    dates = list(race.race_date)\n",
    "    for x in len_horses:\n",
    "        new_horse = {'horse_name': horse_names[x], 'win_odds_prob': scaled_inverse_odds[x], 'race_date': dates[x]}\n",
    "        horse_win_odds_prob.append(new_horse)"
   ]
  },
  {
   "cell_type": "code",
   "execution_count": 275,
   "metadata": {},
   "outputs": [],
   "source": [
    "df = pd.DataFrame(horse_win_odds_prob)"
   ]
  },
  {
   "cell_type": "code",
   "execution_count": 276,
   "metadata": {},
   "outputs": [],
   "source": [
    "horse = horse.merge(df, on=['horse_name', 'race_date'], how='left')"
   ]
  },
  {
   "cell_type": "code",
   "execution_count": 277,
   "metadata": {
    "scrolled": true
   },
   "outputs": [
    {
     "data": {
      "text/plain": [
       "(29598, 22)"
      ]
     },
     "execution_count": 277,
     "metadata": {},
     "output_type": "execute_result"
    }
   ],
   "source": [
    "horse.shape"
   ]
  },
  {
   "cell_type": "code",
   "execution_count": 278,
   "metadata": {},
   "outputs": [],
   "source": [
    "horse['finish_time'] = horse['finish_time'].str.split('.')"
   ]
  },
  {
   "cell_type": "code",
   "execution_count": 279,
   "metadata": {},
   "outputs": [],
   "source": [
    "horse = horse[horse['finish_time'].apply(lambda x: len(x)) == 3]"
   ]
  },
  {
   "cell_type": "code",
   "execution_count": 280,
   "metadata": {},
   "outputs": [],
   "source": [
    "horse['finish_time'] = horse['finish_time'].apply(lambda x: int(x[0])*60.0 + int(x[1]) + int(x[2])*0.01)"
   ]
  },
  {
   "cell_type": "code",
   "execution_count": 281,
   "metadata": {},
   "outputs": [],
   "source": [
    "horse['speed'] = horse['race_distance'] / horse['finish_time']"
   ]
  },
  {
   "cell_type": "markdown",
   "metadata": {},
   "source": [
    "### Probabilities from Speed"
   ]
  },
  {
   "cell_type": "code",
   "execution_count": 282,
   "metadata": {},
   "outputs": [
    {
     "data": {
      "text/plain": [
       "10098    16.823216\n",
       "10099    16.752757\n",
       "10100    16.738736\n",
       "10101    16.729402\n",
       "10102    16.701461\n",
       "10103    16.696814\n",
       "10104    16.657413\n",
       "10105    16.641243\n",
       "10106    16.634322\n",
       "10107    16.599806\n",
       "10108    16.463164\n",
       "10109    16.319869\n",
       "Name: speed, dtype: float64"
      ]
     },
     "execution_count": 282,
     "metadata": {},
     "output_type": "execute_result"
    }
   ],
   "source": [
    "horse[horse['race_id'] == '2015-030']['speed']"
   ]
  },
  {
   "cell_type": "markdown",
   "metadata": {},
   "source": [
    "### Horse TrueSkill"
   ]
  },
  {
   "cell_type": "code",
   "execution_count": 283,
   "metadata": {},
   "outputs": [],
   "source": [
    "from trueskill import Rating, quality_1vs1, rate_1vs1"
   ]
  },
  {
   "cell_type": "code",
   "execution_count": 284,
   "metadata": {
    "scrolled": false
   },
   "outputs": [],
   "source": [
    "horse = horse.replace(to_replace =[\"1 DH\"], value =\"1\")\n",
    "horse = horse.replace(to_replace =[\"2 DH\"], value =\"2\")\n",
    "horse = horse.replace(to_replace =[\"3 DH\"], value =\"3\")\n",
    "horse = horse.replace(to_replace =[\"4 DH\"], value =\"4\")\n",
    "horse = horse.replace(to_replace =[\"5 DH\"], value =\"5\")\n",
    "horse = horse.replace(to_replace =[\"6 DH\"], value =\"6\")\n",
    "horse = horse.replace(to_replace =[\"7 DH\"], value =\"7\")\n",
    "horse = horse.replace(to_replace =[\"8 DH\"], value =\"8\")\n",
    "horse = horse.replace(to_replace =[\"9 DH\"], value =\"9\")\n",
    "horse = horse.replace(to_replace =[\"10 DH\"], value =\"10\")\n",
    "horse = horse.replace(to_replace =[\"11 DH\"], value =\"11\")\n",
    "horse = horse.replace(to_replace =[\"12 DH\"], value =\"12\")\n",
    "horse = horse.replace(to_replace =[\"13 DH\"], value =\"13\")\n",
    "horse = horse.replace(to_replace =[\"14 DH\"], value =\"14\")\n",
    "horse = horse[horse.finishing_position != 'WV']\n",
    "horse = horse[horse.finishing_position != 'TNP']\n",
    "horse = horse[horse.finishing_position != 'DISQ']\n",
    "horse = horse[horse.finishing_position != 'WX-A']\n",
    "horse = horse[horse.finishing_position != 'DNF']\n",
    "horse = horse[horse.finishing_position != 'WV-A']\n",
    "horse = horse[horse.finishing_position != 'WX']\n",
    "horse = horse[horse.finishing_position != 'PU']\n",
    "horse = horse[horse.finishing_position != 'UR']\n",
    "horse = horse[horse.finishing_position != 'FE']"
   ]
  },
  {
   "cell_type": "code",
   "execution_count": 285,
   "metadata": {
    "scrolled": true
   },
   "outputs": [],
   "source": [
    "horse['finishing_position'] = horse['finishing_position'].astype(int)"
   ]
  },
  {
   "cell_type": "code",
   "execution_count": 286,
   "metadata": {
    "scrolled": true
   },
   "outputs": [],
   "source": [
    "import trueskill\n",
    "ts = trueskill.TrueSkill()\n",
    "horses = horse['horse_name'].unique().ravel()\n",
    "rating_dict = dict()\n",
    "for x in horses:\n",
    "    rating_dict[x] = ts.create_rating()\n",
    "race_groups = horse.groupby('race_id')\n",
    "def update_ratings(new_ratings, rating_dict):\n",
    "    for key in new_ratings.keys():\n",
    "        rating_dict[key] = new_ratings[key]\n",
    "    return rating_dict\n",
    "feature_list = []\n",
    "mu_list = []\n",
    "sigma_list = []\n",
    "k_list = []\n",
    "true_skill_dicts = []\n",
    "for i, group in enumerate(race_groups):\n",
    "    horse_ids = group[1]['horse_name'].values.tolist()\n",
    "    date = group[1]['race_date'].values.tolist()[0]\n",
    "    horse_dict = [(rating_dict[k],) for k in horse_ids if k in rating_dict]\n",
    "    for k in horse_ids:\n",
    "        mu_list.append(rating_dict[k].mu)\n",
    "        sigma_list.append(rating_dict[k].sigma)\n",
    "        k_list.append(k)\n",
    "        true_skill_values = {'mu_horse': rating_dict[k].mu, 'sigma_horse': rating_dict[k].sigma, 'horse_name': k, 'race_date' : date}\n",
    "        true_skill_dicts.append(true_skill_values)\n",
    "        \n",
    "    # for ranks 0 is winner\n",
    "    ranks = (group[1]['finishing_position']-1).astype(np.int).values.tolist()\n",
    "    updated_horses = ts.rate(horse_dict, ranks=ranks)\n",
    "    updated_horses = dict(zip(horse_ids,list(sum(updated_horses, ()))))    \n",
    "    # update the rating dictionary\n",
    "    rating_dict = update_ratings(updated_horses, rating_dict)"
   ]
  },
  {
   "cell_type": "code",
   "execution_count": 287,
   "metadata": {},
   "outputs": [],
   "source": [
    "# rating_dict"
   ]
  },
  {
   "cell_type": "code",
   "execution_count": 288,
   "metadata": {},
   "outputs": [],
   "source": [
    "df = pd.DataFrame(true_skill_dicts)"
   ]
  },
  {
   "cell_type": "code",
   "execution_count": 289,
   "metadata": {},
   "outputs": [],
   "source": [
    "horse = horse.merge(df, on=['horse_name', 'race_date'], how='left')"
   ]
  },
  {
   "cell_type": "code",
   "execution_count": 290,
   "metadata": {},
   "outputs": [
    {
     "data": {
      "text/plain": [
       "(29519, 25)"
      ]
     },
     "execution_count": 290,
     "metadata": {},
     "output_type": "execute_result"
    }
   ],
   "source": [
    "horse.shape"
   ]
  },
  {
   "cell_type": "code",
   "execution_count": 291,
   "metadata": {},
   "outputs": [],
   "source": [
    "horse['horse_rank'] = horse.mu_horse - (3 * horse.sigma_horse)"
   ]
  },
  {
   "cell_type": "code",
   "execution_count": 292,
   "metadata": {},
   "outputs": [],
   "source": [
    "# horse[horse['horse_name'] == 'MASSIVE'].sort_values(by = 'race_date')"
   ]
  },
  {
   "cell_type": "markdown",
   "metadata": {},
   "source": [
    "### Jockey TrueSkill"
   ]
  },
  {
   "cell_type": "code",
   "execution_count": 293,
   "metadata": {},
   "outputs": [],
   "source": [
    "import trueskill\n",
    "ts = trueskill.TrueSkill()\n",
    "jockeys = horse['jockey'].unique().ravel()\n",
    "rating_dict = dict()\n",
    "for x in jockeys:\n",
    "    rating_dict[x] = ts.create_rating()\n",
    "race_groups = horse.groupby('race_id')\n",
    "def update_ratings(new_ratings, rating_dict):\n",
    "    for key in new_ratings.keys():\n",
    "        rating_dict[key] = new_ratings[key]\n",
    "    return rating_dict\n",
    "feature_list = []\n",
    "mu_list = []\n",
    "sigma_list = []\n",
    "k_list = []\n",
    "true_skill_dicts = []\n",
    "for i, group in enumerate(race_groups):\n",
    "    jockey_ids = group[1]['jockey'].values.tolist()\n",
    "    date = group[1]['race_date'].values.tolist()[0]\n",
    "    horse_id = group[1]['horse_name'].values.tolist()\n",
    "    jockey_dict = [(rating_dict[k],) for k in jockey_ids if k in rating_dict]\n",
    "    for x, k in enumerate(jockey_ids):\n",
    "        mu_list.append(rating_dict[k].mu)\n",
    "        sigma_list.append(rating_dict[k].sigma)\n",
    "        k_list.append(k)\n",
    "        true_skill_values = {'mu_jockey': rating_dict[k].mu, 'sigma_jockey': rating_dict[k].sigma, 'race_date' : date, 'jockey': k, 'horse_name':horse_id[x]}\n",
    "        true_skill_dicts.append(true_skill_values)\n",
    "        \n",
    "    # for ranks 0 is winner\n",
    "    ranks = (group[1]['finishing_position']-1).astype(np.int).values.tolist()\n",
    "    updated_horses = ts.rate(jockey_dict, ranks=ranks)\n",
    "    updated_horses = dict(zip(jockey_ids,list(sum(updated_horses, ()))))    \n",
    "    # update the rating dictionary\n",
    "    rating_dict = update_ratings(updated_horses, rating_dict)"
   ]
  },
  {
   "cell_type": "code",
   "execution_count": 294,
   "metadata": {},
   "outputs": [],
   "source": [
    "df = pd.DataFrame(true_skill_dicts)"
   ]
  },
  {
   "cell_type": "code",
   "execution_count": 295,
   "metadata": {},
   "outputs": [],
   "source": [
    "# df.info()"
   ]
  },
  {
   "cell_type": "code",
   "execution_count": 296,
   "metadata": {},
   "outputs": [],
   "source": [
    "# horse.shape"
   ]
  },
  {
   "cell_type": "code",
   "execution_count": 297,
   "metadata": {},
   "outputs": [],
   "source": [
    "horse = horse.merge(df, on=['horse_name', 'race_date', 'jockey'], how='left')"
   ]
  },
  {
   "cell_type": "code",
   "execution_count": 298,
   "metadata": {},
   "outputs": [
    {
     "data": {
      "text/plain": [
       "(29519, 28)"
      ]
     },
     "execution_count": 298,
     "metadata": {},
     "output_type": "execute_result"
    }
   ],
   "source": [
    "horse.shape"
   ]
  },
  {
   "cell_type": "code",
   "execution_count": 299,
   "metadata": {},
   "outputs": [],
   "source": [
    "# horse.columns"
   ]
  },
  {
   "cell_type": "code",
   "execution_count": 300,
   "metadata": {},
   "outputs": [],
   "source": [
    "horse['jockey_rank'] = horse.mu_jockey - (3 * horse.sigma_jockey)"
   ]
  },
  {
   "cell_type": "code",
   "execution_count": 301,
   "metadata": {
    "scrolled": true
   },
   "outputs": [
    {
     "data": {
      "text/html": [
       "<div>\n",
       "<style scoped>\n",
       "    .dataframe tbody tr th:only-of-type {\n",
       "        vertical-align: middle;\n",
       "    }\n",
       "\n",
       "    .dataframe tbody tr th {\n",
       "        vertical-align: top;\n",
       "    }\n",
       "\n",
       "    .dataframe thead th {\n",
       "        text-align: right;\n",
       "    }\n",
       "</style>\n",
       "<table border=\"1\" class=\"dataframe\">\n",
       "  <thead>\n",
       "    <tr style=\"text-align: right;\">\n",
       "      <th></th>\n",
       "      <th>finishing_position</th>\n",
       "      <th>horse_number</th>\n",
       "      <th>horse_name</th>\n",
       "      <th>jockey</th>\n",
       "      <th>trainer</th>\n",
       "      <th>actual_weight</th>\n",
       "      <th>declared_horse_weight</th>\n",
       "      <th>draw</th>\n",
       "      <th>finish_time</th>\n",
       "      <th>win_odds</th>\n",
       "      <th>...</th>\n",
       "      <th>sire</th>\n",
       "      <th>win</th>\n",
       "      <th>win_odds_prob</th>\n",
       "      <th>speed</th>\n",
       "      <th>mu_horse</th>\n",
       "      <th>sigma_horse</th>\n",
       "      <th>horse_rank</th>\n",
       "      <th>mu_jockey</th>\n",
       "      <th>sigma_jockey</th>\n",
       "      <th>jockey_rank</th>\n",
       "    </tr>\n",
       "  </thead>\n",
       "  <tbody>\n",
       "    <tr>\n",
       "      <td>0</td>\n",
       "      <td>1</td>\n",
       "      <td>1.0</td>\n",
       "      <td>DOUBLE DRAGON</td>\n",
       "      <td>B Prebble</td>\n",
       "      <td>D Cruz</td>\n",
       "      <td>133</td>\n",
       "      <td>1032</td>\n",
       "      <td>1</td>\n",
       "      <td>82.33</td>\n",
       "      <td>3.8</td>\n",
       "      <td>...</td>\n",
       "      <td>Lord Of Warriors</td>\n",
       "      <td>1</td>\n",
       "      <td>0.214701</td>\n",
       "      <td>17.004737</td>\n",
       "      <td>25.000000</td>\n",
       "      <td>8.333333</td>\n",
       "      <td>0.000000</td>\n",
       "      <td>25.000000</td>\n",
       "      <td>8.333333</td>\n",
       "      <td>0.000000</td>\n",
       "    </tr>\n",
       "    <tr>\n",
       "      <td>23</td>\n",
       "      <td>11</td>\n",
       "      <td>7.0</td>\n",
       "      <td>AUTUMN GOLD</td>\n",
       "      <td>B Prebble</td>\n",
       "      <td>S Woods</td>\n",
       "      <td>123</td>\n",
       "      <td>1011</td>\n",
       "      <td>14</td>\n",
       "      <td>82.34</td>\n",
       "      <td>21.0</td>\n",
       "      <td>...</td>\n",
       "      <td>Ransom O'War</td>\n",
       "      <td>0</td>\n",
       "      <td>0.038864</td>\n",
       "      <td>17.002672</td>\n",
       "      <td>25.000000</td>\n",
       "      <td>8.333333</td>\n",
       "      <td>0.000000</td>\n",
       "      <td>22.880915</td>\n",
       "      <td>1.913473</td>\n",
       "      <td>17.140495</td>\n",
       "    </tr>\n",
       "    <tr>\n",
       "      <td>78</td>\n",
       "      <td>13</td>\n",
       "      <td>4.0</td>\n",
       "      <td>EXAGGERATION</td>\n",
       "      <td>B Prebble</td>\n",
       "      <td>J Moore</td>\n",
       "      <td>127</td>\n",
       "      <td>1141</td>\n",
       "      <td>4</td>\n",
       "      <td>57.74</td>\n",
       "      <td>57.0</td>\n",
       "      <td>...</td>\n",
       "      <td>Exceed And Excel</td>\n",
       "      <td>0</td>\n",
       "      <td>0.014221</td>\n",
       "      <td>17.319016</td>\n",
       "      <td>25.000000</td>\n",
       "      <td>8.333333</td>\n",
       "      <td>0.000000</td>\n",
       "      <td>39.351758</td>\n",
       "      <td>5.409320</td>\n",
       "      <td>23.123797</td>\n",
       "    </tr>\n",
       "    <tr>\n",
       "      <td>90</td>\n",
       "      <td>11</td>\n",
       "      <td>8.0</td>\n",
       "      <td>BEST TANGO</td>\n",
       "      <td>B Prebble</td>\n",
       "      <td>W Y So</td>\n",
       "      <td>123</td>\n",
       "      <td>1089</td>\n",
       "      <td>2</td>\n",
       "      <td>82.78</td>\n",
       "      <td>8.0</td>\n",
       "      <td>...</td>\n",
       "      <td>Mujahid</td>\n",
       "      <td>0</td>\n",
       "      <td>0.101781</td>\n",
       "      <td>16.912298</td>\n",
       "      <td>25.000000</td>\n",
       "      <td>8.333333</td>\n",
       "      <td>0.000000</td>\n",
       "      <td>25.441136</td>\n",
       "      <td>3.484735</td>\n",
       "      <td>14.986930</td>\n",
       "    </tr>\n",
       "    <tr>\n",
       "      <td>100</td>\n",
       "      <td>8</td>\n",
       "      <td>7.0</td>\n",
       "      <td>CULTURAL CITY</td>\n",
       "      <td>B Prebble</td>\n",
       "      <td>W Y So</td>\n",
       "      <td>124</td>\n",
       "      <td>1070</td>\n",
       "      <td>9</td>\n",
       "      <td>83.64</td>\n",
       "      <td>41.0</td>\n",
       "      <td>...</td>\n",
       "      <td>Elusive City</td>\n",
       "      <td>0</td>\n",
       "      <td>0.019912</td>\n",
       "      <td>16.738403</td>\n",
       "      <td>25.000000</td>\n",
       "      <td>8.333333</td>\n",
       "      <td>0.000000</td>\n",
       "      <td>22.261409</td>\n",
       "      <td>2.777814</td>\n",
       "      <td>13.927966</td>\n",
       "    </tr>\n",
       "    <tr>\n",
       "      <td>...</td>\n",
       "      <td>...</td>\n",
       "      <td>...</td>\n",
       "      <td>...</td>\n",
       "      <td>...</td>\n",
       "      <td>...</td>\n",
       "      <td>...</td>\n",
       "      <td>...</td>\n",
       "      <td>...</td>\n",
       "      <td>...</td>\n",
       "      <td>...</td>\n",
       "      <td>...</td>\n",
       "      <td>...</td>\n",
       "      <td>...</td>\n",
       "      <td>...</td>\n",
       "      <td>...</td>\n",
       "      <td>...</td>\n",
       "      <td>...</td>\n",
       "      <td>...</td>\n",
       "      <td>...</td>\n",
       "      <td>...</td>\n",
       "      <td>...</td>\n",
       "    </tr>\n",
       "    <tr>\n",
       "      <td>29456</td>\n",
       "      <td>14</td>\n",
       "      <td>9.0</td>\n",
       "      <td>HAPPY HAPPY</td>\n",
       "      <td>B Prebble</td>\n",
       "      <td>L Ho</td>\n",
       "      <td>124</td>\n",
       "      <td>1123</td>\n",
       "      <td>7</td>\n",
       "      <td>86.23</td>\n",
       "      <td>71.0</td>\n",
       "      <td>...</td>\n",
       "      <td>Rip Van Winkle</td>\n",
       "      <td>0</td>\n",
       "      <td>0.011438</td>\n",
       "      <td>16.235649</td>\n",
       "      <td>16.969617</td>\n",
       "      <td>3.078301</td>\n",
       "      <td>7.734713</td>\n",
       "      <td>25.470013</td>\n",
       "      <td>0.612413</td>\n",
       "      <td>23.632774</td>\n",
       "    </tr>\n",
       "    <tr>\n",
       "      <td>29459</td>\n",
       "      <td>3</td>\n",
       "      <td>7.0</td>\n",
       "      <td>ASHKIYR</td>\n",
       "      <td>B Prebble</td>\n",
       "      <td>J Moore</td>\n",
       "      <td>126</td>\n",
       "      <td>1076</td>\n",
       "      <td>4</td>\n",
       "      <td>111.63</td>\n",
       "      <td>15.0</td>\n",
       "      <td>...</td>\n",
       "      <td>Rock Of Gibraltar</td>\n",
       "      <td>0</td>\n",
       "      <td>0.054094</td>\n",
       "      <td>16.124698</td>\n",
       "      <td>24.850663</td>\n",
       "      <td>0.761025</td>\n",
       "      <td>22.567589</td>\n",
       "      <td>25.247236</td>\n",
       "      <td>0.612940</td>\n",
       "      <td>23.408415</td>\n",
       "    </tr>\n",
       "    <tr>\n",
       "      <td>29476</td>\n",
       "      <td>6</td>\n",
       "      <td>9.0</td>\n",
       "      <td>REMARKABLE</td>\n",
       "      <td>B Prebble</td>\n",
       "      <td>J Size</td>\n",
       "      <td>123</td>\n",
       "      <td>1077</td>\n",
       "      <td>3</td>\n",
       "      <td>84.91</td>\n",
       "      <td>41.0</td>\n",
       "      <td>...</td>\n",
       "      <td>More Than Ready</td>\n",
       "      <td>0</td>\n",
       "      <td>0.019967</td>\n",
       "      <td>16.488046</td>\n",
       "      <td>18.460840</td>\n",
       "      <td>3.020453</td>\n",
       "      <td>9.399480</td>\n",
       "      <td>25.392828</td>\n",
       "      <td>0.612691</td>\n",
       "      <td>23.554754</td>\n",
       "    </tr>\n",
       "    <tr>\n",
       "      <td>29487</td>\n",
       "      <td>4</td>\n",
       "      <td>5.0</td>\n",
       "      <td>GONNA RUN</td>\n",
       "      <td>B Prebble</td>\n",
       "      <td>C Fownes</td>\n",
       "      <td>131</td>\n",
       "      <td>1057</td>\n",
       "      <td>9</td>\n",
       "      <td>96.58</td>\n",
       "      <td>16.0</td>\n",
       "      <td>...</td>\n",
       "      <td>Hurricane Cat</td>\n",
       "      <td>0</td>\n",
       "      <td>0.050654</td>\n",
       "      <td>16.566577</td>\n",
       "      <td>29.678225</td>\n",
       "      <td>0.834493</td>\n",
       "      <td>27.174746</td>\n",
       "      <td>25.435152</td>\n",
       "      <td>0.612329</td>\n",
       "      <td>23.598166</td>\n",
       "    </tr>\n",
       "    <tr>\n",
       "      <td>29516</td>\n",
       "      <td>11</td>\n",
       "      <td>3.0</td>\n",
       "      <td>DOUBLE VALENTINE</td>\n",
       "      <td>B Prebble</td>\n",
       "      <td>A S Cruz</td>\n",
       "      <td>127</td>\n",
       "      <td>1085</td>\n",
       "      <td>13</td>\n",
       "      <td>84.58</td>\n",
       "      <td>41.0</td>\n",
       "      <td>...</td>\n",
       "      <td>Exchange Rate</td>\n",
       "      <td>0</td>\n",
       "      <td>0.019653</td>\n",
       "      <td>16.552376</td>\n",
       "      <td>21.585465</td>\n",
       "      <td>3.451087</td>\n",
       "      <td>11.232204</td>\n",
       "      <td>25.547739</td>\n",
       "      <td>0.612040</td>\n",
       "      <td>23.711619</td>\n",
       "    </tr>\n",
       "  </tbody>\n",
       "</table>\n",
       "<p>1353 rows × 29 columns</p>\n",
       "</div>"
      ],
      "text/plain": [
       "       finishing_position  horse_number        horse_name     jockey  \\\n",
       "0                       1           1.0     DOUBLE DRAGON  B Prebble   \n",
       "23                     11           7.0       AUTUMN GOLD  B Prebble   \n",
       "78                     13           4.0      EXAGGERATION  B Prebble   \n",
       "90                     11           8.0        BEST TANGO  B Prebble   \n",
       "100                     8           7.0     CULTURAL CITY  B Prebble   \n",
       "...                   ...           ...               ...        ...   \n",
       "29456                  14           9.0       HAPPY HAPPY  B Prebble   \n",
       "29459                   3           7.0           ASHKIYR  B Prebble   \n",
       "29476                   6           9.0        REMARKABLE  B Prebble   \n",
       "29487                   4           5.0         GONNA RUN  B Prebble   \n",
       "29516                  11           3.0  DOUBLE VALENTINE  B Prebble   \n",
       "\n",
       "        trainer actual_weight declared_horse_weight draw  finish_time  \\\n",
       "0        D Cruz           133                  1032    1        82.33   \n",
       "23      S Woods           123                  1011   14        82.34   \n",
       "78      J Moore           127                  1141    4        57.74   \n",
       "90       W Y So           123                  1089    2        82.78   \n",
       "100      W Y So           124                  1070    9        83.64   \n",
       "...         ...           ...                   ...  ...          ...   \n",
       "29456      L Ho           124                  1123    7        86.23   \n",
       "29459   J Moore           126                  1076    4       111.63   \n",
       "29476    J Size           123                  1077    3        84.91   \n",
       "29487  C Fownes           131                  1057    9        96.58   \n",
       "29516  A S Cruz           127                  1085   13        84.58   \n",
       "\n",
       "       win_odds  ...               sire win win_odds_prob      speed  \\\n",
       "0           3.8  ...   Lord Of Warriors   1      0.214701  17.004737   \n",
       "23         21.0  ...       Ransom O'War   0      0.038864  17.002672   \n",
       "78         57.0  ...   Exceed And Excel   0      0.014221  17.319016   \n",
       "90          8.0  ...            Mujahid   0      0.101781  16.912298   \n",
       "100        41.0  ...       Elusive City   0      0.019912  16.738403   \n",
       "...         ...  ...                ...  ..           ...        ...   \n",
       "29456      71.0  ...     Rip Van Winkle   0      0.011438  16.235649   \n",
       "29459      15.0  ...  Rock Of Gibraltar   0      0.054094  16.124698   \n",
       "29476      41.0  ...    More Than Ready   0      0.019967  16.488046   \n",
       "29487      16.0  ...      Hurricane Cat   0      0.050654  16.566577   \n",
       "29516      41.0  ...      Exchange Rate   0      0.019653  16.552376   \n",
       "\n",
       "        mu_horse  sigma_horse horse_rank  mu_jockey sigma_jockey jockey_rank  \n",
       "0      25.000000     8.333333   0.000000  25.000000     8.333333    0.000000  \n",
       "23     25.000000     8.333333   0.000000  22.880915     1.913473   17.140495  \n",
       "78     25.000000     8.333333   0.000000  39.351758     5.409320   23.123797  \n",
       "90     25.000000     8.333333   0.000000  25.441136     3.484735   14.986930  \n",
       "100    25.000000     8.333333   0.000000  22.261409     2.777814   13.927966  \n",
       "...          ...          ...        ...        ...          ...         ...  \n",
       "29456  16.969617     3.078301   7.734713  25.470013     0.612413   23.632774  \n",
       "29459  24.850663     0.761025  22.567589  25.247236     0.612940   23.408415  \n",
       "29476  18.460840     3.020453   9.399480  25.392828     0.612691   23.554754  \n",
       "29487  29.678225     0.834493  27.174746  25.435152     0.612329   23.598166  \n",
       "29516  21.585465     3.451087  11.232204  25.547739     0.612040   23.711619  \n",
       "\n",
       "[1353 rows x 29 columns]"
      ]
     },
     "execution_count": 301,
     "metadata": {},
     "output_type": "execute_result"
    }
   ],
   "source": [
    "horse[horse['jockey'] == 'B Prebble']"
   ]
  },
  {
   "cell_type": "markdown",
   "metadata": {},
   "source": [
    "### Elapsed Time Since Previous Race"
   ]
  },
  {
   "cell_type": "code",
   "execution_count": 302,
   "metadata": {
    "scrolled": true
   },
   "outputs": [],
   "source": [
    "horse['race_date'] = pd.to_datetime(horse['race_date'], format='%Y-%m-%d', errors='ignore')"
   ]
  },
  {
   "cell_type": "code",
   "execution_count": 303,
   "metadata": {},
   "outputs": [],
   "source": [
    "list_of_horses = list(horse.horse_name.unique())\n",
    "horse_time_since_by_race = []\n",
    "for i in list_of_horses:\n",
    "    time_since_last_race = list(horse.loc[horse['horse_name'] == i].sort_values(by = ['race_date'])['race_date'].diff())\n",
    "    len_dates = list(range(len(time_since_last_race)))\n",
    "    dates = list(horse.loc[horse['horse_name'] == i].sort_values(by = ['race_date'])['race_date'])\n",
    "    for x in len_dates:\n",
    "        new_horse = {'horse_name': i, 'days_since_last_race': time_since_last_race[x], 'race_date': dates[x]}\n",
    "        horse_time_since_by_race.append(new_horse)"
   ]
  },
  {
   "cell_type": "code",
   "execution_count": 304,
   "metadata": {},
   "outputs": [],
   "source": [
    "df = pd.DataFrame(horse_time_since_by_race)"
   ]
  },
  {
   "cell_type": "code",
   "execution_count": 305,
   "metadata": {},
   "outputs": [],
   "source": [
    "horse = horse.merge(df, on=['horse_name', 'race_date'], how='left')"
   ]
  },
  {
   "cell_type": "code",
   "execution_count": 306,
   "metadata": {},
   "outputs": [],
   "source": [
    "horse['days_since_last_race'] = horse['days_since_last_race'].astype(int)/(24*60*60*(10**9))"
   ]
  },
  {
   "cell_type": "markdown",
   "metadata": {},
   "source": [
    "Remove null values."
   ]
  },
  {
   "cell_type": "code",
   "execution_count": 307,
   "metadata": {},
   "outputs": [],
   "source": [
    "# horse = horse[horse.days_since_last_race.notnull()]"
   ]
  },
  {
   "cell_type": "markdown",
   "metadata": {},
   "source": [
    "### Keep only 1200m Races"
   ]
  },
  {
   "cell_type": "code",
   "execution_count": 308,
   "metadata": {},
   "outputs": [],
   "source": [
    "horse = horse[horse.race_distance == 1200]"
   ]
  },
  {
   "cell_type": "markdown",
   "metadata": {},
   "source": [
    "### Horse Winning Percentage"
   ]
  },
  {
   "cell_type": "code",
   "execution_count": 309,
   "metadata": {},
   "outputs": [],
   "source": [
    "list_of_horses = list(horse.horse_name.unique())\n",
    "winning_percentage = []\n",
    "for i in list_of_horses:\n",
    "    wins = list(horse.loc[horse['horse_name'] == i].sort_values(by = ['race_date'])['win'].cumsum().shift())\n",
    "    races = list(range(len(horse.loc[horse['horse_name'] == i].sort_values(by = ['race_date'])['win'])))\n",
    "    dates = list(horse.loc[horse['horse_name'] == i].sort_values(by = ['race_date'])['race_date'])\n",
    "    len_races = list(range(len(races)))\n",
    "    for x in len_races:\n",
    "        try:\n",
    "            win_perc = wins[x]/races[x]\n",
    "            new_horse = {'horse_name': i, 'horse_win_perc': win_perc, 'race_date': dates[x]}\n",
    "            winning_percentage.append(new_horse)\n",
    "        except:\n",
    "            new_horse = {'horse_name': i, 'horse_win_perc': None, 'race_date': dates[x]}\n",
    "            winning_percentage.append(new_horse)"
   ]
  },
  {
   "cell_type": "code",
   "execution_count": 310,
   "metadata": {},
   "outputs": [],
   "source": [
    "df = pd.DataFrame(winning_percentage)"
   ]
  },
  {
   "cell_type": "code",
   "execution_count": 311,
   "metadata": {},
   "outputs": [],
   "source": [
    "horse = horse.merge(df, on=['horse_name', 'race_date'], how='left')"
   ]
  },
  {
   "cell_type": "code",
   "execution_count": 312,
   "metadata": {},
   "outputs": [
    {
     "data": {
      "text/plain": [
       "(9923, 31)"
      ]
     },
     "execution_count": 312,
     "metadata": {},
     "output_type": "execute_result"
    }
   ],
   "source": [
    "horse.shape"
   ]
  },
  {
   "cell_type": "markdown",
   "metadata": {},
   "source": [
    "### Jockey Winning Percentage"
   ]
  },
  {
   "cell_type": "code",
   "execution_count": 313,
   "metadata": {},
   "outputs": [],
   "source": [
    "list_of_jockeys = list(horse.jockey.unique())\n",
    "winning_percentage = []\n",
    "for i in list_of_jockeys:\n",
    "    wins = list(horse.loc[horse['jockey'] == i].sort_values(by = ['race_date'])['win'].cumsum().shift())\n",
    "    races = list(range(len(horse.loc[horse['jockey'] == i].sort_values(by = ['race_date'])['win'])))\n",
    "    dates = list(horse.loc[horse['jockey'] == i].sort_values(by = ['race_date'])['race_date'])\n",
    "    horses = list(horse.loc[horse['jockey'] == i].sort_values(by = ['race_date'])['horse_name'])\n",
    "    len_races = list(range(len(races)))\n",
    "    for x in len_races:\n",
    "        try:\n",
    "            win_perc = wins[x]/races[x]\n",
    "            new_jockey = {'jockey': i, 'jockey_win_perc': win_perc, 'race_date': dates[x], 'horse_name': horses[x]}\n",
    "            winning_percentage.append(new_jockey)\n",
    "        except:\n",
    "            new_jockey = {'jockey': i, 'jockey_win_perc': None, 'race_date': dates[x], 'horse_name': horses[x]}\n",
    "            winning_percentage.append(new_jockey)"
   ]
  },
  {
   "cell_type": "code",
   "execution_count": 314,
   "metadata": {},
   "outputs": [],
   "source": [
    "df = pd.DataFrame(winning_percentage)"
   ]
  },
  {
   "cell_type": "code",
   "execution_count": 315,
   "metadata": {},
   "outputs": [],
   "source": [
    "horse = horse.merge(df, on=['horse_name', 'race_date', 'jockey'], how='left')"
   ]
  },
  {
   "cell_type": "code",
   "execution_count": 316,
   "metadata": {
    "scrolled": true
   },
   "outputs": [
    {
     "data": {
      "text/plain": [
       "(9923, 32)"
      ]
     },
     "execution_count": 316,
     "metadata": {},
     "output_type": "execute_result"
    }
   ],
   "source": [
    "horse.shape"
   ]
  },
  {
   "cell_type": "markdown",
   "metadata": {},
   "source": [
    "### Trainer Winning Percentage"
   ]
  },
  {
   "cell_type": "code",
   "execution_count": 317,
   "metadata": {},
   "outputs": [],
   "source": [
    "list_of_trainers = list(horse.trainer.unique())\n",
    "winning_percentage_trainer = []\n",
    "for i in list_of_trainers:\n",
    "    wins = list(horse.loc[horse['trainer'] == i].sort_values(by = ['race_date'])['win'].cumsum().shift())\n",
    "    races = list(range(len(horse.loc[horse['trainer'] == i].sort_values(by = ['race_date'])['win'])))\n",
    "    dates = list(horse.loc[horse['trainer'] == i].sort_values(by = ['race_date'])['race_date'])\n",
    "    horses = list(horse.loc[horse['trainer'] == i].sort_values(by = ['race_date'])['horse_name'])\n",
    "    len_races = list(range(len(races)))\n",
    "    for x in len_races:\n",
    "        try:\n",
    "            win_perc_t = wins[x]/races[x]\n",
    "            new_trainer = {'trainer': i, 'trainer_win_perc': win_perc_t, 'race_date': dates[x], 'horse_name': horses[x]}\n",
    "            winning_percentage_trainer.append(new_trainer)\n",
    "        except:\n",
    "            new_trainer = {'trainer': i, 'trainer_win_perc': None, 'race_date': dates[x], 'horse_name': horses[x]}\n",
    "            winning_percentage_trainer.append(new_trainer)"
   ]
  },
  {
   "cell_type": "code",
   "execution_count": 318,
   "metadata": {},
   "outputs": [],
   "source": [
    "df = pd.DataFrame(winning_percentage_trainer)"
   ]
  },
  {
   "cell_type": "code",
   "execution_count": 319,
   "metadata": {},
   "outputs": [],
   "source": [
    "horse = horse.merge(df, on=['horse_name', 'race_date', 'trainer'], how='left')"
   ]
  },
  {
   "cell_type": "code",
   "execution_count": 320,
   "metadata": {},
   "outputs": [
    {
     "data": {
      "text/plain": [
       "(9923, 33)"
      ]
     },
     "execution_count": 320,
     "metadata": {},
     "output_type": "execute_result"
    }
   ],
   "source": [
    "horse.shape"
   ]
  },
  {
   "cell_type": "markdown",
   "metadata": {},
   "source": [
    "### Find Weight Loss From Previous Race"
   ]
  },
  {
   "cell_type": "markdown",
   "metadata": {},
   "source": [
    "Drop all rows with missing Declared Horse Weights."
   ]
  },
  {
   "cell_type": "code",
   "execution_count": 321,
   "metadata": {},
   "outputs": [],
   "source": [
    "horse = horse[horse['declared_horse_weight'] != '-']"
   ]
  },
  {
   "cell_type": "code",
   "execution_count": 322,
   "metadata": {},
   "outputs": [],
   "source": [
    "list_of_horses = list(horse.horse_name.unique())\n",
    "horse_weight_change_by_race = []\n",
    "for i in list_of_horses:\n",
    "    horse_weight_change = list(horse.loc[horse['horse_name'] == i].sort_values(by = ['race_date'])['declared_horse_weight'].astype('int').pct_change())\n",
    "    len_weights = list(range(len(horse_weight_change)))\n",
    "    dates = list(horse.loc[horse['horse_name'] == i].sort_values(by = ['race_date'])['race_date'])\n",
    "    for x in len_weights:\n",
    "        new_horse = {'horse_name': i, 'weight_change': horse_weight_change[x], 'race_date': dates[x]}\n",
    "        horse_weight_change_by_race.append(new_horse)"
   ]
  },
  {
   "cell_type": "code",
   "execution_count": 323,
   "metadata": {},
   "outputs": [],
   "source": [
    "df = pd.DataFrame(horse_weight_change_by_race)"
   ]
  },
  {
   "cell_type": "code",
   "execution_count": 324,
   "metadata": {},
   "outputs": [],
   "source": [
    "horse = horse.merge(df, on=['horse_name', 'race_date'], how='left')"
   ]
  },
  {
   "cell_type": "markdown",
   "metadata": {},
   "source": [
    "Remove null values."
   ]
  },
  {
   "cell_type": "code",
   "execution_count": 71,
   "metadata": {},
   "outputs": [],
   "source": [
    "# horse = horse[horse.weight_change.notnull()]"
   ]
  },
  {
   "cell_type": "code",
   "execution_count": 72,
   "metadata": {
    "scrolled": true
   },
   "outputs": [],
   "source": [
    "# horse.shape"
   ]
  },
  {
   "cell_type": "markdown",
   "metadata": {},
   "source": [
    "### Remove Unwanted Fields"
   ]
  },
  {
   "cell_type": "code",
   "execution_count": 73,
   "metadata": {},
   "outputs": [],
   "source": [
    "# del horse['src']; del horse['incident_report']; del horse['import_type']; del horse['age']; \n",
    "# del horse['sectional_time']; del horse['length_behind_winner']; del horse['race_name']; \n",
    "# del horse['color']; del horse['sex']; del horse['dam']; del horse['dam_sire']; del horse['horse_id'];"
   ]
  },
  {
   "cell_type": "code",
   "execution_count": 74,
   "metadata": {},
   "outputs": [],
   "source": [
    "# for i in range(1,7):\n",
    "#     del horse['running_position_{}'.format(i)]"
   ]
  },
  {
   "cell_type": "markdown",
   "metadata": {},
   "source": [
    "### Turn Finish Time into Seconds"
   ]
  },
  {
   "cell_type": "code",
   "execution_count": 75,
   "metadata": {},
   "outputs": [],
   "source": [
    "# horse['finish_time'] = horse['finish_time'].str.split('.')"
   ]
  },
  {
   "cell_type": "code",
   "execution_count": 76,
   "metadata": {},
   "outputs": [],
   "source": [
    "# horse = horse[horse['finish_time'].apply(lambda x: len(x)) == 3]"
   ]
  },
  {
   "cell_type": "code",
   "execution_count": 77,
   "metadata": {
    "scrolled": false
   },
   "outputs": [],
   "source": [
    "# horse['finish_time'] = horse['finish_time'].apply(lambda x: int(x[0])*60.0 + int(x[1]) + int(x[2])*0.01)"
   ]
  },
  {
   "cell_type": "markdown",
   "metadata": {},
   "source": [
    "### Tracks"
   ]
  },
  {
   "cell_type": "code",
   "execution_count": 78,
   "metadata": {},
   "outputs": [
    {
     "data": {
      "text/plain": [
       "Sha Tin         5854\n",
       "Happy Valley    4069\n",
       "Name: race_course, dtype: int64"
      ]
     },
     "execution_count": 78,
     "metadata": {},
     "output_type": "execute_result"
    }
   ],
   "source": [
    "horse.race_course.value_counts()"
   ]
  },
  {
   "cell_type": "markdown",
   "metadata": {},
   "source": [
    "### Create Average Speed Category"
   ]
  },
  {
   "cell_type": "code",
   "execution_count": 79,
   "metadata": {},
   "outputs": [],
   "source": [
    "# horse['speed'] = horse['race_distance'] / horse['finish_time']"
   ]
  },
  {
   "cell_type": "code",
   "execution_count": 80,
   "metadata": {},
   "outputs": [],
   "source": [
    "# gp = horse[['horse_name', 'speed']].groupby('horse_name').mean()"
   ]
  },
  {
   "cell_type": "code",
   "execution_count": 81,
   "metadata": {},
   "outputs": [],
   "source": [
    "# gp2 = horse[['horse_name', 'speed']].groupby('horse_name').std()\n",
    "# gp2 = gp2.rename({'speed':'speed_std'}, axis=1)\n",
    "\n",
    "# del horse['speed']\n",
    "# horse = horse.merge(gp, on='horse_name', how='left')\n",
    "# horse = horse.merge(gp2, on='horse_name', how='left')\n",
    "\n",
    "# horse.head()"
   ]
  },
  {
   "cell_type": "code",
   "execution_count": 82,
   "metadata": {},
   "outputs": [],
   "source": [
    "# gp = horse[['race_id', 'speed']].groupby('race_id').mean()\n",
    "# gp = gp.rename({'speed':'race_avg_speed'}, axis=1)\n",
    "# gp"
   ]
  },
  {
   "cell_type": "code",
   "execution_count": 83,
   "metadata": {},
   "outputs": [],
   "source": [
    "# horse = horse.merge(gp, on='race_id', how='left')\n",
    "\n",
    "# horse.head()"
   ]
  },
  {
   "cell_type": "code",
   "execution_count": 84,
   "metadata": {},
   "outputs": [],
   "source": [
    "# horse['race_rel_speed'] = horse['speed'] - horse['race_avg_speed']\n",
    "\n",
    "# horse.head()"
   ]
  },
  {
   "cell_type": "code",
   "execution_count": 325,
   "metadata": {},
   "outputs": [],
   "source": [
    "gp = horse[['draw', target]].groupby('draw').mean().rename({target:'draw_encoded'},axis=1)\n",
    "# gp"
   ]
  },
  {
   "cell_type": "code",
   "execution_count": 326,
   "metadata": {},
   "outputs": [],
   "source": [
    "horse = horse.merge(gp, on='draw', how='left')"
   ]
  },
  {
   "cell_type": "markdown",
   "metadata": {},
   "source": [
    "In order to avoid using future data to predict a race, I created a column for average speed at a particular distance for each horse only using past data."
   ]
  },
  {
   "cell_type": "code",
   "execution_count": 327,
   "metadata": {
    "scrolled": true
   },
   "outputs": [
    {
     "data": {
      "text/plain": [
       "1             NaN\n",
       "196     17.101325\n",
       "521     17.076989\n",
       "979     17.030940\n",
       "2647    16.968326\n",
       "3035    17.067274\n",
       "3458    16.882386\n",
       "Name: speed, dtype: float64"
      ]
     },
     "execution_count": 327,
     "metadata": {},
     "output_type": "execute_result"
    }
   ],
   "source": [
    "horse.loc[horse['horse_name'] == 'MASSIVE'].sort_values(by = ['race_date'])['speed'].rolling(1).mean().shift(1)"
   ]
  },
  {
   "cell_type": "code",
   "execution_count": 328,
   "metadata": {},
   "outputs": [
    {
     "data": {
      "text/plain": [
       "1       17.101325\n",
       "196     17.076989\n",
       "521     17.030940\n",
       "979     16.968326\n",
       "2647    17.067274\n",
       "3035    16.882386\n",
       "3458    16.944366\n",
       "Name: speed, dtype: float64"
      ]
     },
     "execution_count": 328,
     "metadata": {},
     "output_type": "execute_result"
    }
   ],
   "source": [
    "horse.loc[horse['horse_name'] == 'MASSIVE'].sort_values(by = ['race_date'])['speed']"
   ]
  },
  {
   "cell_type": "code",
   "execution_count": 329,
   "metadata": {
    "scrolled": false
   },
   "outputs": [],
   "source": [
    "list_of_horses = list(horse.horse_name.unique())\n",
    "horse_average_speed_by_race = []\n",
    "for i in list_of_horses:\n",
    "    horse_speeds = list(horse.loc[horse['horse_name'] == i].sort_values(by = ['race_date'])['speed'].expanding().mean().shift(1))\n",
    "    len_speeds = list(range(len(horse_speeds)))\n",
    "    dates = list(horse.loc[horse['horse_name'] == i].sort_values(by = ['race_date'])['race_date'])\n",
    "    for x in len_speeds:\n",
    "        new_horse = {'horse_name': i, 'average_speed': horse_speeds[x], 'race_date': dates[x]}\n",
    "        horse_average_speed_by_race.append(new_horse)"
   ]
  },
  {
   "cell_type": "code",
   "execution_count": 330,
   "metadata": {},
   "outputs": [],
   "source": [
    "df = pd.DataFrame(horse_average_speed_by_race)"
   ]
  },
  {
   "cell_type": "code",
   "execution_count": 331,
   "metadata": {},
   "outputs": [],
   "source": [
    "horse = horse.merge(df, on=['horse_name', 'race_date'], how='left')"
   ]
  },
  {
   "cell_type": "code",
   "execution_count": 332,
   "metadata": {},
   "outputs": [],
   "source": [
    "# horse.sort_values(by='horse_name')"
   ]
  },
  {
   "cell_type": "code",
   "execution_count": 333,
   "metadata": {
    "scrolled": true
   },
   "outputs": [
    {
     "data": {
      "text/plain": [
       "(9923, 36)"
      ]
     },
     "execution_count": 333,
     "metadata": {},
     "output_type": "execute_result"
    }
   ],
   "source": [
    "horse.shape"
   ]
  },
  {
   "cell_type": "code",
   "execution_count": 334,
   "metadata": {},
   "outputs": [],
   "source": [
    "horse_relative_average_speed = []\n",
    "for i in unique_race_ids:\n",
    "    race = horse[horse.race_id == i]\n",
    "    race_average_speed = race.average_speed.mean()\n",
    "    average_speed_diff = list(-1 * (race.average_speed - race_average_speed))\n",
    "    horse_names = list(race.horse_name)\n",
    "    len_horses = list(range(len(horse_names)))\n",
    "    dates = list(race.race_date)\n",
    "    for x in len_horses:\n",
    "        new_horse = {'horse_name': horse_names[x], 'average_speed_diff': average_speed_diff[x], 'race_date': dates[x]}\n",
    "        horse_relative_average_speed.append(new_horse)"
   ]
  },
  {
   "cell_type": "code",
   "execution_count": 335,
   "metadata": {},
   "outputs": [],
   "source": [
    "# horse_relative_average_speed"
   ]
  },
  {
   "cell_type": "code",
   "execution_count": 336,
   "metadata": {},
   "outputs": [],
   "source": [
    "df = pd.DataFrame(horse_relative_average_speed)"
   ]
  },
  {
   "cell_type": "code",
   "execution_count": 337,
   "metadata": {},
   "outputs": [],
   "source": [
    "horse = horse.merge(df, on=['horse_name', 'race_date'], how='left')"
   ]
  },
  {
   "cell_type": "code",
   "execution_count": 338,
   "metadata": {},
   "outputs": [
    {
     "data": {
      "text/plain": [
       "(9923, 37)"
      ]
     },
     "execution_count": 338,
     "metadata": {},
     "output_type": "execute_result"
    }
   ],
   "source": [
    "horse.shape"
   ]
  },
  {
   "cell_type": "markdown",
   "metadata": {},
   "source": [
    "### Max Speed Differential"
   ]
  },
  {
   "cell_type": "code",
   "execution_count": 339,
   "metadata": {},
   "outputs": [],
   "source": [
    "list_of_horses = list(horse.horse_name.unique())\n",
    "horse_max_speed = []\n",
    "for i in list_of_horses:\n",
    "    horse_max_speeds = list(horse.loc[horse['horse_name'] == i].sort_values(by = ['race_date'])['speed'].cummax().shift(1))\n",
    "    len_speeds = list(range(len(horse_max_speeds)))\n",
    "    dates = list(horse.loc[horse['horse_name'] == i].sort_values(by = ['race_date'])['race_date'])\n",
    "    for x in len_speeds:\n",
    "        new_horse = {'horse_name': i, 'max_speed': horse_max_speeds[x], 'race_date': dates[x]}\n",
    "        horse_max_speed.append(new_horse)"
   ]
  },
  {
   "cell_type": "code",
   "execution_count": 340,
   "metadata": {},
   "outputs": [],
   "source": [
    "df = pd.DataFrame(horse_max_speed)"
   ]
  },
  {
   "cell_type": "code",
   "execution_count": 341,
   "metadata": {},
   "outputs": [],
   "source": [
    "horse = horse.merge(df, on=['horse_name', 'race_date'], how='left')"
   ]
  },
  {
   "cell_type": "code",
   "execution_count": 342,
   "metadata": {},
   "outputs": [],
   "source": [
    "unique_race_ids = list(horse.race_id.unique())"
   ]
  },
  {
   "cell_type": "code",
   "execution_count": 343,
   "metadata": {},
   "outputs": [],
   "source": [
    "horse_relative_max_speed = []\n",
    "for i in unique_race_ids:\n",
    "    race = horse[horse.race_id == i]\n",
    "    race_max_speed = race.max_speed.max()\n",
    "    max_speed_diff = list(-1 * (race.max_speed - race_max_speed))\n",
    "    horse_names = list(race.horse_name)\n",
    "    len_horses = list(range(len(horse_names)))\n",
    "    dates = list(race.race_date)\n",
    "    for x in len_horses:\n",
    "        new_horse = {'horse_name': horse_names[x], 'max_speed_diff': max_speed_diff[x], 'race_date': dates[x]}\n",
    "        horse_relative_max_speed.append(new_horse)"
   ]
  },
  {
   "cell_type": "code",
   "execution_count": 344,
   "metadata": {},
   "outputs": [],
   "source": [
    "df = pd.DataFrame(horse_relative_max_speed)"
   ]
  },
  {
   "cell_type": "code",
   "execution_count": 345,
   "metadata": {},
   "outputs": [],
   "source": [
    "horse = horse.merge(df, on=['horse_name', 'race_date'], how='left')"
   ]
  },
  {
   "cell_type": "code",
   "execution_count": 346,
   "metadata": {},
   "outputs": [
    {
     "data": {
      "text/plain": [
       "(9923, 39)"
      ]
     },
     "execution_count": 346,
     "metadata": {},
     "output_type": "execute_result"
    }
   ],
   "source": [
    "horse.shape"
   ]
  },
  {
   "cell_type": "markdown",
   "metadata": {},
   "source": [
    "### Min Speed Differential"
   ]
  },
  {
   "cell_type": "code",
   "execution_count": 347,
   "metadata": {},
   "outputs": [],
   "source": [
    "list_of_horses = list(horse.horse_name.unique())\n",
    "horse_min_speed = []\n",
    "for i in list_of_horses:\n",
    "    horse_min_speeds = list(horse.loc[horse['horse_name'] == i].sort_values(by = ['race_date'])['speed'].cummin().shift(1))\n",
    "    len_speeds = list(range(len(horse_min_speeds)))\n",
    "    dates = list(horse.loc[horse['horse_name'] == i].sort_values(by = ['race_date'])['race_date'])\n",
    "    for x in len_speeds:\n",
    "        new_horse = {'horse_name': i, 'min_speed': horse_min_speeds[x], 'race_date': dates[x]}\n",
    "        horse_min_speed.append(new_horse)"
   ]
  },
  {
   "cell_type": "code",
   "execution_count": 348,
   "metadata": {},
   "outputs": [],
   "source": [
    "df = pd.DataFrame(horse_min_speed)"
   ]
  },
  {
   "cell_type": "code",
   "execution_count": 349,
   "metadata": {},
   "outputs": [],
   "source": [
    "horse = horse.merge(df, on=['horse_name', 'race_date'], how='left')"
   ]
  },
  {
   "cell_type": "code",
   "execution_count": 350,
   "metadata": {},
   "outputs": [],
   "source": [
    "horse_relative_min_speed = []\n",
    "for i in unique_race_ids:\n",
    "    race = horse[horse.race_id == i]\n",
    "    race_min_speed = race.min_speed.min()\n",
    "    min_speed_diff = list(race.min_speed - race_min_speed)\n",
    "    horse_names = list(race.horse_name)\n",
    "    len_horses = list(range(len(horse_names)))\n",
    "    dates = list(race.race_date)\n",
    "    for x in len_horses:\n",
    "        new_horse = {'horse_name': horse_names[x], 'min_speed_diff': min_speed_diff[x], 'race_date': dates[x]}\n",
    "        horse_relative_min_speed.append(new_horse)"
   ]
  },
  {
   "cell_type": "code",
   "execution_count": 351,
   "metadata": {},
   "outputs": [],
   "source": [
    "df = pd.DataFrame(horse_relative_min_speed)"
   ]
  },
  {
   "cell_type": "code",
   "execution_count": 352,
   "metadata": {},
   "outputs": [],
   "source": [
    "horse = horse.merge(df, on=['horse_name', 'race_date'], how='left')"
   ]
  },
  {
   "cell_type": "code",
   "execution_count": 353,
   "metadata": {},
   "outputs": [
    {
     "data": {
      "text/plain": [
       "(9923, 41)"
      ]
     },
     "execution_count": 353,
     "metadata": {},
     "output_type": "execute_result"
    }
   ],
   "source": [
    "horse.shape"
   ]
  },
  {
   "cell_type": "markdown",
   "metadata": {},
   "source": [
    "### Find Horse Weight at Max Speed"
   ]
  },
  {
   "cell_type": "code",
   "execution_count": 114,
   "metadata": {},
   "outputs": [],
   "source": [
    "# horse.columns"
   ]
  },
  {
   "cell_type": "code",
   "execution_count": 115,
   "metadata": {},
   "outputs": [],
   "source": [
    "# import math"
   ]
  },
  {
   "cell_type": "code",
   "execution_count": 116,
   "metadata": {},
   "outputs": [],
   "source": [
    "# list_of_horses = list(horse.horse_name.unique())\n",
    "# max_speed_weight = []\n",
    "# # for i in list_of_horses:\n",
    "# horse_max_speeds = list(horse.loc[horse['horse_name'] == 'LUCKY BUBBLES'].sort_values(by = ['race_date'])['speed'].cummax().shift(1))\n",
    "# horse_speeds = list(horse.loc[horse['horse_name'] == 'LUCKY BUBBLES'].sort_values(by = ['race_date'])['speed'].shift(1))\n",
    "# horse_weights = list(horse.loc[horse['horse_name'] == 'LUCKY BUBBLES'].sort_values(by = ['race_date'])['declared_horse_weight'].shift(1))\n",
    "\n",
    "# print(horse_max_speeds)\n",
    "# print(horse_speeds)\n",
    "# print(horse_weights)\n",
    "# # num_of_races = list(range(len(horse_max_speeds)))\n",
    "# # for x in num_of_races:\n",
    "# #     if math.isnan(horse_max_speeds[x]):\n",
    "# #         max_speed_weight.append[None]\n",
    "# #     elif horse_max_speeds[x] == horse_speeds[x]:\n",
    "# #         k = x\n",
    "# #         max_speed_weight.append[horse_weights[x]]\n",
    "# #     elif horse_max_speeds[x] > horse_speeds[x]:\n",
    "# #         max_speed_weight.append[horse_weights[k]]\n",
    "\n",
    "# # len_speeds = list(range(len(horse_max_speeds)))\n",
    "# # dates = list(horse.loc[horse['horse_name'] == 'MASSIVE'].sort_values(by = ['race_date'])['race_date'])\n",
    "# # for x in len_speeds:\n",
    "# #     new_horse = {'horse_name': 'MASSIVE', 'max_speed': horse_max_speeds[x], 'race_date': dates[x]}\n",
    "# #     horse_max_speed.append(new_horse)"
   ]
  },
  {
   "cell_type": "code",
   "execution_count": 117,
   "metadata": {},
   "outputs": [],
   "source": [
    "# print(horse_max_speed)"
   ]
  },
  {
   "cell_type": "code",
   "execution_count": 118,
   "metadata": {},
   "outputs": [],
   "source": [
    "# horse.loc[horse['horse_name'] == 'MASSIVE'].sort_values(by = ['race_date'])"
   ]
  },
  {
   "cell_type": "code",
   "execution_count": 119,
   "metadata": {},
   "outputs": [],
   "source": [
    "# max_speed_weights"
   ]
  },
  {
   "cell_type": "markdown",
   "metadata": {},
   "source": [
    "### Previous Finishing Position at Same Distance"
   ]
  },
  {
   "cell_type": "code",
   "execution_count": 354,
   "metadata": {},
   "outputs": [],
   "source": [
    "list_of_horses = list(horse.horse_name.unique())\n",
    "previous_finishing_position = []\n",
    "for i in list_of_horses:\n",
    "    prev_fin_pos = list(horse.loc[horse['horse_name'] == i].sort_values(by = ['race_date'])['finishing_position'].shift())\n",
    "    len_pos = list(range(len(prev_fin_pos)))\n",
    "    dates = list(horse.loc[horse['horse_name'] == i].sort_values(by = ['race_date'])['race_date'])\n",
    "    for x in len_pos:\n",
    "        new_horse = {'horse_name': i, 'previous_finishing_position': prev_fin_pos[x], 'race_date': dates[x]}\n",
    "        previous_finishing_position.append(new_horse)"
   ]
  },
  {
   "cell_type": "code",
   "execution_count": 355,
   "metadata": {},
   "outputs": [],
   "source": [
    "df = pd.DataFrame(previous_finishing_position)"
   ]
  },
  {
   "cell_type": "code",
   "execution_count": 356,
   "metadata": {},
   "outputs": [],
   "source": [
    "horse = horse.merge(df, on=['horse_name', 'race_date'], how='left')"
   ]
  },
  {
   "cell_type": "code",
   "execution_count": 357,
   "metadata": {
    "scrolled": true
   },
   "outputs": [
    {
     "data": {
      "text/plain": [
       "(9923, 42)"
      ]
     },
     "execution_count": 357,
     "metadata": {},
     "output_type": "execute_result"
    }
   ],
   "source": [
    "horse.shape"
   ]
  },
  {
   "cell_type": "markdown",
   "metadata": {},
   "source": [
    "### Cleaning the Data"
   ]
  },
  {
   "cell_type": "code",
   "execution_count": 124,
   "metadata": {},
   "outputs": [],
   "source": [
    "# horse.win_odds = horse.win_odds.astype('float')"
   ]
  },
  {
   "cell_type": "code",
   "execution_count": 358,
   "metadata": {},
   "outputs": [],
   "source": [
    "horse = horse[horse.average_speed.notnull()]"
   ]
  },
  {
   "cell_type": "code",
   "execution_count": 359,
   "metadata": {},
   "outputs": [],
   "source": [
    "horse = horse[horse.jockey_win_perc.notnull()]"
   ]
  },
  {
   "cell_type": "code",
   "execution_count": 360,
   "metadata": {
    "scrolled": true
   },
   "outputs": [
    {
     "name": "stdout",
     "output_type": "stream",
     "text": [
      "<class 'pandas.core.frame.DataFrame'>\n",
      "Int64Index: 8274 entries, 144 to 9922\n",
      "Data columns (total 42 columns):\n",
      "finishing_position             8274 non-null int64\n",
      "horse_number                   8274 non-null float64\n",
      "horse_name                     8274 non-null object\n",
      "jockey                         8274 non-null object\n",
      "trainer                        8274 non-null object\n",
      "actual_weight                  8274 non-null object\n",
      "declared_horse_weight          8274 non-null object\n",
      "draw                           8274 non-null object\n",
      "finish_time                    8274 non-null float64\n",
      "win_odds                       8274 non-null float64\n",
      "race_id                        8274 non-null object\n",
      "race_date                      8274 non-null datetime64[ns]\n",
      "race_course                    8274 non-null object\n",
      "race_number                    8274 non-null int64\n",
      "race_class                     8274 non-null object\n",
      "race_distance                  8274 non-null int64\n",
      "track_condition                8274 non-null object\n",
      "track                          8274 non-null object\n",
      "origin                         8274 non-null object\n",
      "sire                           8274 non-null object\n",
      "win                            8274 non-null int64\n",
      "win_odds_prob                  8274 non-null float64\n",
      "speed                          8274 non-null float64\n",
      "mu_horse                       8274 non-null float64\n",
      "sigma_horse                    8274 non-null float64\n",
      "horse_rank                     8274 non-null float64\n",
      "mu_jockey                      8274 non-null float64\n",
      "sigma_jockey                   8274 non-null float64\n",
      "jockey_rank                    8274 non-null float64\n",
      "days_since_last_race           8274 non-null float64\n",
      "horse_win_perc                 8274 non-null float64\n",
      "jockey_win_perc                8274 non-null float64\n",
      "trainer_win_perc               8274 non-null float64\n",
      "weight_change                  8274 non-null float64\n",
      "draw_encoded                   8274 non-null float64\n",
      "average_speed                  8274 non-null float64\n",
      "average_speed_diff             8274 non-null float64\n",
      "max_speed                      8274 non-null float64\n",
      "max_speed_diff                 8274 non-null float64\n",
      "min_speed                      8274 non-null float64\n",
      "min_speed_diff                 8274 non-null float64\n",
      "previous_finishing_position    8274 non-null float64\n",
      "dtypes: datetime64[ns](1), float64(24), int64(4), object(13)\n",
      "memory usage: 2.7+ MB\n"
     ]
    }
   ],
   "source": [
    "horse.info()"
   ]
  },
  {
   "cell_type": "markdown",
   "metadata": {},
   "source": [
    "### Decision Tree"
   ]
  },
  {
   "cell_type": "code",
   "execution_count": 372,
   "metadata": {},
   "outputs": [],
   "source": [
    "import category_encoders as ce\n",
    "from sklearn.compose import ColumnTransformer"
   ]
  },
  {
   "cell_type": "code",
   "execution_count": 386,
   "metadata": {
    "scrolled": false
   },
   "outputs": [
    {
     "data": {
      "text/plain": [
       "Index(['finishing_position', 'horse_number', 'horse_name', 'jockey', 'trainer',\n",
       "       'actual_weight', 'declared_horse_weight', 'draw', 'finish_time',\n",
       "       'win_odds', 'race_id', 'race_date', 'race_course', 'race_number',\n",
       "       'race_class', 'race_distance', 'track_condition', 'track', 'origin',\n",
       "       'sire', 'win', 'win_odds_prob', 'speed', 'mu_horse', 'sigma_horse',\n",
       "       'horse_rank', 'mu_jockey', 'sigma_jockey', 'jockey_rank',\n",
       "       'days_since_last_race', 'horse_win_perc', 'jockey_win_perc',\n",
       "       'trainer_win_perc', 'weight_change', 'draw_encoded', 'average_speed',\n",
       "       'average_speed_diff', 'max_speed', 'max_speed_diff', 'min_speed',\n",
       "       'min_speed_diff', 'previous_finishing_position'],\n",
       "      dtype='object')"
      ]
     },
     "execution_count": 386,
     "metadata": {},
     "output_type": "execute_result"
    }
   ],
   "source": [
    "horse.columns"
   ]
  },
  {
   "cell_type": "code",
   "execution_count": null,
   "metadata": {},
   "outputs": [],
   "source": [
    "X_train, X_test, y_train, y_test = train_test_split(X, y, test_size=.25, random_state=0)"
   ]
  },
  {
   "cell_type": "code",
   "execution_count": 378,
   "metadata": {},
   "outputs": [],
   "source": [
    "cat_cols = ['track_condition', 'track', 'race_class']\n",
    "num_cols = ['draw_encoded', 'race_number', 'max_speed_diff', 'min_speed_diff', 'horse_rank', 'jockey_win_perc','actual_weight', 'days_since_last_race', 'win_odds_prob']"
   ]
  },
  {
   "cell_type": "code",
   "execution_count": 388,
   "metadata": {},
   "outputs": [],
   "source": [
    "used_cols = num_cols + cat_cols"
   ]
  },
  {
   "cell_type": "code",
   "execution_count": 389,
   "metadata": {},
   "outputs": [
    {
     "data": {
      "text/plain": [
       "(0.7773045569727846, 0.030766007759518824)"
      ]
     },
     "execution_count": 389,
     "metadata": {},
     "output_type": "execute_result"
    }
   ],
   "source": [
    "num_imputer = SimpleImputer(strategy='median')\n",
    "scaler = RobustScaler()\n",
    "encoder = ce.TargetEncoder(cols=cat_cols, handle_missing=\"value\")\n",
    "\n",
    "num_transformer = make_pipeline(num_imputer, scaler)\n",
    "cat_transformer = make_pipeline(encoder)\n",
    "\n",
    "preprocessor = ColumnTransformer(transformers=[('num', num_transformer, num_cols),('cat', cat_transformer, cat_cols)])\n",
    "\n",
    "model = LogisticRegression()\n",
    "\n",
    "dt_pipe = make_pipeline(preprocessor, model)\n",
    "\n",
    "X, y = horse[used_cols], horse[target]\n",
    "\n",
    "scores = cross_val_score(dt_pipe, X, y, cv=5, scoring = 'roc_auc')\n",
    "scores.mean(), scores.std()"
   ]
  },
  {
   "cell_type": "code",
   "execution_count": 380,
   "metadata": {},
   "outputs": [
    {
     "data": {
      "text/plain": [
       "(0.7717660260328614, 0.025640466024998625)"
      ]
     },
     "execution_count": 380,
     "metadata": {},
     "output_type": "execute_result"
    }
   ],
   "source": [
    "N=3\n",
    "dt = DecisionTreeClassifier(class_weight='balanced', criterion='entropy', \n",
    "                            random_state=42, \n",
    "                            max_depth=N, max_leaf_nodes=2**N-1)\n",
    "\n",
    "imputer = SimpleImputer()\n",
    "dt_pipe = make_pipeline(imputer, dt)\n",
    "\n",
    "used_cols = ['draw_encoded', 'race_number', 'max_speed_diff', 'min_speed_diff', 'horse_rank', 'jockey_win_perc','actual_weight', 'days_since_last_race', 'win_odds']\n",
    "X, y = horse[used_cols], horse[target]\n",
    "\n",
    "scores = cross_val_score(dt_pipe, X.values, y.values, cv=5, scoring='roc_auc', n_jobs=-1)\n",
    "scores.mean(), scores.std()"
   ]
  },
  {
   "cell_type": "markdown",
   "metadata": {},
   "source": [
    "Working model"
   ]
  },
  {
   "cell_type": "code",
   "execution_count": 366,
   "metadata": {},
   "outputs": [
    {
     "data": {
      "text/plain": [
       "(0.7717660260328614, 0.025640466024998625)"
      ]
     },
     "execution_count": 366,
     "metadata": {},
     "output_type": "execute_result"
    }
   ],
   "source": [
    "N=3\n",
    "dt = DecisionTreeClassifier(class_weight='balanced', criterion='entropy', \n",
    "                            random_state=42, \n",
    "                            max_depth=N, max_leaf_nodes=2**N-1)\n",
    "\n",
    "imputer = SimpleImputer()\n",
    "dt_pipe = make_pipeline(imputer, dt)\n",
    "\n",
    "used_cols = ['draw_encoded', 'race_number', 'max_speed_diff', 'min_speed_diff', 'horse_rank', 'jockey_win_perc','actual_weight', 'days_since_last_race', 'win_odds']\n",
    "X, y = horse[used_cols], horse[target]\n",
    "\n",
    "scores = cross_val_score(dt_pipe, X.values, y.values, cv=5, scoring='roc_auc', n_jobs=-1)\n",
    "scores.mean(), scores.std()"
   ]
  },
  {
   "cell_type": "code",
   "execution_count": 158,
   "metadata": {
    "scrolled": true
   },
   "outputs": [
    {
     "data": {
      "text/plain": [
       "(0.770644530768352, 0.025739661886030798)"
      ]
     },
     "execution_count": 158,
     "metadata": {},
     "output_type": "execute_result"
    }
   ],
   "source": [
    "N=3\n",
    "dt = DecisionTreeClassifier(class_weight='balanced', criterion='gini', \n",
    "                            random_state=42, \n",
    "                            max_depth=N, max_leaf_nodes=2**N-1)\n",
    "imputer = SimpleImputer()\n",
    "dt_pipe = make_pipeline(imputer, dt)\n",
    "\n",
    "used_cols = ['draw_encoded', 'race_number', 'max_speed_diff', 'min_speed_diff', 'horse_rank', 'jockey_win_perc','actual_weight', 'days_since_last_race', 'win_odds']\n",
    "X, y = horse[used_cols], horse[target]\n",
    "\n",
    "scores = cross_val_score(dt_pipe, X.values, y.values, cv=5, scoring='roc_auc', n_jobs=-1)\n",
    "scores.mean(), scores.std()"
   ]
  },
  {
   "cell_type": "markdown",
   "metadata": {},
   "source": [
    "Gini appears to produce a higher AUC and a lower standard deviation."
   ]
  },
  {
   "cell_type": "markdown",
   "metadata": {},
   "source": [
    "### Random Forest"
   ]
  },
  {
   "cell_type": "code",
   "execution_count": 183,
   "metadata": {},
   "outputs": [],
   "source": [
    "from sklearn.ensemble import RandomForestClassifier"
   ]
  },
  {
   "cell_type": "code",
   "execution_count": 184,
   "metadata": {},
   "outputs": [],
   "source": [
    "X_train, X_test, y_train, y_test = train_test_split(X, y, test_size=.25, random_state=0)"
   ]
  },
  {
   "cell_type": "code",
   "execution_count": 185,
   "metadata": {},
   "outputs": [],
   "source": [
    "rf = RandomForestClassifier()"
   ]
  },
  {
   "cell_type": "code",
   "execution_count": 197,
   "metadata": {},
   "outputs": [
    {
     "name": "stdout",
     "output_type": "stream",
     "text": [
      "0.7638081779879858 +/- 0.02980962325833098\n"
     ]
    }
   ],
   "source": [
    "rf = RandomForestClassifier(n_estimators=50, criterion='entropy', \n",
    "                            max_depth=8, min_samples_leaf=5, random_state=42, \n",
    "                            class_weight='balanced', n_jobs=-1)\n",
    "\n",
    "scores = cross_val_score(rf, X, y, cv=5, scoring='roc_auc')\n",
    "print(scores.mean(), \"+/-\", scores.std())"
   ]
  },
  {
   "cell_type": "code",
   "execution_count": 187,
   "metadata": {},
   "outputs": [
    {
     "data": {
      "text/plain": [
       "GridSearchCV(cv=3, error_score=nan,\n",
       "             estimator=RandomForestClassifier(bootstrap=True, ccp_alpha=0.0,\n",
       "                                              class_weight=None,\n",
       "                                              criterion='gini', max_depth=None,\n",
       "                                              max_features='auto',\n",
       "                                              max_leaf_nodes=None,\n",
       "                                              max_samples=None,\n",
       "                                              min_impurity_decrease=0.0,\n",
       "                                              min_impurity_split=None,\n",
       "                                              min_samples_leaf=1,\n",
       "                                              min_samples_split=2,\n",
       "                                              min_weight_fraction_leaf=0.0,\n",
       "                                              n_estimators=100, n_jobs=None,\n",
       "                                              oob_score=False,\n",
       "                                              random_state=None, verbose=0,\n",
       "                                              warm_start=False),\n",
       "             iid='deprecated', n_jobs=None,\n",
       "             param_grid={'criterion': ['gini', 'entropy'],\n",
       "                         'max_depth': [4, 6, 8, 10, 12],\n",
       "                         'min_samples_leaf': [1, 3, 5, 7],\n",
       "                         'n_estimators': [10, 25, 50, 100]},\n",
       "             pre_dispatch='2*n_jobs', refit=True, return_train_score=False,\n",
       "             scoring='roc_auc', verbose=0)"
      ]
     },
     "execution_count": 187,
     "metadata": {},
     "output_type": "execute_result"
    }
   ],
   "source": [
    "rf = RandomForestClassifier()\n",
    "\n",
    "grid_params = {'criterion' : ['gini', 'entropy'], \n",
    "              'n_estimators' : [10, 25, 50, 100], \n",
    "              'max_depth': [4, 6, 8, 10, 12], \n",
    "              'min_samples_leaf' : [1, 3, 5, 7]}\n",
    "grid_search = GridSearchCV(rf, grid_params, cv = 3, scoring = 'roc_auc')\n",
    "grid_search.fit(X_train, y_train)"
   ]
  },
  {
   "cell_type": "code",
   "execution_count": 188,
   "metadata": {},
   "outputs": [
    {
     "data": {
      "text/plain": [
       "RandomForestClassifier(bootstrap=True, ccp_alpha=0.0, class_weight=None,\n",
       "                       criterion='entropy', max_depth=4, max_features='auto',\n",
       "                       max_leaf_nodes=None, max_samples=None,\n",
       "                       min_impurity_decrease=0.0, min_impurity_split=None,\n",
       "                       min_samples_leaf=7, min_samples_split=2,\n",
       "                       min_weight_fraction_leaf=0.0, n_estimators=50,\n",
       "                       n_jobs=None, oob_score=False, random_state=None,\n",
       "                       verbose=0, warm_start=False)"
      ]
     },
     "execution_count": 188,
     "metadata": {},
     "output_type": "execute_result"
    }
   ],
   "source": [
    "rf_grid = grid_search.best_estimator_\n",
    "rf_grid.fit(X_train, y_train)"
   ]
  },
  {
   "cell_type": "code",
   "execution_count": 199,
   "metadata": {},
   "outputs": [
    {
     "name": "stdout",
     "output_type": "stream",
     "text": [
      "0.7738580093858992 +/- 0.026604119394645003\n"
     ]
    }
   ],
   "source": [
    "rf = RandomForestClassifier(n_estimators=50, criterion='entropy', \n",
    "                            max_depth=4, min_samples_leaf=7, random_state=42, \n",
    "                            class_weight='balanced', n_jobs=-1)\n",
    "\n",
    "scores = cross_val_score(rf, X, y, cv=5, scoring='roc_auc')\n",
    "print(scores.mean(), \"+/-\", scores.std())"
   ]
  },
  {
   "cell_type": "markdown",
   "metadata": {},
   "source": [
    "### LogReg Baseline "
   ]
  },
  {
   "cell_type": "code",
   "execution_count": 134,
   "metadata": {},
   "outputs": [],
   "source": [
    "from sklearn.metrics import classification_report, confusion_matrix, accuracy_score, balanced_accuracy_score, roc_auc_score\n",
    "from category_encoders import WOEEncoder\n",
    "from sklearn.preprocessing import MinMaxScaler, KBinsDiscretizer, FunctionTransformer\n",
    "from sklearn.model_selection import cross_val_score"
   ]
  },
  {
   "cell_type": "code",
   "execution_count": 222,
   "metadata": {},
   "outputs": [],
   "source": [
    "used_cols = ['draw_encoded', 'race_number', 'max_speed_diff', 'min_speed_diff', \n",
    "             'horse_rank', 'jockey_win_perc','actual_weight', 'days_since_last_race', \n",
    "             'win_odds']\n",
    "X, y = horse[used_cols], horse[target]"
   ]
  },
  {
   "cell_type": "code",
   "execution_count": 223,
   "metadata": {},
   "outputs": [],
   "source": [
    "X_train, X_test, y_train, y_test = train_test_split(X, y, test_size=.25, random_state=0)"
   ]
  },
  {
   "cell_type": "code",
   "execution_count": 224,
   "metadata": {},
   "outputs": [],
   "source": [
    "scaler = MinMaxScaler()\n",
    "lr = LogisticRegression(class_weight='balanced', penalty='l1', C=0.99, solver='liblinear') # LASSO in the LogReg\n",
    "pipe = make_pipeline(scaler, lr)\n",
    "\n",
    "pipe.fit(X_train, y_train)\n",
    "\n",
    "train_preds = pipe.predict(X_train)\n",
    "test_preds = pipe.predict(X_test)"
   ]
  },
  {
   "cell_type": "code",
   "execution_count": 136,
   "metadata": {},
   "outputs": [
    {
     "name": "stdout",
     "output_type": "stream",
     "text": [
      "TRAIN:\n",
      "[[3235 2417]\n",
      " [  97  456]]\n",
      "\n",
      "TEST:\n",
      "[[1073  836]\n",
      " [  31  129]]\n"
     ]
    }
   ],
   "source": [
    "print(\"TRAIN:\")\n",
    "print(confusion_matrix(y_train, train_preds))\n",
    "print('')\n",
    "print(\"TEST:\")\n",
    "print(confusion_matrix(y_test, test_preds))"
   ]
  },
  {
   "cell_type": "code",
   "execution_count": 137,
   "metadata": {},
   "outputs": [
    {
     "name": "stdout",
     "output_type": "stream",
     "text": [
      "Accuracy:\n",
      "=========\n",
      "TRAIN: 0.594842868654311\n",
      "TEST: 0.5809569840502659\n"
     ]
    }
   ],
   "source": [
    "print(\"Accuracy:\"); print(\"=\"*len(\"Accuracy:\"))\n",
    "print(\"TRAIN:\", accuracy_score(y_train, train_preds))\n",
    "print(\"TEST:\", accuracy_score(y_test, test_preds))"
   ]
  },
  {
   "cell_type": "code",
   "execution_count": 138,
   "metadata": {},
   "outputs": [
    {
     "name": "stdout",
     "output_type": "stream",
     "text": [
      "Balanced Accuracy:\n",
      "==================\n",
      "TRAIN: 0.6984784467147604\n",
      "TEST: 0.6841621922472498\n"
     ]
    }
   ],
   "source": [
    "print(\"Balanced Accuracy:\"); print(\"=\"*len(\"Balanced Accuracy:\"))\n",
    "print(\"TRAIN:\", balanced_accuracy_score(y_train, train_preds))\n",
    "print(\"TEST:\", balanced_accuracy_score(y_test, test_preds))"
   ]
  },
  {
   "cell_type": "code",
   "execution_count": 139,
   "metadata": {},
   "outputs": [
    {
     "name": "stdout",
     "output_type": "stream",
     "text": [
      "AUC:\n",
      "====\n",
      "TRAIN: 0.780353319537388\n",
      "TEST: 0.7528810895756941\n"
     ]
    }
   ],
   "source": [
    "train_preds = pipe.predict_proba(X_train)[:,1]\n",
    "test_preds = pipe.predict_proba(X_test)[:,1]\n",
    "\n",
    "print(\"AUC:\"); print(\"=\"*len(\"AUC:\"))\n",
    "print(\"TRAIN:\", roc_auc_score(y_train, train_preds))\n",
    "print(\"TEST:\", roc_auc_score(y_test, test_preds))"
   ]
  },
  {
   "cell_type": "code",
   "execution_count": 180,
   "metadata": {},
   "outputs": [
    {
     "name": "stdout",
     "output_type": "stream",
     "text": [
      "0.6702921348326661 +/- 0.05755549580530418\n"
     ]
    }
   ],
   "source": [
    "def stringify(data):\n",
    "    df = pd.DataFrame(data)\n",
    "    for c in df.columns.tolist():\n",
    "        df[c] = df[c].astype(str)\n",
    "    return df\n",
    "\n",
    "binner = KBinsDiscretizer(n_bins=6, encode='ordinal', strategy='quantile')\n",
    "objectify = FunctionTransformer(func=stringify, \n",
    "                                validate=False)\n",
    "encoder = WOEEncoder()\n",
    "scorecard = make_pipeline(binner, objectify, encoder, lr)\n",
    "\n",
    "scores = cross_val_score(scorecard, X, y, cv=5, scoring='roc_auc')\n",
    "print(scores.mean(), \"+/-\", scores.std())"
   ]
  },
  {
   "cell_type": "code",
   "execution_count": 181,
   "metadata": {
    "scrolled": true
   },
   "outputs": [
    {
     "name": "stdout",
     "output_type": "stream",
     "text": [
      "LOGIT:\n",
      "0.771805485285606 +/- 0.02735373718207819\n",
      "\n",
      "SCORECARD:\n",
      "0.6702921348326661 +/- 0.05755549580530418\n"
     ]
    }
   ],
   "source": [
    "# X, y = make_classification(n_samples=9001, n_features=20, n_redundant=2, n_informative=5, random_state=0, n_clusters_per_class=3)\n",
    "\n",
    "print(\"LOGIT:\")\n",
    "scores = cross_val_score(pipe, X, y, cv=5, scoring='roc_auc')\n",
    "print(scores.mean(), \"+/-\", scores.std())\n",
    "print()\n",
    "print(\"SCORECARD:\")\n",
    "scores = cross_val_score(scorecard, X, y, cv=5, scoring='roc_auc')\n",
    "print(scores.mean(), \"+/-\", scores.std())"
   ]
  },
  {
   "cell_type": "markdown",
   "metadata": {},
   "source": [
    "### Support Vector Machine (SVM)"
   ]
  },
  {
   "cell_type": "code",
   "execution_count": null,
   "metadata": {},
   "outputs": [],
   "source": [
    "used_cols = ['draw_encoded', 'race_number', 'max_speed_diff', 'min_speed_diff', 'horse_rank', 'jockey_win_perc','actual_weight', 'days_since_last_race', 'win_odds']\n",
    "X, y = horse[used_cols], horse[target]"
   ]
  },
  {
   "cell_type": "code",
   "execution_count": 142,
   "metadata": {},
   "outputs": [],
   "source": [
    "from sklearn.experimental import enable_hist_gradient_boosting \n",
    "from sklearn.ensemble import AdaBoostClassifier, GradientBoostingClassifier, HistGradientBoostingClassifier\n",
    "\n",
    "from sklearn.svm import SVC"
   ]
  },
  {
   "cell_type": "code",
   "execution_count": 144,
   "metadata": {},
   "outputs": [
    {
     "name": "stdout",
     "output_type": "stream",
     "text": [
      "0.7807590540541118 +/- 0.029166041137835302\n"
     ]
    }
   ],
   "source": [
    "# used_cols = [c for c in df_10.columns.tolist() if c not in [target]]\n",
    "# X, y = df_10[used_cols], df_10[target]\n",
    "\n",
    "svm = SVC(probability=True, class_weight='balanced', random_state=42)\n",
    "\n",
    "scores = cross_val_score(svm, X, y, cv=5, scoring='roc_auc')\n",
    "print(scores.mean(), \"+/-\", scores.std())"
   ]
  },
  {
   "cell_type": "markdown",
   "metadata": {},
   "source": [
    "### AdaBoost (Very Slow)"
   ]
  },
  {
   "cell_type": "code",
   "execution_count": 145,
   "metadata": {},
   "outputs": [
    {
     "name": "stdout",
     "output_type": "stream",
     "text": [
      "0.7609080495905245 +/- 0.032781309275707396\n"
     ]
    }
   ],
   "source": [
    "clf = AdaBoostClassifier(svm, n_estimators=50, \n",
    "                         learning_rate=0.1, random_state=42)\n",
    "\n",
    "scores = cross_val_score(clf, X, y, cv=5, scoring='roc_auc')\n",
    "print(scores.mean(), \"+/-\", scores.std())"
   ]
  },
  {
   "cell_type": "markdown",
   "metadata": {},
   "source": [
    "### Gradient Boosted Classifier"
   ]
  },
  {
   "cell_type": "code",
   "execution_count": 155,
   "metadata": {},
   "outputs": [
    {
     "name": "stdout",
     "output_type": "stream",
     "text": [
      "0.7679734740089599 +/- 0.022059818490738937\n"
     ]
    }
   ],
   "source": [
    "clf = GradientBoostingClassifier(n_estimators=2000,\n",
    "                                 learning_rate=0.05, random_state=42, \n",
    "                                 subsample=0.9, max_depth=5, max_features=5,\n",
    "                                 min_samples_leaf=2, min_samples_split=5,\n",
    "                                 validation_fraction=0.20, # use 20% of the data as hold-out for early stopping\n",
    "                                 n_iter_no_change=50, # allowed to go 50 iterations without improvement to hold-out score\n",
    "                                 verbose=0)\n",
    "\n",
    "scores = cross_val_score(clf, X, y, cv=5, scoring='roc_auc')\n",
    "print(scores.mean(), \"+/-\", scores.std())"
   ]
  },
  {
   "cell_type": "code",
   "execution_count": 156,
   "metadata": {},
   "outputs": [
    {
     "name": "stdout",
     "output_type": "stream",
     "text": [
      "0.7762193765085372 +/- 0.024414924446882504\n"
     ]
    }
   ],
   "source": [
    "clf = GradientBoostingClassifier(n_estimators=2000,\n",
    "                                 learning_rate=0.01, random_state=42, \n",
    "                                 subsample=0.9, max_depth=5, max_features=5,\n",
    "                                 min_samples_leaf=2, min_samples_split=5,\n",
    "                                 validation_fraction=0.20, # use 20% of the data as hold-out for early stopping\n",
    "                                 n_iter_no_change=50, # allowed to go 50 iterations without improvement to hold-out score\n",
    "                                 verbose=0)\n",
    "\n",
    "scores = cross_val_score(clf, X, y, cv=5, scoring='roc_auc')\n",
    "print(scores.mean(), \"+/-\", scores.std())"
   ]
  },
  {
   "cell_type": "code",
   "execution_count": 157,
   "metadata": {},
   "outputs": [
    {
     "name": "stdout",
     "output_type": "stream",
     "text": [
      "0.7771058078794784 +/- 0.024645114444199423\n"
     ]
    }
   ],
   "source": [
    "clf = GradientBoostingClassifier(n_estimators=2000,\n",
    "                                 learning_rate=0.005, random_state=42, \n",
    "                                 subsample=0.9, max_depth=5, max_features=5,\n",
    "                                 min_samples_leaf=2, min_samples_split=5,\n",
    "                                 validation_fraction=0.20, # use 20% of the data as hold-out for early stopping\n",
    "                                 n_iter_no_change=50, # allowed to go 50 iterations without improvement to hold-out score\n",
    "                                 verbose=0)\n",
    "\n",
    "scores = cross_val_score(clf, X, y, cv=5, scoring='roc_auc')\n",
    "print(scores.mean(), \"+/-\", scores.std())"
   ]
  },
  {
   "cell_type": "markdown",
   "metadata": {},
   "source": [
    "Lowering the learning rate increases the mean AUC but also increases the standard deviation."
   ]
  },
  {
   "cell_type": "code",
   "execution_count": null,
   "metadata": {},
   "outputs": [],
   "source": []
  }
 ],
 "metadata": {
  "kernelspec": {
   "display_name": "Python [conda env:learn-env] *",
   "language": "python",
   "name": "conda-env-learn-env-py"
  },
  "language_info": {
   "codemirror_mode": {
    "name": "ipython",
    "version": 3
   },
   "file_extension": ".py",
   "mimetype": "text/x-python",
   "name": "python",
   "nbconvert_exporter": "python",
   "pygments_lexer": "ipython3",
   "version": "3.6.9"
  }
 },
 "nbformat": 4,
 "nbformat_minor": 2
}
