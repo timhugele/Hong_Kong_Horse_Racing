{
 "cells": [
  {
   "cell_type": "markdown",
   "metadata": {},
   "source": [
    "# Hong Kong Horse Racing"
   ]
  },
  {
   "cell_type": "markdown",
   "metadata": {},
   "source": [
    "### Purpose"
   ]
  },
  {
   "cell_type": "markdown",
   "metadata": {},
   "source": [
    "The purpose of this notebook is to be able to predict the outcome of horse races in Hong Kong."
   ]
  },
  {
   "cell_type": "markdown",
   "metadata": {},
   "source": [
    "### Structure of Notebook"
   ]
  },
  {
   "cell_type": "markdown",
   "metadata": {},
   "source": [
    "* Import the data\n",
    "* Create features\n",
    "    * Win-odds Probability\n",
    "    * True Skill Rankings\n",
    "    * Elapsed time since previous race\n",
    "    * Horse, Jockey, and Trainer Winning Percentages\n",
    "    * Weight Change from Previous Race\n",
    "    * Horse's Average, Maximum, and Minimum Speeds from Previous Races\n",
    "    * Previous Finishing Position at Same Distance\n",
    "* Visuals for Presentation\n",
    "* Models\n",
    "    * Decision Tree\n",
    "    * Logistic Regression\n",
    "    * Random Forest\n",
    "    * SVM\n",
    "    * Ada Boost\n",
    "    * Gradient Boost"
   ]
  },
  {
   "cell_type": "markdown",
   "metadata": {},
   "source": [
    "Import necessary libraries."
   ]
  },
  {
   "cell_type": "code",
   "execution_count": 1,
   "metadata": {},
   "outputs": [],
   "source": [
    "import numpy as np\n",
    "import pandas as pd\n",
    "\n",
    "from sklearn.impute import SimpleImputer\n",
    "from sklearn.preprocessing import MinMaxScaler, RobustScaler\n",
    "from sklearn.linear_model import LogisticRegression\n",
    "from sklearn.tree import DecisionTreeClassifier\n",
    "from sklearn.pipeline import make_pipeline, Pipeline\n",
    "from sklearn.model_selection import cross_val_score, KFold, train_test_split, GridSearchCV\n",
    "from sklearn.metrics import classification_report, confusion_matrix, plot_confusion_matrix, roc_auc_score\n",
    "from sklearn.metrics import plot_roc_curve\n",
    "from category_encoders import OneHotEncoder\n",
    "\n",
    "from sklearn.preprocessing import KBinsDiscretizer\n",
    "\n",
    "from trueskill import Rating, quality_1vs1, rate_1vs1"
   ]
  },
  {
   "cell_type": "code",
   "execution_count": 2,
   "metadata": {},
   "outputs": [
    {
     "data": {
      "text/plain": [
       "<function seaborn.rcmod.set(context='notebook', style='darkgrid', palette='deep', font='sans-serif', font_scale=1, color_codes=True, rc=None)>"
      ]
     },
     "execution_count": 2,
     "metadata": {},
     "output_type": "execute_result"
    }
   ],
   "source": [
    "from matplotlib import pyplot as plt\n",
    "%matplotlib inline\n",
    "import seaborn as sns; sns.set"
   ]
  },
  {
   "cell_type": "markdown",
   "metadata": {},
   "source": [
    "Merge all data into a single dataframe."
   ]
  },
  {
   "cell_type": "code",
   "execution_count": 3,
   "metadata": {},
   "outputs": [],
   "source": [
    "horse = pd.read_csv('race_result_horse.csv')"
   ]
  },
  {
   "cell_type": "code",
   "execution_count": 4,
   "metadata": {},
   "outputs": [],
   "source": [
    "race = pd.read_csv('race_result_race.csv')"
   ]
  },
  {
   "cell_type": "code",
   "execution_count": 5,
   "metadata": {},
   "outputs": [
    {
     "data": {
      "text/plain": [
       "Index(['src', 'race_date', 'race_course', 'race_number', 'race_id',\n",
       "       'race_class', 'race_distance', 'track_condition', 'race_name', 'track',\n",
       "       'sectional_time', 'incident_report'],\n",
       "      dtype='object')"
      ]
     },
     "execution_count": 5,
     "metadata": {},
     "output_type": "execute_result"
    }
   ],
   "source": [
    "race.columns"
   ]
  },
  {
   "cell_type": "code",
   "execution_count": 6,
   "metadata": {},
   "outputs": [],
   "source": [
    "del race['incident_report']"
   ]
  },
  {
   "cell_type": "code",
   "execution_count": 7,
   "metadata": {},
   "outputs": [],
   "source": [
    "profiles = pd.read_csv('horse_profiles_2.csv', index_col = 0)"
   ]
  },
  {
   "cell_type": "code",
   "execution_count": 8,
   "metadata": {},
   "outputs": [],
   "source": [
    "horse = horse.merge(race, on='race_id', how='left')"
   ]
  },
  {
   "cell_type": "code",
   "execution_count": 9,
   "metadata": {},
   "outputs": [],
   "source": [
    "horse = horse.merge(profiles, on='horse_id', how='left')"
   ]
  },
  {
   "cell_type": "markdown",
   "metadata": {},
   "source": [
    "Remove data that I don't want think will be helpful."
   ]
  },
  {
   "cell_type": "code",
   "execution_count": 10,
   "metadata": {},
   "outputs": [],
   "source": [
    "del horse['src']; del horse['import_type']; del horse['age']; \n",
    "del horse['sectional_time']; del horse['length_behind_winner']; del horse['race_name']; \n",
    "del horse['color']; del horse['sex']; del horse['dam']; del horse['dam_sire']; del horse['horse_id'];"
   ]
  },
  {
   "cell_type": "code",
   "execution_count": 11,
   "metadata": {},
   "outputs": [],
   "source": [
    "for i in range(1,7):\n",
    "    del horse['running_position_{}'.format(i)]"
   ]
  },
  {
   "cell_type": "markdown",
   "metadata": {},
   "source": [
    "### Create Target (Finishing 1st)"
   ]
  },
  {
   "cell_type": "markdown",
   "metadata": {},
   "source": [
    "We decided to start our modelling with the simply goal of predicting which horse will come in first place."
   ]
  },
  {
   "cell_type": "code",
   "execution_count": 12,
   "metadata": {},
   "outputs": [],
   "source": [
    "target = 'win'\n",
    "horse[target] = (horse['finishing_position'].isin(['1', '1 DH'])).astype(np.int)"
   ]
  },
  {
   "cell_type": "code",
   "execution_count": 13,
   "metadata": {},
   "outputs": [],
   "source": [
    "horse.drop(index = 17242, inplace = True)"
   ]
  },
  {
   "cell_type": "code",
   "execution_count": 14,
   "metadata": {},
   "outputs": [],
   "source": [
    "horse.drop(index = 11053, inplace = True)"
   ]
  },
  {
   "cell_type": "markdown",
   "metadata": {},
   "source": [
    "# Feature Engineering"
   ]
  },
  {
   "cell_type": "markdown",
   "metadata": {},
   "source": [
    "### Win Odds Probability"
   ]
  },
  {
   "cell_type": "markdown",
   "metadata": {},
   "source": [
    "I created a feature that turned the betting odds into a public expectations probability of which horse will win."
   ]
  },
  {
   "cell_type": "code",
   "execution_count": 15,
   "metadata": {},
   "outputs": [
    {
     "data": {
      "text/plain": [
       "(30187, 21)"
      ]
     },
     "execution_count": 15,
     "metadata": {},
     "output_type": "execute_result"
    }
   ],
   "source": [
    "horse.shape"
   ]
  },
  {
   "cell_type": "code",
   "execution_count": 16,
   "metadata": {},
   "outputs": [],
   "source": [
    "horse = horse[horse['win_odds'] != '---']"
   ]
  },
  {
   "cell_type": "code",
   "execution_count": 17,
   "metadata": {
    "scrolled": true
   },
   "outputs": [],
   "source": [
    "horse['win_odds'] = horse['win_odds'].astype(float)"
   ]
  },
  {
   "cell_type": "code",
   "execution_count": 18,
   "metadata": {},
   "outputs": [],
   "source": [
    "unique_race_ids = list(horse['race_id'].unique())"
   ]
  },
  {
   "cell_type": "code",
   "execution_count": 19,
   "metadata": {},
   "outputs": [],
   "source": [
    "horse_win_odds_prob = []\n",
    "for i in unique_race_ids:\n",
    "    race = horse[horse.race_id == i]\n",
    "    race_win_odds = race.win_odds\n",
    "    inverse_odds = race_win_odds.map(lambda x: 1/x)\n",
    "    inverse_odds_sum = inverse_odds.sum()\n",
    "    scaled_inverse_odds = list(inverse_odds.map(lambda x: x/inverse_odds_sum))\n",
    "    horse_names = list(race.horse_name)\n",
    "    len_horses = list(range(len(horse_names)))\n",
    "    dates = list(race.race_date)\n",
    "    for x in len_horses:\n",
    "        new_horse = {'horse_name': horse_names[x], 'win_odds_prob': scaled_inverse_odds[x], 'race_date': dates[x]}\n",
    "        horse_win_odds_prob.append(new_horse)"
   ]
  },
  {
   "cell_type": "code",
   "execution_count": 20,
   "metadata": {},
   "outputs": [],
   "source": [
    "df = pd.DataFrame(horse_win_odds_prob)"
   ]
  },
  {
   "cell_type": "code",
   "execution_count": 21,
   "metadata": {},
   "outputs": [],
   "source": [
    "horse = horse.merge(df, on=['horse_name', 'race_date'], how='left')"
   ]
  },
  {
   "cell_type": "code",
   "execution_count": 22,
   "metadata": {
    "scrolled": true
   },
   "outputs": [
    {
     "data": {
      "text/plain": [
       "(29598, 22)"
      ]
     },
     "execution_count": 22,
     "metadata": {},
     "output_type": "execute_result"
    }
   ],
   "source": [
    "horse.shape"
   ]
  },
  {
   "cell_type": "code",
   "execution_count": 23,
   "metadata": {},
   "outputs": [],
   "source": [
    "horse['finish_time'] = horse['finish_time'].str.split('.')"
   ]
  },
  {
   "cell_type": "code",
   "execution_count": 24,
   "metadata": {},
   "outputs": [],
   "source": [
    "horse = horse[horse['finish_time'].apply(lambda x: len(x)) == 3]"
   ]
  },
  {
   "cell_type": "code",
   "execution_count": 25,
   "metadata": {},
   "outputs": [],
   "source": [
    "horse['finish_time'] = horse['finish_time'].apply(lambda x: int(x[0])*60.0 + int(x[1]) + int(x[2])*0.01)"
   ]
  },
  {
   "cell_type": "code",
   "execution_count": 26,
   "metadata": {},
   "outputs": [],
   "source": [
    "horse['speed'] = horse['race_distance'] / horse['finish_time']"
   ]
  },
  {
   "cell_type": "markdown",
   "metadata": {},
   "source": [
    "### Horse TrueSkill"
   ]
  },
  {
   "cell_type": "markdown",
   "metadata": {},
   "source": [
    "I used a ranking system that continuously updates with each race a horse runs."
   ]
  },
  {
   "cell_type": "code",
   "execution_count": 28,
   "metadata": {},
   "outputs": [],
   "source": [
    "from trueskill import Rating, quality_1vs1, rate_1vs1"
   ]
  },
  {
   "cell_type": "code",
   "execution_count": 29,
   "metadata": {
    "scrolled": false
   },
   "outputs": [],
   "source": [
    "horse = horse.replace(to_replace =[\"1 DH\"], value =\"1\")\n",
    "horse = horse.replace(to_replace =[\"2 DH\"], value =\"2\")\n",
    "horse = horse.replace(to_replace =[\"3 DH\"], value =\"3\")\n",
    "horse = horse.replace(to_replace =[\"4 DH\"], value =\"4\")\n",
    "horse = horse.replace(to_replace =[\"5 DH\"], value =\"5\")\n",
    "horse = horse.replace(to_replace =[\"6 DH\"], value =\"6\")\n",
    "horse = horse.replace(to_replace =[\"7 DH\"], value =\"7\")\n",
    "horse = horse.replace(to_replace =[\"8 DH\"], value =\"8\")\n",
    "horse = horse.replace(to_replace =[\"9 DH\"], value =\"9\")\n",
    "horse = horse.replace(to_replace =[\"10 DH\"], value =\"10\")\n",
    "horse = horse.replace(to_replace =[\"11 DH\"], value =\"11\")\n",
    "horse = horse.replace(to_replace =[\"12 DH\"], value =\"12\")\n",
    "horse = horse.replace(to_replace =[\"13 DH\"], value =\"13\")\n",
    "horse = horse.replace(to_replace =[\"14 DH\"], value =\"14\")\n",
    "horse = horse[horse.finishing_position != 'WV']\n",
    "horse = horse[horse.finishing_position != 'TNP']\n",
    "horse = horse[horse.finishing_position != 'DISQ']\n",
    "horse = horse[horse.finishing_position != 'WX-A']\n",
    "horse = horse[horse.finishing_position != 'DNF']\n",
    "horse = horse[horse.finishing_position != 'WV-A']\n",
    "horse = horse[horse.finishing_position != 'WX']\n",
    "horse = horse[horse.finishing_position != 'PU']\n",
    "horse = horse[horse.finishing_position != 'UR']\n",
    "horse = horse[horse.finishing_position != 'FE']"
   ]
  },
  {
   "cell_type": "code",
   "execution_count": 30,
   "metadata": {
    "scrolled": true
   },
   "outputs": [],
   "source": [
    "horse['finishing_position'] = horse['finishing_position'].astype(int)"
   ]
  },
  {
   "cell_type": "code",
   "execution_count": 31,
   "metadata": {
    "scrolled": true
   },
   "outputs": [],
   "source": [
    "import trueskill\n",
    "ts = trueskill.TrueSkill()\n",
    "horses = horse['horse_name'].unique().ravel()\n",
    "rating_dict = dict()\n",
    "for x in horses:\n",
    "    rating_dict[x] = ts.create_rating()\n",
    "race_groups = horse.groupby('race_id')\n",
    "def update_ratings(new_ratings, rating_dict):\n",
    "    for key in new_ratings.keys():\n",
    "        rating_dict[key] = new_ratings[key]\n",
    "    return rating_dict\n",
    "feature_list = []\n",
    "mu_list = []\n",
    "sigma_list = []\n",
    "k_list = []\n",
    "true_skill_dicts = []\n",
    "for i, group in enumerate(race_groups):\n",
    "    horse_ids = group[1]['horse_name'].values.tolist()\n",
    "    date = group[1]['race_date'].values.tolist()[0]\n",
    "    horse_dict = [(rating_dict[k],) for k in horse_ids if k in rating_dict]\n",
    "    for k in horse_ids:\n",
    "        mu_list.append(rating_dict[k].mu)\n",
    "        sigma_list.append(rating_dict[k].sigma)\n",
    "        k_list.append(k)\n",
    "        true_skill_values = {'mu_horse': rating_dict[k].mu, 'sigma_horse': rating_dict[k].sigma, 'horse_name': k, 'race_date' : date}\n",
    "        true_skill_dicts.append(true_skill_values)\n",
    "        \n",
    "    # for ranks 0 is winner\n",
    "    ranks = (group[1]['finishing_position']-1).astype(np.int).values.tolist()\n",
    "    updated_horses = ts.rate(horse_dict, ranks=ranks)\n",
    "    updated_horses = dict(zip(horse_ids,list(sum(updated_horses, ()))))    \n",
    "    # update the rating dictionary\n",
    "    rating_dict = update_ratings(updated_horses, rating_dict)"
   ]
  },
  {
   "cell_type": "code",
   "execution_count": 32,
   "metadata": {},
   "outputs": [],
   "source": [
    "# rating_dict"
   ]
  },
  {
   "cell_type": "code",
   "execution_count": 33,
   "metadata": {},
   "outputs": [],
   "source": [
    "df = pd.DataFrame(true_skill_dicts)"
   ]
  },
  {
   "cell_type": "code",
   "execution_count": 34,
   "metadata": {},
   "outputs": [],
   "source": [
    "horse = horse.merge(df, on=['horse_name', 'race_date'], how='left')"
   ]
  },
  {
   "cell_type": "code",
   "execution_count": 36,
   "metadata": {},
   "outputs": [],
   "source": [
    "horse['horse_rank'] = horse.mu_horse - (3 * horse.sigma_horse)"
   ]
  },
  {
   "cell_type": "markdown",
   "metadata": {},
   "source": [
    "### Jockey TrueSkill"
   ]
  },
  {
   "cell_type": "markdown",
   "metadata": {},
   "source": [
    "I repeated the ranking technique for jockeys, however it is not currently working properly."
   ]
  },
  {
   "cell_type": "code",
   "execution_count": 38,
   "metadata": {},
   "outputs": [],
   "source": [
    "import trueskill\n",
    "ts = trueskill.TrueSkill()\n",
    "jockeys = horse['jockey'].unique().ravel()\n",
    "rating_dict = dict()\n",
    "for x in jockeys:\n",
    "    rating_dict[x] = ts.create_rating()\n",
    "race_groups = horse.groupby('race_id')\n",
    "def update_ratings(new_ratings, rating_dict):\n",
    "    for key in new_ratings.keys():\n",
    "        rating_dict[key] = new_ratings[key]\n",
    "    return rating_dict\n",
    "feature_list = []\n",
    "mu_list = []\n",
    "sigma_list = []\n",
    "k_list = []\n",
    "true_skill_dicts = []\n",
    "for i, group in enumerate(race_groups):\n",
    "    jockey_ids = group[1]['jockey'].values.tolist()\n",
    "    date = group[1]['race_date'].values.tolist()[0]\n",
    "    horse_id = group[1]['horse_name'].values.tolist()\n",
    "    jockey_dict = [(rating_dict[k],) for k in jockey_ids if k in rating_dict]\n",
    "    for x, k in enumerate(jockey_ids):\n",
    "        mu_list.append(rating_dict[k].mu)\n",
    "        sigma_list.append(rating_dict[k].sigma)\n",
    "        k_list.append(k)\n",
    "        true_skill_values = {'mu_jockey': rating_dict[k].mu, 'sigma_jockey': rating_dict[k].sigma, 'race_date' : date, 'jockey': k, 'horse_name':horse_id[x]}\n",
    "        true_skill_dicts.append(true_skill_values)\n",
    "        \n",
    "    # for ranks 0 is winner\n",
    "    ranks = (group[1]['finishing_position']-1).astype(np.int).values.tolist()\n",
    "    updated_horses = ts.rate(jockey_dict, ranks=ranks)\n",
    "    updated_horses = dict(zip(jockey_ids,list(sum(updated_horses, ()))))    \n",
    "    # update the rating dictionary\n",
    "    rating_dict = update_ratings(updated_horses, rating_dict)"
   ]
  },
  {
   "cell_type": "code",
   "execution_count": 39,
   "metadata": {},
   "outputs": [],
   "source": [
    "df = pd.DataFrame(true_skill_dicts)"
   ]
  },
  {
   "cell_type": "code",
   "execution_count": 42,
   "metadata": {},
   "outputs": [],
   "source": [
    "horse = horse.merge(df, on=['horse_name', 'race_date', 'jockey'], how='left')"
   ]
  },
  {
   "cell_type": "code",
   "execution_count": 45,
   "metadata": {},
   "outputs": [],
   "source": [
    "horse['jockey_rank'] = horse.mu_jockey - (3 * horse.sigma_jockey)"
   ]
  },
  {
   "cell_type": "markdown",
   "metadata": {},
   "source": [
    "### Elapsed Time Since Previous Race"
   ]
  },
  {
   "cell_type": "markdown",
   "metadata": {},
   "source": [
    "I created a feature that checks how long it has been since the horse last ran in a race. The thinking behind this was that it is possible that if it is too soon since a horse previously ran, the horse could be tired, or if it is too long since the horse has run, it could be out of shape. The potential flaw in this thinking is that the horse could be undergoing training during a long layoff and the trainer could be waiting to unleash the horse until they think that it is ready."
   ]
  },
  {
   "cell_type": "code",
   "execution_count": 47,
   "metadata": {
    "scrolled": true
   },
   "outputs": [],
   "source": [
    "horse['race_date'] = pd.to_datetime(horse['race_date'], format='%Y-%m-%d', errors='ignore')"
   ]
  },
  {
   "cell_type": "code",
   "execution_count": 48,
   "metadata": {},
   "outputs": [],
   "source": [
    "list_of_horses = list(horse.horse_name.unique())\n",
    "horse_time_since_by_race = []\n",
    "for i in list_of_horses:\n",
    "    time_since_last_race = list(horse.loc[horse['horse_name'] == i].sort_values(by = ['race_date'])['race_date'].diff())\n",
    "    len_dates = list(range(len(time_since_last_race)))\n",
    "    dates = list(horse.loc[horse['horse_name'] == i].sort_values(by = ['race_date'])['race_date'])\n",
    "    for x in len_dates:\n",
    "        new_horse = {'horse_name': i, 'days_since_last_race': time_since_last_race[x], 'race_date': dates[x]}\n",
    "        horse_time_since_by_race.append(new_horse)"
   ]
  },
  {
   "cell_type": "code",
   "execution_count": 49,
   "metadata": {},
   "outputs": [],
   "source": [
    "df = pd.DataFrame(horse_time_since_by_race)"
   ]
  },
  {
   "cell_type": "code",
   "execution_count": 50,
   "metadata": {},
   "outputs": [],
   "source": [
    "horse = horse.merge(df, on=['horse_name', 'race_date'], how='left')"
   ]
  },
  {
   "cell_type": "code",
   "execution_count": 51,
   "metadata": {},
   "outputs": [],
   "source": [
    "horse['days_since_last_race'] = horse['days_since_last_race'].astype(int)/(24*60*60*(10**9))"
   ]
  },
  {
   "cell_type": "markdown",
   "metadata": {},
   "source": [
    "### Keep only 1200m Races"
   ]
  },
  {
   "cell_type": "markdown",
   "metadata": {},
   "source": [
    "Since some of our data is based on speeds, I decided to look only at one race distance at a time. Presumably, longer races will involve slower speeds and it would potentially affect the predictions."
   ]
  },
  {
   "cell_type": "code",
   "execution_count": 52,
   "metadata": {},
   "outputs": [],
   "source": [
    "horse = horse[horse.race_distance == 1200]"
   ]
  },
  {
   "cell_type": "markdown",
   "metadata": {},
   "source": [
    "### Horse Winning Percentage"
   ]
  },
  {
   "cell_type": "markdown",
   "metadata": {},
   "source": [
    "I calculated the winning percentages of each the horse, jockey, and trainer."
   ]
  },
  {
   "cell_type": "code",
   "execution_count": 53,
   "metadata": {},
   "outputs": [],
   "source": [
    "list_of_horses = list(horse.horse_name.unique())\n",
    "winning_percentage = []\n",
    "for i in list_of_horses:\n",
    "    wins = list(horse.loc[horse['horse_name'] == i].sort_values(by = ['race_date'])['win'].cumsum().shift())\n",
    "    races = list(range(len(horse.loc[horse['horse_name'] == i].sort_values(by = ['race_date'])['win'])))\n",
    "    dates = list(horse.loc[horse['horse_name'] == i].sort_values(by = ['race_date'])['race_date'])\n",
    "    len_races = list(range(len(races)))\n",
    "    for x in len_races:\n",
    "        try:\n",
    "            win_perc = wins[x]/races[x]\n",
    "            new_horse = {'horse_name': i, 'horse_win_perc': win_perc, 'race_date': dates[x]}\n",
    "            winning_percentage.append(new_horse)\n",
    "        except:\n",
    "            new_horse = {'horse_name': i, 'horse_win_perc': None, 'race_date': dates[x]}\n",
    "            winning_percentage.append(new_horse)"
   ]
  },
  {
   "cell_type": "code",
   "execution_count": 54,
   "metadata": {},
   "outputs": [],
   "source": [
    "df = pd.DataFrame(winning_percentage)"
   ]
  },
  {
   "cell_type": "code",
   "execution_count": 55,
   "metadata": {},
   "outputs": [],
   "source": [
    "horse = horse.merge(df, on=['horse_name', 'race_date'], how='left')"
   ]
  },
  {
   "cell_type": "code",
   "execution_count": 56,
   "metadata": {},
   "outputs": [
    {
     "data": {
      "text/plain": [
       "(9923, 31)"
      ]
     },
     "execution_count": 56,
     "metadata": {},
     "output_type": "execute_result"
    }
   ],
   "source": [
    "horse.shape"
   ]
  },
  {
   "cell_type": "markdown",
   "metadata": {},
   "source": [
    "### Jockey Winning Percentage"
   ]
  },
  {
   "cell_type": "code",
   "execution_count": 57,
   "metadata": {},
   "outputs": [],
   "source": [
    "list_of_jockeys = list(horse.jockey.unique())\n",
    "winning_percentage = []\n",
    "for i in list_of_jockeys:\n",
    "    wins = list(horse.loc[horse['jockey'] == i].sort_values(by = ['race_date'])['win'].cumsum().shift())\n",
    "    races = list(range(len(horse.loc[horse['jockey'] == i].sort_values(by = ['race_date'])['win'])))\n",
    "    dates = list(horse.loc[horse['jockey'] == i].sort_values(by = ['race_date'])['race_date'])\n",
    "    horses = list(horse.loc[horse['jockey'] == i].sort_values(by = ['race_date'])['horse_name'])\n",
    "    len_races = list(range(len(races)))\n",
    "    for x in len_races:\n",
    "        try:\n",
    "            win_perc = wins[x]/races[x]\n",
    "            new_jockey = {'jockey': i, 'jockey_win_perc': win_perc, 'race_date': dates[x], 'horse_name': horses[x]}\n",
    "            winning_percentage.append(new_jockey)\n",
    "        except:\n",
    "            new_jockey = {'jockey': i, 'jockey_win_perc': None, 'race_date': dates[x], 'horse_name': horses[x]}\n",
    "            winning_percentage.append(new_jockey)"
   ]
  },
  {
   "cell_type": "code",
   "execution_count": 58,
   "metadata": {},
   "outputs": [],
   "source": [
    "df = pd.DataFrame(winning_percentage)"
   ]
  },
  {
   "cell_type": "code",
   "execution_count": 59,
   "metadata": {},
   "outputs": [],
   "source": [
    "horse = horse.merge(df, on=['horse_name', 'race_date', 'jockey'], how='left')"
   ]
  },
  {
   "cell_type": "markdown",
   "metadata": {},
   "source": [
    "### Trainer Winning Percentage"
   ]
  },
  {
   "cell_type": "code",
   "execution_count": 61,
   "metadata": {},
   "outputs": [],
   "source": [
    "list_of_trainers = list(horse.trainer.unique())\n",
    "winning_percentage_trainer = []\n",
    "for i in list_of_trainers:\n",
    "    wins = list(horse.loc[horse['trainer'] == i].sort_values(by = ['race_date'])['win'].cumsum().shift())\n",
    "    races = list(range(len(horse.loc[horse['trainer'] == i].sort_values(by = ['race_date'])['win'])))\n",
    "    dates = list(horse.loc[horse['trainer'] == i].sort_values(by = ['race_date'])['race_date'])\n",
    "    horses = list(horse.loc[horse['trainer'] == i].sort_values(by = ['race_date'])['horse_name'])\n",
    "    len_races = list(range(len(races)))\n",
    "    for x in len_races:\n",
    "        try:\n",
    "            win_perc_t = wins[x]/races[x]\n",
    "            new_trainer = {'trainer': i, 'trainer_win_perc': win_perc_t, 'race_date': dates[x], 'horse_name': horses[x]}\n",
    "            winning_percentage_trainer.append(new_trainer)\n",
    "        except:\n",
    "            new_trainer = {'trainer': i, 'trainer_win_perc': None, 'race_date': dates[x], 'horse_name': horses[x]}\n",
    "            winning_percentage_trainer.append(new_trainer)"
   ]
  },
  {
   "cell_type": "code",
   "execution_count": 62,
   "metadata": {},
   "outputs": [],
   "source": [
    "df = pd.DataFrame(winning_percentage_trainer)"
   ]
  },
  {
   "cell_type": "code",
   "execution_count": 63,
   "metadata": {},
   "outputs": [],
   "source": [
    "horse = horse.merge(df, on=['horse_name', 'race_date', 'trainer'], how='left')"
   ]
  },
  {
   "cell_type": "markdown",
   "metadata": {},
   "source": [
    "### Find Weight Change From Previous Race"
   ]
  },
  {
   "cell_type": "markdown",
   "metadata": {},
   "source": [
    "I created a feature that checked how much a horse's weight had changed from the previous race because of the idea that if a horse gained a lot of weight it could be out of shape and if a horse lost weight it could be recovering from illness or could have lost some muscle mass."
   ]
  },
  {
   "cell_type": "code",
   "execution_count": 65,
   "metadata": {},
   "outputs": [],
   "source": [
    "horse = horse[horse['declared_horse_weight'] != '-']"
   ]
  },
  {
   "cell_type": "code",
   "execution_count": 66,
   "metadata": {},
   "outputs": [],
   "source": [
    "list_of_horses = list(horse.horse_name.unique())\n",
    "horse_weight_change_by_race = []\n",
    "for i in list_of_horses:\n",
    "    horse_weight_change = list(horse.loc[horse['horse_name'] == i].sort_values(by = ['race_date'])['declared_horse_weight'].astype('int').pct_change())\n",
    "    len_weights = list(range(len(horse_weight_change)))\n",
    "    dates = list(horse.loc[horse['horse_name'] == i].sort_values(by = ['race_date'])['race_date'])\n",
    "    for x in len_weights:\n",
    "        new_horse = {'horse_name': i, 'weight_change': horse_weight_change[x], 'race_date': dates[x]}\n",
    "        horse_weight_change_by_race.append(new_horse)"
   ]
  },
  {
   "cell_type": "code",
   "execution_count": 67,
   "metadata": {},
   "outputs": [],
   "source": [
    "df = pd.DataFrame(horse_weight_change_by_race)"
   ]
  },
  {
   "cell_type": "code",
   "execution_count": 68,
   "metadata": {},
   "outputs": [],
   "source": [
    "horse = horse.merge(df, on=['horse_name', 'race_date'], how='left')"
   ]
  },
  {
   "cell_type": "markdown",
   "metadata": {},
   "source": [
    "### Encode Draw"
   ]
  },
  {
   "cell_type": "code",
   "execution_count": 200,
   "metadata": {},
   "outputs": [],
   "source": [
    "gp = horse[['draw', target]].groupby('draw').mean().rename({target:'draw_encoded'},axis=1)"
   ]
  },
  {
   "cell_type": "code",
   "execution_count": 78,
   "metadata": {},
   "outputs": [],
   "source": [
    "horse = horse.merge(gp, on='draw', how='left')"
   ]
  },
  {
   "cell_type": "markdown",
   "metadata": {},
   "source": [
    "### Horse Average Speed/Relative Average Speed"
   ]
  },
  {
   "cell_type": "markdown",
   "metadata": {},
   "source": [
    "In order to avoid using future data to predict a race, I created a column for average speed at a particular distance for each horse only using past data. I also found the average for each horse in a particular race and found how much each horse differed from the highest average speed."
   ]
  },
  {
   "cell_type": "code",
   "execution_count": 81,
   "metadata": {
    "scrolled": false
   },
   "outputs": [],
   "source": [
    "list_of_horses = list(horse.horse_name.unique())\n",
    "horse_average_speed_by_race = []\n",
    "for i in list_of_horses:\n",
    "    horse_speeds = list(horse.loc[horse['horse_name'] == i].sort_values(by = ['race_date'])['speed'].expanding().mean().shift(1))\n",
    "    len_speeds = list(range(len(horse_speeds)))\n",
    "    dates = list(horse.loc[horse['horse_name'] == i].sort_values(by = ['race_date'])['race_date'])\n",
    "    for x in len_speeds:\n",
    "        new_horse = {'horse_name': i, 'average_speed': horse_speeds[x], 'race_date': dates[x]}\n",
    "        horse_average_speed_by_race.append(new_horse)"
   ]
  },
  {
   "cell_type": "code",
   "execution_count": 82,
   "metadata": {},
   "outputs": [],
   "source": [
    "df = pd.DataFrame(horse_average_speed_by_race)"
   ]
  },
  {
   "cell_type": "code",
   "execution_count": 83,
   "metadata": {},
   "outputs": [],
   "source": [
    "horse = horse.merge(df, on=['horse_name', 'race_date'], how='left')"
   ]
  },
  {
   "cell_type": "code",
   "execution_count": 86,
   "metadata": {},
   "outputs": [],
   "source": [
    "horse_relative_average_speed = []\n",
    "for i in unique_race_ids:\n",
    "    race = horse[horse.race_id == i]\n",
    "    race_average_speed = race.average_speed.mean()\n",
    "    average_speed_diff = list(-1 * (race.average_speed - race_average_speed))\n",
    "    horse_names = list(race.horse_name)\n",
    "    len_horses = list(range(len(horse_names)))\n",
    "    dates = list(race.race_date)\n",
    "    for x in len_horses:\n",
    "        new_horse = {'horse_name': horse_names[x], 'average_speed_diff': average_speed_diff[x], 'race_date': dates[x]}\n",
    "        horse_relative_average_speed.append(new_horse)"
   ]
  },
  {
   "cell_type": "code",
   "execution_count": 88,
   "metadata": {},
   "outputs": [],
   "source": [
    "df = pd.DataFrame(horse_relative_average_speed)"
   ]
  },
  {
   "cell_type": "code",
   "execution_count": 89,
   "metadata": {},
   "outputs": [],
   "source": [
    "horse = horse.merge(df, on=['horse_name', 'race_date'], how='left')"
   ]
  },
  {
   "cell_type": "markdown",
   "metadata": {},
   "source": [
    "### Max Speed Differential"
   ]
  },
  {
   "cell_type": "markdown",
   "metadata": {},
   "source": [
    "I found the maximum speed that every horse had run at for every race and found the differential with the highest maximum speed in every race."
   ]
  },
  {
   "cell_type": "code",
   "execution_count": 91,
   "metadata": {},
   "outputs": [],
   "source": [
    "list_of_horses = list(horse.horse_name.unique())\n",
    "horse_max_speed = []\n",
    "for i in list_of_horses:\n",
    "    horse_max_speeds = list(horse.loc[horse['horse_name'] == i].sort_values(by = ['race_date'])['speed'].cummax().shift(1))\n",
    "    len_speeds = list(range(len(horse_max_speeds)))\n",
    "    dates = list(horse.loc[horse['horse_name'] == i].sort_values(by = ['race_date'])['race_date'])\n",
    "    for x in len_speeds:\n",
    "        new_horse = {'horse_name': i, 'max_speed': horse_max_speeds[x], 'race_date': dates[x]}\n",
    "        horse_max_speed.append(new_horse)"
   ]
  },
  {
   "cell_type": "code",
   "execution_count": 92,
   "metadata": {},
   "outputs": [],
   "source": [
    "df = pd.DataFrame(horse_max_speed)"
   ]
  },
  {
   "cell_type": "code",
   "execution_count": 93,
   "metadata": {},
   "outputs": [],
   "source": [
    "horse = horse.merge(df, on=['horse_name', 'race_date'], how='left')"
   ]
  },
  {
   "cell_type": "code",
   "execution_count": 94,
   "metadata": {},
   "outputs": [],
   "source": [
    "unique_race_ids = list(horse.race_id.unique())"
   ]
  },
  {
   "cell_type": "code",
   "execution_count": 95,
   "metadata": {},
   "outputs": [],
   "source": [
    "horse_relative_max_speed = []\n",
    "for i in unique_race_ids:\n",
    "    race = horse[horse.race_id == i]\n",
    "    race_max_speed = race.max_speed.max()\n",
    "    max_speed_diff = list(-1 * (race.max_speed - race_max_speed))\n",
    "    horse_names = list(race.horse_name)\n",
    "    len_horses = list(range(len(horse_names)))\n",
    "    dates = list(race.race_date)\n",
    "    for x in len_horses:\n",
    "        new_horse = {'horse_name': horse_names[x], 'max_speed_diff': max_speed_diff[x], 'race_date': dates[x]}\n",
    "        horse_relative_max_speed.append(new_horse)"
   ]
  },
  {
   "cell_type": "code",
   "execution_count": 96,
   "metadata": {},
   "outputs": [],
   "source": [
    "df = pd.DataFrame(horse_relative_max_speed)"
   ]
  },
  {
   "cell_type": "code",
   "execution_count": 97,
   "metadata": {},
   "outputs": [],
   "source": [
    "horse = horse.merge(df, on=['horse_name', 'race_date'], how='left')"
   ]
  },
  {
   "cell_type": "markdown",
   "metadata": {},
   "source": [
    "### Min Speed Differential"
   ]
  },
  {
   "cell_type": "markdown",
   "metadata": {},
   "source": [
    "I repeated the step from above with minimum speed."
   ]
  },
  {
   "cell_type": "code",
   "execution_count": 99,
   "metadata": {},
   "outputs": [],
   "source": [
    "list_of_horses = list(horse.horse_name.unique())\n",
    "horse_min_speed = []\n",
    "for i in list_of_horses:\n",
    "    horse_min_speeds = list(horse.loc[horse['horse_name'] == i].sort_values(by = ['race_date'])['speed'].cummin().shift(1))\n",
    "    len_speeds = list(range(len(horse_min_speeds)))\n",
    "    dates = list(horse.loc[horse['horse_name'] == i].sort_values(by = ['race_date'])['race_date'])\n",
    "    for x in len_speeds:\n",
    "        new_horse = {'horse_name': i, 'min_speed': horse_min_speeds[x], 'race_date': dates[x]}\n",
    "        horse_min_speed.append(new_horse)"
   ]
  },
  {
   "cell_type": "code",
   "execution_count": 100,
   "metadata": {},
   "outputs": [],
   "source": [
    "df = pd.DataFrame(horse_min_speed)"
   ]
  },
  {
   "cell_type": "code",
   "execution_count": 101,
   "metadata": {},
   "outputs": [],
   "source": [
    "horse = horse.merge(df, on=['horse_name', 'race_date'], how='left')"
   ]
  },
  {
   "cell_type": "code",
   "execution_count": 102,
   "metadata": {},
   "outputs": [],
   "source": [
    "horse_relative_min_speed = []\n",
    "for i in unique_race_ids:\n",
    "    race = horse[horse.race_id == i]\n",
    "    race_min_speed = race.min_speed.min()\n",
    "    min_speed_diff = list(race.min_speed - race_min_speed)\n",
    "    horse_names = list(race.horse_name)\n",
    "    len_horses = list(range(len(horse_names)))\n",
    "    dates = list(race.race_date)\n",
    "    for x in len_horses:\n",
    "        new_horse = {'horse_name': horse_names[x], 'min_speed_diff': min_speed_diff[x], 'race_date': dates[x]}\n",
    "        horse_relative_min_speed.append(new_horse)"
   ]
  },
  {
   "cell_type": "code",
   "execution_count": 103,
   "metadata": {},
   "outputs": [],
   "source": [
    "df = pd.DataFrame(horse_relative_min_speed)"
   ]
  },
  {
   "cell_type": "code",
   "execution_count": 104,
   "metadata": {},
   "outputs": [],
   "source": [
    "horse = horse.merge(df, on=['horse_name', 'race_date'], how='left')"
   ]
  },
  {
   "cell_type": "markdown",
   "metadata": {},
   "source": [
    "### Find Horse Weight at Max Speed"
   ]
  },
  {
   "cell_type": "markdown",
   "metadata": {},
   "source": [
    "Here I was attempting to find the weight at which the horse ran at its fasted speed, however I was unable to get the code to work before the conclusion of the project."
   ]
  },
  {
   "cell_type": "code",
   "execution_count": 114,
   "metadata": {},
   "outputs": [],
   "source": [
    "# horse.columns"
   ]
  },
  {
   "cell_type": "code",
   "execution_count": 115,
   "metadata": {},
   "outputs": [],
   "source": [
    "# import math"
   ]
  },
  {
   "cell_type": "code",
   "execution_count": 116,
   "metadata": {},
   "outputs": [],
   "source": [
    "# list_of_horses = list(horse.horse_name.unique())\n",
    "# max_speed_weight = []\n",
    "# # for i in list_of_horses:\n",
    "# horse_max_speeds = list(horse.loc[horse['horse_name'] == 'LUCKY BUBBLES'].sort_values(by = ['race_date'])['speed'].cummax().shift(1))\n",
    "# horse_speeds = list(horse.loc[horse['horse_name'] == 'LUCKY BUBBLES'].sort_values(by = ['race_date'])['speed'].shift(1))\n",
    "# horse_weights = list(horse.loc[horse['horse_name'] == 'LUCKY BUBBLES'].sort_values(by = ['race_date'])['declared_horse_weight'].shift(1))\n",
    "\n",
    "# print(horse_max_speeds)\n",
    "# print(horse_speeds)\n",
    "# print(horse_weights)\n",
    "# # num_of_races = list(range(len(horse_max_speeds)))\n",
    "# # for x in num_of_races:\n",
    "# #     if math.isnan(horse_max_speeds[x]):\n",
    "# #         max_speed_weight.append[None]\n",
    "# #     elif horse_max_speeds[x] == horse_speeds[x]:\n",
    "# #         k = x\n",
    "# #         max_speed_weight.append[horse_weights[x]]\n",
    "# #     elif horse_max_speeds[x] > horse_speeds[x]:\n",
    "# #         max_speed_weight.append[horse_weights[k]]\n",
    "\n",
    "# # len_speeds = list(range(len(horse_max_speeds)))\n",
    "# # dates = list(horse.loc[horse['horse_name'] == 'MASSIVE'].sort_values(by = ['race_date'])['race_date'])\n",
    "# # for x in len_speeds:\n",
    "# #     new_horse = {'horse_name': 'MASSIVE', 'max_speed': horse_max_speeds[x], 'race_date': dates[x]}\n",
    "# #     horse_max_speed.append(new_horse)"
   ]
  },
  {
   "cell_type": "code",
   "execution_count": 117,
   "metadata": {},
   "outputs": [],
   "source": [
    "# print(horse_max_speed)"
   ]
  },
  {
   "cell_type": "code",
   "execution_count": 118,
   "metadata": {},
   "outputs": [],
   "source": [
    "# horse.loc[horse['horse_name'] == 'MASSIVE'].sort_values(by = ['race_date'])"
   ]
  },
  {
   "cell_type": "code",
   "execution_count": 119,
   "metadata": {},
   "outputs": [],
   "source": [
    "# max_speed_weights"
   ]
  },
  {
   "cell_type": "markdown",
   "metadata": {},
   "source": [
    "### Previous Finishing Position at Same Distance"
   ]
  },
  {
   "cell_type": "markdown",
   "metadata": {},
   "source": [
    "I created a feature that found the previous finishing position for each horse with the idea that a horse who as done well recently will most likely continue to do well, and vice versa."
   ]
  },
  {
   "cell_type": "code",
   "execution_count": 106,
   "metadata": {},
   "outputs": [],
   "source": [
    "list_of_horses = list(horse.horse_name.unique())\n",
    "previous_finishing_position = []\n",
    "for i in list_of_horses:\n",
    "    prev_fin_pos = list(horse.loc[horse['horse_name'] == i].sort_values(by = ['race_date'])['finishing_position'].shift())\n",
    "    len_pos = list(range(len(prev_fin_pos)))\n",
    "    dates = list(horse.loc[horse['horse_name'] == i].sort_values(by = ['race_date'])['race_date'])\n",
    "    for x in len_pos:\n",
    "        new_horse = {'horse_name': i, 'previous_finishing_position': prev_fin_pos[x], 'race_date': dates[x]}\n",
    "        previous_finishing_position.append(new_horse)"
   ]
  },
  {
   "cell_type": "code",
   "execution_count": 107,
   "metadata": {},
   "outputs": [],
   "source": [
    "df = pd.DataFrame(previous_finishing_position)"
   ]
  },
  {
   "cell_type": "code",
   "execution_count": 108,
   "metadata": {},
   "outputs": [],
   "source": [
    "horse = horse.merge(df, on=['horse_name', 'race_date'], how='left')"
   ]
  },
  {
   "cell_type": "markdown",
   "metadata": {},
   "source": [
    "### Cleaning the Data"
   ]
  },
  {
   "cell_type": "markdown",
   "metadata": {},
   "source": [
    "Here, I removed the null values from the data."
   ]
  },
  {
   "cell_type": "code",
   "execution_count": 111,
   "metadata": {},
   "outputs": [],
   "source": [
    "horse = horse[horse.average_speed.notnull()]"
   ]
  },
  {
   "cell_type": "code",
   "execution_count": 112,
   "metadata": {},
   "outputs": [],
   "source": [
    "horse = horse[horse.jockey_win_perc.notnull()]"
   ]
  },
  {
   "cell_type": "code",
   "execution_count": 113,
   "metadata": {
    "scrolled": true
   },
   "outputs": [
    {
     "name": "stdout",
     "output_type": "stream",
     "text": [
      "<class 'pandas.core.frame.DataFrame'>\n",
      "Int64Index: 8274 entries, 144 to 9922\n",
      "Data columns (total 42 columns):\n",
      "finishing_position             8274 non-null int64\n",
      "horse_number                   8274 non-null float64\n",
      "horse_name                     8274 non-null object\n",
      "jockey                         8274 non-null object\n",
      "trainer                        8274 non-null object\n",
      "actual_weight                  8274 non-null object\n",
      "declared_horse_weight          8274 non-null object\n",
      "draw                           8274 non-null object\n",
      "finish_time                    8274 non-null float64\n",
      "win_odds                       8274 non-null float64\n",
      "race_id                        8274 non-null object\n",
      "race_date                      8274 non-null datetime64[ns]\n",
      "race_course                    8274 non-null object\n",
      "race_number                    8274 non-null int64\n",
      "race_class                     8274 non-null object\n",
      "race_distance                  8274 non-null int64\n",
      "track_condition                8274 non-null object\n",
      "track                          8274 non-null object\n",
      "origin                         8274 non-null object\n",
      "sire                           8274 non-null object\n",
      "win                            8274 non-null int64\n",
      "win_odds_prob                  8274 non-null float64\n",
      "speed                          8274 non-null float64\n",
      "mu_horse                       8274 non-null float64\n",
      "sigma_horse                    8274 non-null float64\n",
      "horse_rank                     8274 non-null float64\n",
      "mu_jockey                      8274 non-null float64\n",
      "sigma_jockey                   8274 non-null float64\n",
      "jockey_rank                    8274 non-null float64\n",
      "days_since_last_race           8274 non-null float64\n",
      "horse_win_perc                 8274 non-null float64\n",
      "jockey_win_perc                8274 non-null float64\n",
      "trainer_win_perc               8274 non-null float64\n",
      "weight_change                  8274 non-null float64\n",
      "draw_encoded                   8274 non-null float64\n",
      "average_speed                  8274 non-null float64\n",
      "average_speed_diff             8274 non-null float64\n",
      "max_speed                      8274 non-null float64\n",
      "max_speed_diff                 8274 non-null float64\n",
      "min_speed                      8274 non-null float64\n",
      "min_speed_diff                 8274 non-null float64\n",
      "previous_finishing_position    8274 non-null float64\n",
      "dtypes: datetime64[ns](1), float64(24), int64(4), object(13)\n",
      "memory usage: 2.7+ MB\n"
     ]
    }
   ],
   "source": [
    "horse.info()"
   ]
  },
  {
   "cell_type": "markdown",
   "metadata": {},
   "source": [
    "### Visuals"
   ]
  },
  {
   "cell_type": "markdown",
   "metadata": {},
   "source": [
    "I created some visuals to use for the project presentation."
   ]
  },
  {
   "cell_type": "code",
   "execution_count": 169,
   "metadata": {},
   "outputs": [],
   "source": [
    "import matplotlib.pyplot as plt\n",
    "import seaborn as sns; sns.set()\n",
    "%matplotlib inline"
   ]
  },
  {
   "cell_type": "code",
   "execution_count": 168,
   "metadata": {
    "scrolled": true
   },
   "outputs": [
    {
     "data": {
      "text/html": [
       "<div>\n",
       "<style scoped>\n",
       "    .dataframe tbody tr th:only-of-type {\n",
       "        vertical-align: middle;\n",
       "    }\n",
       "\n",
       "    .dataframe tbody tr th {\n",
       "        vertical-align: top;\n",
       "    }\n",
       "\n",
       "    .dataframe thead th {\n",
       "        text-align: right;\n",
       "    }\n",
       "</style>\n",
       "<table border=\"1\" class=\"dataframe\">\n",
       "  <thead>\n",
       "    <tr style=\"text-align: right;\">\n",
       "      <th></th>\n",
       "      <th>finishing_position</th>\n",
       "      <th>horse_number</th>\n",
       "      <th>horse_name</th>\n",
       "      <th>jockey</th>\n",
       "      <th>trainer</th>\n",
       "      <th>actual_weight</th>\n",
       "      <th>declared_horse_weight</th>\n",
       "      <th>draw</th>\n",
       "      <th>finish_time</th>\n",
       "      <th>win_odds</th>\n",
       "      <th>...</th>\n",
       "      <th>trainer_win_perc</th>\n",
       "      <th>weight_change</th>\n",
       "      <th>draw_encoded</th>\n",
       "      <th>average_speed</th>\n",
       "      <th>average_speed_diff</th>\n",
       "      <th>max_speed</th>\n",
       "      <th>max_speed_diff</th>\n",
       "      <th>min_speed</th>\n",
       "      <th>min_speed_diff</th>\n",
       "      <th>previous_finishing_position</th>\n",
       "    </tr>\n",
       "  </thead>\n",
       "  <tbody>\n",
       "    <tr>\n",
       "      <td>144</td>\n",
       "      <td>4</td>\n",
       "      <td>7.0</td>\n",
       "      <td>CHEETAH BOY</td>\n",
       "      <td>C K Tong</td>\n",
       "      <td>Y S Tsui</td>\n",
       "      <td>118</td>\n",
       "      <td>1105</td>\n",
       "      <td>5</td>\n",
       "      <td>69.68</td>\n",
       "      <td>15.0</td>\n",
       "      <td>...</td>\n",
       "      <td>0.166667</td>\n",
       "      <td>-0.004505</td>\n",
       "      <td>0.104551</td>\n",
       "      <td>17.286085</td>\n",
       "      <td>-0.102006</td>\n",
       "      <td>17.286085</td>\n",
       "      <td>-0.000000</td>\n",
       "      <td>17.286085</td>\n",
       "      <td>0.165240</td>\n",
       "      <td>3.0</td>\n",
       "    </tr>\n",
       "    <tr>\n",
       "      <td>145</td>\n",
       "      <td>5</td>\n",
       "      <td>8.0</td>\n",
       "      <td>EN CIVIL</td>\n",
       "      <td>K Teetan</td>\n",
       "      <td>R Gibson</td>\n",
       "      <td>119</td>\n",
       "      <td>1087</td>\n",
       "      <td>2</td>\n",
       "      <td>70.08</td>\n",
       "      <td>35.0</td>\n",
       "      <td>...</td>\n",
       "      <td>0.000000</td>\n",
       "      <td>-0.012716</td>\n",
       "      <td>0.101235</td>\n",
       "      <td>17.120845</td>\n",
       "      <td>0.063234</td>\n",
       "      <td>17.120845</td>\n",
       "      <td>0.165240</td>\n",
       "      <td>17.120845</td>\n",
       "      <td>0.000000</td>\n",
       "      <td>10.0</td>\n",
       "    </tr>\n",
       "    <tr>\n",
       "      <td>149</td>\n",
       "      <td>9</td>\n",
       "      <td>9.0</td>\n",
       "      <td>G-ONE LEADER</td>\n",
       "      <td>T H So</td>\n",
       "      <td>C H Yip</td>\n",
       "      <td>115</td>\n",
       "      <td>1012</td>\n",
       "      <td>1</td>\n",
       "      <td>70.78</td>\n",
       "      <td>44.0</td>\n",
       "      <td>...</td>\n",
       "      <td>0.000000</td>\n",
       "      <td>-0.005894</td>\n",
       "      <td>0.134734</td>\n",
       "      <td>17.145306</td>\n",
       "      <td>0.038772</td>\n",
       "      <td>17.145306</td>\n",
       "      <td>0.140778</td>\n",
       "      <td>17.145306</td>\n",
       "      <td>0.024462</td>\n",
       "      <td>9.0</td>\n",
       "    </tr>\n",
       "    <tr>\n",
       "      <td>151</td>\n",
       "      <td>1</td>\n",
       "      <td>5.0</td>\n",
       "      <td>GRAND PLUS</td>\n",
       "      <td>J Moreira</td>\n",
       "      <td>J Size</td>\n",
       "      <td>123</td>\n",
       "      <td>1073</td>\n",
       "      <td>6</td>\n",
       "      <td>69.53</td>\n",
       "      <td>2.2</td>\n",
       "      <td>...</td>\n",
       "      <td>0.166667</td>\n",
       "      <td>0.000000</td>\n",
       "      <td>0.079110</td>\n",
       "      <td>17.328520</td>\n",
       "      <td>-0.301760</td>\n",
       "      <td>17.328520</td>\n",
       "      <td>-0.000000</td>\n",
       "      <td>17.328520</td>\n",
       "      <td>0.627058</td>\n",
       "      <td>2.0</td>\n",
       "    </tr>\n",
       "    <tr>\n",
       "      <td>153</td>\n",
       "      <td>3</td>\n",
       "      <td>1.0</td>\n",
       "      <td>MEDIC KINGDOM</td>\n",
       "      <td>K Teetan</td>\n",
       "      <td>A T Millard</td>\n",
       "      <td>133</td>\n",
       "      <td>1138</td>\n",
       "      <td>7</td>\n",
       "      <td>70.27</td>\n",
       "      <td>15.0</td>\n",
       "      <td>...</td>\n",
       "      <td>0.125000</td>\n",
       "      <td>-0.007847</td>\n",
       "      <td>0.065351</td>\n",
       "      <td>17.050298</td>\n",
       "      <td>-0.023539</td>\n",
       "      <td>17.050298</td>\n",
       "      <td>0.278221</td>\n",
       "      <td>17.050298</td>\n",
       "      <td>0.348837</td>\n",
       "      <td>9.0</td>\n",
       "    </tr>\n",
       "  </tbody>\n",
       "</table>\n",
       "<p>5 rows × 42 columns</p>\n",
       "</div>"
      ],
      "text/plain": [
       "     finishing_position  horse_number     horse_name     jockey      trainer  \\\n",
       "144                   4           7.0    CHEETAH BOY   C K Tong     Y S Tsui   \n",
       "145                   5           8.0       EN CIVIL   K Teetan     R Gibson   \n",
       "149                   9           9.0   G-ONE LEADER     T H So      C H Yip   \n",
       "151                   1           5.0     GRAND PLUS  J Moreira       J Size   \n",
       "153                   3           1.0  MEDIC KINGDOM   K Teetan  A T Millard   \n",
       "\n",
       "    actual_weight declared_horse_weight draw  finish_time  win_odds  ...  \\\n",
       "144           118                  1105    5        69.68      15.0  ...   \n",
       "145           119                  1087    2        70.08      35.0  ...   \n",
       "149           115                  1012    1        70.78      44.0  ...   \n",
       "151           123                  1073    6        69.53       2.2  ...   \n",
       "153           133                  1138    7        70.27      15.0  ...   \n",
       "\n",
       "    trainer_win_perc weight_change draw_encoded  average_speed  \\\n",
       "144         0.166667     -0.004505     0.104551      17.286085   \n",
       "145         0.000000     -0.012716     0.101235      17.120845   \n",
       "149         0.000000     -0.005894     0.134734      17.145306   \n",
       "151         0.166667      0.000000     0.079110      17.328520   \n",
       "153         0.125000     -0.007847     0.065351      17.050298   \n",
       "\n",
       "    average_speed_diff  max_speed max_speed_diff  min_speed min_speed_diff  \\\n",
       "144          -0.102006  17.286085      -0.000000  17.286085       0.165240   \n",
       "145           0.063234  17.120845       0.165240  17.120845       0.000000   \n",
       "149           0.038772  17.145306       0.140778  17.145306       0.024462   \n",
       "151          -0.301760  17.328520      -0.000000  17.328520       0.627058   \n",
       "153          -0.023539  17.050298       0.278221  17.050298       0.348837   \n",
       "\n",
       "    previous_finishing_position  \n",
       "144                         3.0  \n",
       "145                        10.0  \n",
       "149                         9.0  \n",
       "151                         2.0  \n",
       "153                         9.0  \n",
       "\n",
       "[5 rows x 42 columns]"
      ]
     },
     "execution_count": 168,
     "metadata": {},
     "output_type": "execute_result"
    }
   ],
   "source": [
    "horse.head()"
   ]
  },
  {
   "cell_type": "code",
   "execution_count": 172,
   "metadata": {},
   "outputs": [],
   "source": [
    "corr_matrix = abs(horse.corr())"
   ]
  },
  {
   "cell_type": "code",
   "execution_count": 173,
   "metadata": {
    "scrolled": true
   },
   "outputs": [
    {
     "data": {
      "text/plain": [
       "<matplotlib.axes._subplots.AxesSubplot at 0x1a224c9198>"
      ]
     },
     "execution_count": 173,
     "metadata": {},
     "output_type": "execute_result"
    },
    {
     "data": {
      "image/png": "[encoded data removed]",
      "text/plain": [
       "<Figure size 576x576 with 2 Axes>"
      ]
     },
     "metadata": {
      "needs_background": "light"
     },
     "output_type": "display_data"
    }
   ],
   "source": [
    "plt.figure(figsize = (8,8))\n",
    "sns.heatmap(corr_matrix)"
   ]
  },
  {
   "cell_type": "code",
   "execution_count": 177,
   "metadata": {},
   "outputs": [],
   "source": [
    "a = horse['draw'].astype(int)"
   ]
  },
  {
   "cell_type": "code",
   "execution_count": 203,
   "metadata": {
    "scrolled": true
   },
   "outputs": [
    {
     "data": {
      "image/png": "[encoded data removed]",
      "text/plain": [
       "<Figure size 432x288 with 1 Axes>"
      ]
     },
     "metadata": {
      "needs_background": "light"
     },
     "output_type": "display_data"
    }
   ],
   "source": [
    "sns.barplot(a,horse['win'], color = 'r')\n",
    "plt.title(\"Win % Per Starting Gate\")\n",
    "plt.xlabel(\"Starting Gate\")\n",
    "plt.ylabel(\"Win %\")\n",
    "plt.show()"
   ]
  },
  {
   "cell_type": "code",
   "execution_count": 204,
   "metadata": {
    "scrolled": true
   },
   "outputs": [
    {
     "data": {
      "image/png": "[encoded data removed]",
      "text/plain": [
       "<Figure size 432x288 with 1 Axes>"
      ]
     },
     "metadata": {
      "needs_background": "light"
     },
     "output_type": "display_data"
    }
   ],
   "source": [
    "sns.barplot(a, horse['finishing_position'], color = 'blue')\n",
    "plt.title(\"Average Finishing Position Per Starting Gate\")\n",
    "plt.xlabel(\"Starting Gate\")\n",
    "plt.ylabel(\"Finishing Position\")\n",
    "plt.show()"
   ]
  },
  {
   "cell_type": "code",
   "execution_count": 193,
   "metadata": {
    "scrolled": true
   },
   "outputs": [
    {
     "data": {
      "image/png": "[encoded data removed]",
      "text/plain": [
       "<Figure size 432x288 with 1 Axes>"
      ]
     },
     "metadata": {
      "needs_background": "light"
     },
     "output_type": "display_data"
    }
   ],
   "source": [
    "sns.barplot(horse['origin'],horse['win'])\n",
    "plt.title(\"Win % Per Country of Origin\")\n",
    "plt.xlabel(\"Country of Origin\")\n",
    "plt.ylabel(\"Win %\")\n",
    "plt.show()"
   ]
  },
  {
   "cell_type": "code",
   "execution_count": 262,
   "metadata": {},
   "outputs": [],
   "source": [
    "horse['draw'] = horse['draw'].astype(int)"
   ]
  },
  {
   "cell_type": "code",
   "execution_count": 273,
   "metadata": {},
   "outputs": [
    {
     "data": {
      "image/png": "[encoded data removed]",
      "text/plain": [
       "<Figure size 432x288 with 1 Axes>"
      ]
     },
     "metadata": {
      "needs_background": "light"
     },
     "output_type": "display_data"
    }
   ],
   "source": [
    "df_2 = horse.groupby('draw')['finishing_position'].mean()\n",
    "\n",
    "df_2.plot(x='draw',y='finishing_position')\n",
    "plt.ylim(0, 10)\n",
    "plt.title(\"Average Finishing Position by Draw\")\n",
    "plt.xlabel(\"Draw\")\n",
    "plt.ylabel(\"Average Finishing Position\")\n",
    "plt.show()"
   ]
  },
  {
   "cell_type": "code",
   "execution_count": 231,
   "metadata": {},
   "outputs": [],
   "source": [
    "horse['declared_horse_weight'] = horse['declared_horse_weight'].astype(int)"
   ]
  },
  {
   "cell_type": "code",
   "execution_count": 268,
   "metadata": {},
   "outputs": [
    {
     "data": {
      "image/png": "[encoded data removed]",
      "text/plain": [
       "<Figure size 432x288 with 1 Axes>"
      ]
     },
     "metadata": {
      "needs_background": "light"
     },
     "output_type": "display_data"
    }
   ],
   "source": [
    "df_2 = horse.groupby('finishing_position')['horse_rank'].mean()\n",
    "\n",
    "df_2.plot(x='finishing_position',y='horse_rank')\n",
    "plt.ylim(0, 30)\n",
    "plt.title(\"Average Horse Rank by Finishing Position\")\n",
    "plt.xlabel(\"Finishing Position\")\n",
    "plt.ylabel(\"Average Horse Rank\")\n",
    "plt.show()"
   ]
  },
  {
   "cell_type": "code",
   "execution_count": 240,
   "metadata": {
    "scrolled": false
   },
   "outputs": [
    {
     "data": {
      "image/png": "[encoded data removed]",
      "text/plain": [
       "<Figure size 432x288 with 1 Axes>"
      ]
     },
     "metadata": {
      "needs_background": "light"
     },
     "output_type": "display_data"
    }
   ],
   "source": [
    "df_2 = horse.groupby('finishing_position')['declared_horse_weight'].mean()\n",
    "\n",
    "df_2.plot(x='finishing_position',y='declared_horse_weight')\n",
    "plt.title(\"Average Horse Weight by Finishing Position\")\n",
    "plt.xlabel(\"Finishing Position\")\n",
    "plt.ylabel(\"Average Horse Weight\")\n",
    "plt.show()"
   ]
  },
  {
   "cell_type": "code",
   "execution_count": 279,
   "metadata": {
    "scrolled": false
   },
   "outputs": [
    {
     "data": {
      "image/png": "[encoded data removed]",
      "text/plain": [
       "<Figure size 432x288 with 1 Axes>"
      ]
     },
     "metadata": {
      "needs_background": "light"
     },
     "output_type": "display_data"
    }
   ],
   "source": [
    "df_2 = horse.groupby('finishing_position')['jockey_win_perc'].mean()\n",
    "df_2.plot(x='finishing_position',y='jockey_win_perc')\n",
    "plt.ylim(0, 0.2)\n",
    "plt.title(\"Jockey Winning Percentage by Finishing Position\")\n",
    "plt.xlabel(\"Finishing Position\")\n",
    "plt.ylabel(\"Average Jockey Winning Percentage\")\n",
    "plt.show()"
   ]
  },
  {
   "cell_type": "code",
   "execution_count": 280,
   "metadata": {
    "scrolled": true
   },
   "outputs": [
    {
     "data": {
      "image/png": "[encoded data removed]",
      "text/plain": [
       "<Figure size 432x288 with 1 Axes>"
      ]
     },
     "metadata": {
      "needs_background": "light"
     },
     "output_type": "display_data"
    }
   ],
   "source": [
    "df_2 = horse.groupby('finishing_position')['horse_win_perc'].mean()\n",
    "df_2.plot(x='finishing_position',y='horse_win_perc')\n",
    "plt.ylim(0, 0.2)\n",
    "plt.title(\"Horse Winning Percentage by Finishing Position\")\n",
    "plt.xlabel(\"Finishing Position\")\n",
    "plt.ylabel(\"Average Horse Winning Percentage\")\n",
    "plt.show()"
   ]
  },
  {
   "cell_type": "code",
   "execution_count": 281,
   "metadata": {},
   "outputs": [
    {
     "data": {
      "image/png": "[encoded data removed]",
      "text/plain": [
       "<Figure size 432x288 with 1 Axes>"
      ]
     },
     "metadata": {
      "needs_background": "light"
     },
     "output_type": "display_data"
    }
   ],
   "source": [
    "df_2 = horse.groupby('finishing_position')['trainer_win_perc'].mean()\n",
    "df_2.plot(x='finishing_position',y='trainer_win_perc')\n",
    "plt.ylim(0, 0.2)\n",
    "plt.title(\"Trainer Winning Percentage by Finishing Position\")\n",
    "plt.xlabel(\"Finishing Position\")\n",
    "plt.ylabel(\"Average Trainer Winning Percentage\")\n",
    "plt.show()"
   ]
  },
  {
   "cell_type": "code",
   "execution_count": 244,
   "metadata": {},
   "outputs": [],
   "source": [
    "horse['actual_weight'] = horse['actual_weight'].astype(int)"
   ]
  },
  {
   "cell_type": "code",
   "execution_count": 275,
   "metadata": {
    "scrolled": true
   },
   "outputs": [
    {
     "data": {
      "image/png": "[encoded data removed]",
      "text/plain": [
       "<Figure size 432x288 with 1 Axes>"
      ]
     },
     "metadata": {
      "needs_background": "light"
     },
     "output_type": "display_data"
    }
   ],
   "source": [
    "df_2 = horse.groupby('finishing_position')['actual_weight'].mean()\n",
    "df_2.plot(x='finishing_position',y='actual_weight')\n",
    "plt.title(\"Carried Weight by Finishing Position\")\n",
    "plt.xlabel(\"Finishing Position\")\n",
    "plt.ylabel(\"Average Carried Weight\")\n",
    "plt.show()"
   ]
  },
  {
   "cell_type": "code",
   "execution_count": 274,
   "metadata": {
    "scrolled": true
   },
   "outputs": [
    {
     "data": {
      "image/png": "[encoded data removed]",
      "text/plain": [
       "<Figure size 432x288 with 1 Axes>"
      ]
     },
     "metadata": {
      "needs_background": "light"
     },
     "output_type": "display_data"
    }
   ],
   "source": [
    "df_2 = horse.groupby('finishing_position')['win_odds_prob'].mean()\n",
    "df_2.plot(x='finishing_position',y='win_odds_prob')\n",
    "plt.ylim(0, 0.2)\n",
    "plt.title(\"Win Odds by Finishing Position\")\n",
    "plt.xlabel(\"Finishing Position\")\n",
    "plt.ylabel(\"Average Win Odds Probability\")\n",
    "plt.show()"
   ]
  },
  {
   "cell_type": "code",
   "execution_count": 251,
   "metadata": {
    "scrolled": true
   },
   "outputs": [
    {
     "data": {
      "image/png": "[encoded data removed]",
      "text/plain": [
       "<Figure size 432x288 with 1 Axes>"
      ]
     },
     "metadata": {
      "needs_background": "light"
     },
     "output_type": "display_data"
    }
   ],
   "source": [
    "df_2 = horse.groupby('finishing_position')['weight_change'].mean()\n",
    "df_2.plot(x='finishing_position',y='weight_change')\n",
    "plt.title(\"Weight Change by Finishing Position\")\n",
    "plt.xlabel(\"Finishing Position\")\n",
    "plt.ylabel(\"Average Weight Change\")\n",
    "plt.show()"
   ]
  },
  {
   "cell_type": "code",
   "execution_count": 252,
   "metadata": {
    "scrolled": false
   },
   "outputs": [
    {
     "data": {
      "image/png": "[encoded data removed]",
      "text/plain": [
       "<Figure size 432x288 with 1 Axes>"
      ]
     },
     "metadata": {
      "needs_background": "light"
     },
     "output_type": "display_data"
    }
   ],
   "source": [
    "df_2 = horse.groupby('finishing_position')['trainer_win_perc'].mean()\n",
    "df_2.plot(x='finishing_position',y='trainer_win_perc')\n",
    "plt.title(\"Trainer Winning Percentage by Finishing Position\")\n",
    "plt.xlabel(\"Finishing Position\")\n",
    "plt.ylabel(\"Average Trainer Winning Percentage\")\n",
    "plt.show()"
   ]
  },
  {
   "cell_type": "code",
   "execution_count": 272,
   "metadata": {},
   "outputs": [
    {
     "data": {
      "image/png": "[encoded data removed]",
      "text/plain": [
       "<Figure size 432x288 with 1 Axes>"
      ]
     },
     "metadata": {
      "needs_background": "light"
     },
     "output_type": "display_data"
    }
   ],
   "source": [
    "df_2 = horse.groupby('win_odds_prob')['jockey_rank'].mean()\n",
    "df_2.plot(x='win_odds_prob',y='jockey_rank')\n",
    "plt.title(\"Trainer Winning Percentage by Finishing Position\")\n",
    "plt.xlabel(\"Finishing Position\")\n",
    "plt.ylabel(\"Average Trainer Winning Percentage\")\n",
    "plt.show()"
   ]
  },
  {
   "cell_type": "code",
   "execution_count": 259,
   "metadata": {},
   "outputs": [
    {
     "data": {
      "image/png": "[encoded data removed]",
      "text/plain": [
       "<Figure size 432x288 with 1 Axes>"
      ]
     },
     "metadata": {
      "needs_background": "light"
     },
     "output_type": "display_data"
    }
   ],
   "source": [
    "df_2 = horse.groupby('declared_horse_weight')['horse_win_perc'].mean()\n",
    "df_2.plot(x = 'declared_horse_weight',y = 'horse_win_perc')\n",
    "plt.title(\"Horse Winning Percentage by Horse Weight\")\n",
    "plt.xlabel(\"Horse Weight\")\n",
    "plt.ylabel(\"Horse Winning Percentage\")\n",
    "plt.show()"
   ]
  },
  {
   "cell_type": "code",
   "execution_count": 181,
   "metadata": {
    "scrolled": true
   },
   "outputs": [
    {
     "data": {
      "text/plain": [
       "Index(['finishing_position', 'horse_number', 'horse_name', 'jockey', 'trainer',\n",
       "       'actual_weight', 'declared_horse_weight', 'draw', 'finish_time',\n",
       "       'win_odds', 'race_id', 'race_date', 'race_course', 'race_number',\n",
       "       'race_class', 'race_distance', 'track_condition', 'track', 'origin',\n",
       "       'sire', 'win', 'win_odds_prob', 'speed', 'mu_horse', 'sigma_horse',\n",
       "       'horse_rank', 'mu_jockey', 'sigma_jockey', 'jockey_rank',\n",
       "       'days_since_last_race', 'horse_win_perc', 'jockey_win_perc',\n",
       "       'trainer_win_perc', 'weight_change', 'draw_encoded', 'average_speed',\n",
       "       'average_speed_diff', 'max_speed', 'max_speed_diff', 'min_speed',\n",
       "       'min_speed_diff', 'previous_finishing_position'],\n",
       "      dtype='object')"
      ]
     },
     "execution_count": 181,
     "metadata": {},
     "output_type": "execute_result"
    }
   ],
   "source": [
    "horse.columns"
   ]
  },
  {
   "cell_type": "code",
   "execution_count": 243,
   "metadata": {},
   "outputs": [
    {
     "name": "stdout",
     "output_type": "stream",
     "text": [
      "<class 'pandas.core.frame.DataFrame'>\n",
      "Int64Index: 8274 entries, 144 to 9922\n",
      "Data columns (total 42 columns):\n",
      "finishing_position             8274 non-null int64\n",
      "horse_number                   8274 non-null float64\n",
      "horse_name                     8274 non-null object\n",
      "jockey                         8274 non-null object\n",
      "trainer                        8274 non-null object\n",
      "actual_weight                  8274 non-null object\n",
      "declared_horse_weight          8274 non-null int64\n",
      "draw                           8274 non-null object\n",
      "finish_time                    8274 non-null float64\n",
      "win_odds                       8274 non-null float64\n",
      "race_id                        8274 non-null object\n",
      "race_date                      8274 non-null datetime64[ns]\n",
      "race_course                    8274 non-null object\n",
      "race_number                    8274 non-null int64\n",
      "race_class                     8274 non-null object\n",
      "race_distance                  8274 non-null int64\n",
      "track_condition                8274 non-null object\n",
      "track                          8274 non-null object\n",
      "origin                         8274 non-null object\n",
      "sire                           8274 non-null object\n",
      "win                            8274 non-null int64\n",
      "win_odds_prob                  8274 non-null float64\n",
      "speed                          8274 non-null float64\n",
      "mu_horse                       8274 non-null float64\n",
      "sigma_horse                    8274 non-null float64\n",
      "horse_rank                     8274 non-null float64\n",
      "mu_jockey                      8274 non-null float64\n",
      "sigma_jockey                   8274 non-null float64\n",
      "jockey_rank                    8274 non-null float64\n",
      "days_since_last_race           8274 non-null float64\n",
      "horse_win_perc                 8274 non-null float64\n",
      "jockey_win_perc                8274 non-null float64\n",
      "trainer_win_perc               8274 non-null float64\n",
      "weight_change                  8274 non-null float64\n",
      "draw_encoded                   8274 non-null float64\n",
      "average_speed                  8274 non-null float64\n",
      "average_speed_diff             8274 non-null float64\n",
      "max_speed                      8274 non-null float64\n",
      "max_speed_diff                 8274 non-null float64\n",
      "min_speed                      8274 non-null float64\n",
      "min_speed_diff                 8274 non-null float64\n",
      "previous_finishing_position    8274 non-null float64\n",
      "dtypes: datetime64[ns](1), float64(24), int64(5), object(12)\n",
      "memory usage: 3.0+ MB\n"
     ]
    }
   ],
   "source": [
    "horse.info()"
   ]
  },
  {
   "cell_type": "markdown",
   "metadata": {},
   "source": [
    "# Modeling"
   ]
  },
  {
   "cell_type": "markdown",
   "metadata": {},
   "source": [
    "### Decision Tree"
   ]
  },
  {
   "cell_type": "code",
   "execution_count": 131,
   "metadata": {},
   "outputs": [],
   "source": [
    "import category_encoders as ce\n",
    "from sklearn.compose import ColumnTransformer\n",
    "from sklearn.preprocessing import MinMaxScaler\n",
    "from sklearn.model_selection import cross_val_score"
   ]
  },
  {
   "cell_type": "code",
   "execution_count": 115,
   "metadata": {
    "scrolled": true
   },
   "outputs": [
    {
     "data": {
      "text/plain": [
       "Index(['finishing_position', 'horse_number', 'horse_name', 'jockey', 'trainer',\n",
       "       'actual_weight', 'declared_horse_weight', 'draw', 'finish_time',\n",
       "       'win_odds', 'race_id', 'race_date', 'race_course', 'race_number',\n",
       "       'race_class', 'race_distance', 'track_condition', 'track', 'origin',\n",
       "       'sire', 'win', 'win_odds_prob', 'speed', 'mu_horse', 'sigma_horse',\n",
       "       'horse_rank', 'mu_jockey', 'sigma_jockey', 'jockey_rank',\n",
       "       'days_since_last_race', 'horse_win_perc', 'jockey_win_perc',\n",
       "       'trainer_win_perc', 'weight_change', 'draw_encoded', 'average_speed',\n",
       "       'average_speed_diff', 'max_speed', 'max_speed_diff', 'min_speed',\n",
       "       'min_speed_diff', 'previous_finishing_position'],\n",
       "      dtype='object')"
      ]
     },
     "execution_count": 115,
     "metadata": {},
     "output_type": "execute_result"
    }
   ],
   "source": [
    "horse.columns"
   ]
  },
  {
   "cell_type": "code",
   "execution_count": 126,
   "metadata": {},
   "outputs": [
    {
     "data": {
      "text/plain": [
       "(0.7717660260328614, 0.025640466024998625)"
      ]
     },
     "execution_count": 126,
     "metadata": {},
     "output_type": "execute_result"
    }
   ],
   "source": [
    "N=3\n",
    "dt = DecisionTreeClassifier(class_weight='balanced', criterion='entropy', \n",
    "                            random_state=42, \n",
    "                            max_depth=N, max_leaf_nodes=2**N-1)\n",
    "\n",
    "imputer = SimpleImputer()\n",
    "dt_pipe = make_pipeline(imputer, dt)\n",
    "\n",
    "used_cols = ['draw_encoded', 'race_number', 'max_speed_diff', 'min_speed_diff', 'horse_rank', 'jockey_win_perc','actual_weight', 'days_since_last_race', 'win_odds']\n",
    "X, y = horse[used_cols], horse[target]\n",
    "\n",
    "scores = cross_val_score(dt_pipe, X.values, y.values, cv=5, scoring='roc_auc', n_jobs=-1)\n",
    "scores.mean(), scores.std()"
   ]
  },
  {
   "cell_type": "code",
   "execution_count": 158,
   "metadata": {
    "scrolled": true
   },
   "outputs": [
    {
     "data": {
      "text/plain": [
       "(0.770644530768352, 0.025739661886030798)"
      ]
     },
     "execution_count": 158,
     "metadata": {},
     "output_type": "execute_result"
    }
   ],
   "source": [
    "N=3\n",
    "dt = DecisionTreeClassifier(class_weight='balanced', criterion='gini', \n",
    "                            random_state=42, \n",
    "                            max_depth=N, max_leaf_nodes=2**N-1)\n",
    "imputer = SimpleImputer()\n",
    "dt_pipe = make_pipeline(imputer, dt)\n",
    "\n",
    "used_cols = ['draw_encoded', 'race_number', 'max_speed_diff', 'min_speed_diff', 'horse_rank', 'jockey_win_perc','actual_weight', 'days_since_last_race', 'win_odds']\n",
    "X, y = horse[used_cols], horse[target]\n",
    "\n",
    "scores = cross_val_score(dt_pipe, X.values, y.values, cv=5, scoring='roc_auc', n_jobs=-1)\n",
    "scores.mean(), scores.std()"
   ]
  },
  {
   "cell_type": "markdown",
   "metadata": {},
   "source": [
    "Gini appears to produce a higher AUC and a lower standard deviation."
   ]
  },
  {
   "cell_type": "markdown",
   "metadata": {},
   "source": [
    "### LogReg"
   ]
  },
  {
   "cell_type": "code",
   "execution_count": 127,
   "metadata": {},
   "outputs": [],
   "source": [
    "cat_cols = ['track_condition', 'track', 'race_class']\n",
    "num_cols = ['draw_encoded', 'race_number', 'max_speed_diff', 'min_speed_diff', 'horse_rank', 'jockey_win_perc','actual_weight', 'days_since_last_race', 'win_odds_prob']"
   ]
  },
  {
   "cell_type": "code",
   "execution_count": 128,
   "metadata": {},
   "outputs": [],
   "source": [
    "used_cols = num_cols + cat_cols"
   ]
  },
  {
   "cell_type": "code",
   "execution_count": 133,
   "metadata": {},
   "outputs": [
    {
     "data": {
      "text/plain": [
       "(0.7773045569727846, 0.030766007759518824)"
      ]
     },
     "execution_count": 133,
     "metadata": {},
     "output_type": "execute_result"
    }
   ],
   "source": [
    "num_imputer = SimpleImputer(strategy='median')\n",
    "scaler = RobustScaler()\n",
    "encoder = ce.TargetEncoder(cols=cat_cols, handle_missing=\"value\")\n",
    "\n",
    "num_transformer = make_pipeline(num_imputer, scaler)\n",
    "cat_transformer = make_pipeline(encoder)\n",
    "\n",
    "preprocessor = ColumnTransformer(transformers=[('num', num_transformer, num_cols),('cat', cat_transformer, cat_cols)])\n",
    "\n",
    "model = LogisticRegression()\n",
    "\n",
    "lr_pipe = make_pipeline(preprocessor, model)\n",
    "\n",
    "X, y = horse[used_cols], horse[target]\n",
    "\n",
    "scores = cross_val_score(lr_pipe, X, y, cv=5, scoring = 'roc_auc')\n",
    "scores.mean(), scores.std()"
   ]
  },
  {
   "cell_type": "markdown",
   "metadata": {},
   "source": [
    "### Random Forest"
   ]
  },
  {
   "cell_type": "code",
   "execution_count": 135,
   "metadata": {},
   "outputs": [],
   "source": [
    "from sklearn.ensemble import RandomForestClassifier"
   ]
  },
  {
   "cell_type": "code",
   "execution_count": 184,
   "metadata": {},
   "outputs": [],
   "source": [
    "X_train, X_test, y_train, y_test = train_test_split(X, y, test_size=.25, random_state=0)"
   ]
  },
  {
   "cell_type": "code",
   "execution_count": 197,
   "metadata": {},
   "outputs": [
    {
     "name": "stdout",
     "output_type": "stream",
     "text": [
      "0.7638081779879858 +/- 0.02980962325833098\n"
     ]
    }
   ],
   "source": [
    "rf = RandomForestClassifier(n_estimators=50, criterion='entropy', \n",
    "                            max_depth=8, min_samples_leaf=5, random_state=42, \n",
    "                            class_weight='balanced', n_jobs=-1)\n",
    "\n",
    "scores = cross_val_score(rf, X, y, cv=5, scoring='roc_auc')\n",
    "print(scores.mean(), \"+/-\", scores.std())"
   ]
  },
  {
   "cell_type": "code",
   "execution_count": 187,
   "metadata": {},
   "outputs": [
    {
     "data": {
      "text/plain": [
       "GridSearchCV(cv=3, error_score=nan,\n",
       "             estimator=RandomForestClassifier(bootstrap=True, ccp_alpha=0.0,\n",
       "                                              class_weight=None,\n",
       "                                              criterion='gini', max_depth=None,\n",
       "                                              max_features='auto',\n",
       "                                              max_leaf_nodes=None,\n",
       "                                              max_samples=None,\n",
       "                                              min_impurity_decrease=0.0,\n",
       "                                              min_impurity_split=None,\n",
       "                                              min_samples_leaf=1,\n",
       "                                              min_samples_split=2,\n",
       "                                              min_weight_fraction_leaf=0.0,\n",
       "                                              n_estimators=100, n_jobs=None,\n",
       "                                              oob_score=False,\n",
       "                                              random_state=None, verbose=0,\n",
       "                                              warm_start=False),\n",
       "             iid='deprecated', n_jobs=None,\n",
       "             param_grid={'criterion': ['gini', 'entropy'],\n",
       "                         'max_depth': [4, 6, 8, 10, 12],\n",
       "                         'min_samples_leaf': [1, 3, 5, 7],\n",
       "                         'n_estimators': [10, 25, 50, 100]},\n",
       "             pre_dispatch='2*n_jobs', refit=True, return_train_score=False,\n",
       "             scoring='roc_auc', verbose=0)"
      ]
     },
     "execution_count": 187,
     "metadata": {},
     "output_type": "execute_result"
    }
   ],
   "source": [
    "rf = RandomForestClassifier()\n",
    "\n",
    "grid_params = {'criterion' : ['gini', 'entropy'], \n",
    "              'n_estimators' : [10, 25, 50, 100], \n",
    "              'max_depth': [4, 6, 8, 10, 12], \n",
    "              'min_samples_leaf' : [1, 3, 5, 7]}\n",
    "grid_search = GridSearchCV(rf, grid_params, cv = 3, scoring = 'roc_auc')\n",
    "grid_search.fit(X_train, y_train)"
   ]
  },
  {
   "cell_type": "code",
   "execution_count": 188,
   "metadata": {},
   "outputs": [
    {
     "data": {
      "text/plain": [
       "RandomForestClassifier(bootstrap=True, ccp_alpha=0.0, class_weight=None,\n",
       "                       criterion='entropy', max_depth=4, max_features='auto',\n",
       "                       max_leaf_nodes=None, max_samples=None,\n",
       "                       min_impurity_decrease=0.0, min_impurity_split=None,\n",
       "                       min_samples_leaf=7, min_samples_split=2,\n",
       "                       min_weight_fraction_leaf=0.0, n_estimators=50,\n",
       "                       n_jobs=None, oob_score=False, random_state=None,\n",
       "                       verbose=0, warm_start=False)"
      ]
     },
     "execution_count": 188,
     "metadata": {},
     "output_type": "execute_result"
    }
   ],
   "source": [
    "rf_grid = grid_search.best_estimator_\n",
    "rf_grid.fit(X_train, y_train)"
   ]
  },
  {
   "cell_type": "code",
   "execution_count": 199,
   "metadata": {},
   "outputs": [
    {
     "name": "stdout",
     "output_type": "stream",
     "text": [
      "0.7738580093858992 +/- 0.026604119394645003\n"
     ]
    }
   ],
   "source": [
    "rf = RandomForestClassifier(n_estimators=50, criterion='entropy', \n",
    "                            max_depth=4, min_samples_leaf=7, random_state=42, \n",
    "                            class_weight='balanced', n_jobs=-1)\n",
    "\n",
    "scores = cross_val_score(rf, X, y, cv=5, scoring='roc_auc')\n",
    "print(scores.mean(), \"+/-\", scores.std())"
   ]
  },
  {
   "cell_type": "code",
   "execution_count": 136,
   "metadata": {},
   "outputs": [
    {
     "data": {
      "text/plain": [
       "(0.7720182367297046, 0.026706207226906947)"
      ]
     },
     "execution_count": 136,
     "metadata": {},
     "output_type": "execute_result"
    }
   ],
   "source": [
    "num_imputer = SimpleImputer(strategy='median')\n",
    "scaler = RobustScaler()\n",
    "encoder = ce.TargetEncoder(cols=cat_cols, handle_missing=\"value\")\n",
    "\n",
    "num_transformer = make_pipeline(num_imputer, scaler)\n",
    "cat_transformer = make_pipeline(encoder)\n",
    "\n",
    "preprocessor = ColumnTransformer(transformers=[('num', num_transformer, num_cols),('cat', cat_transformer, cat_cols)])\n",
    "\n",
    "model = RandomForestClassifier(n_estimators=50, criterion='entropy', \n",
    "                            max_depth=4, min_samples_leaf=7, random_state=42, \n",
    "                            class_weight='balanced', n_jobs=-1)\n",
    "\n",
    "rf_pipe = make_pipeline(preprocessor, model)\n",
    "\n",
    "X, y = horse[used_cols], horse[target]\n",
    "\n",
    "scores = cross_val_score(rf_pipe, X, y, cv=5, scoring = 'roc_auc')\n",
    "scores.mean(), scores.std()"
   ]
  },
  {
   "cell_type": "markdown",
   "metadata": {},
   "source": [
    "Random Forest performed worse with encoded categorical data."
   ]
  },
  {
   "cell_type": "markdown",
   "metadata": {},
   "source": [
    "### LogReg 2 "
   ]
  },
  {
   "cell_type": "code",
   "execution_count": 143,
   "metadata": {},
   "outputs": [],
   "source": [
    "from sklearn.metrics import classification_report, confusion_matrix, accuracy_score, balanced_accuracy_score, roc_auc_score\n",
    "from category_encoders import WOEEncoder\n",
    "from sklearn.preprocessing import MinMaxScaler, KBinsDiscretizer, FunctionTransformer\n",
    "from sklearn.model_selection import cross_val_score"
   ]
  },
  {
   "cell_type": "code",
   "execution_count": 137,
   "metadata": {},
   "outputs": [],
   "source": [
    "cat_cols = ['track_condition', 'track', 'race_class']\n",
    "num_cols = ['draw_encoded', 'race_number', 'max_speed_diff', 'min_speed_diff', 'horse_rank', 'jockey_win_perc','actual_weight', 'days_since_last_race', 'win_odds_prob']"
   ]
  },
  {
   "cell_type": "code",
   "execution_count": 138,
   "metadata": {},
   "outputs": [],
   "source": [
    "used_cols = num_cols + cat_cols\n",
    "X, y = horse[used_cols], horse[target]"
   ]
  },
  {
   "cell_type": "code",
   "execution_count": 139,
   "metadata": {},
   "outputs": [],
   "source": [
    "X_train, X_test, y_train, y_test = train_test_split(X, y, test_size=.25, random_state=0)"
   ]
  },
  {
   "cell_type": "code",
   "execution_count": 140,
   "metadata": {},
   "outputs": [],
   "source": [
    "num_imputer = SimpleImputer(strategy='median')\n",
    "scaler = RobustScaler()\n",
    "encoder = ce.TargetEncoder(cols=cat_cols, handle_missing=\"value\")\n",
    "\n",
    "num_transformer = make_pipeline(num_imputer, scaler)\n",
    "cat_transformer = make_pipeline(encoder)\n",
    "\n",
    "preprocessor = ColumnTransformer(transformers=[('num', num_transformer, num_cols),('cat', cat_transformer, cat_cols)])\n",
    "\n",
    "model = LogisticRegression()\n",
    "\n",
    "lr_pipe = make_pipeline(preprocessor, model)\n",
    "\n",
    "lr_pipe.fit(X_train, y_train)\n",
    "\n",
    "train_preds = lr_pipe.predict(X_train)\n",
    "test_preds = lr_pipe.predict(X_test)"
   ]
  },
  {
   "cell_type": "code",
   "execution_count": 141,
   "metadata": {},
   "outputs": [
    {
     "name": "stdout",
     "output_type": "stream",
     "text": [
      "TRAIN:\n",
      "[[5602   50]\n",
      " [ 511   42]]\n",
      "\n",
      "TEST:\n",
      "[[1890   19]\n",
      " [ 145   15]]\n"
     ]
    }
   ],
   "source": [
    "print(\"TRAIN:\")\n",
    "print(confusion_matrix(y_train, train_preds))\n",
    "print('')\n",
    "print(\"TEST:\")\n",
    "print(confusion_matrix(y_test, test_preds))"
   ]
  },
  {
   "cell_type": "code",
   "execution_count": 144,
   "metadata": {},
   "outputs": [
    {
     "name": "stdout",
     "output_type": "stream",
     "text": [
      "Accuracy:\n",
      "=========\n",
      "TRAIN: 0.9095890410958904\n",
      "TEST: 0.9207346544224263\n"
     ]
    }
   ],
   "source": [
    "print(\"Accuracy:\"); print(\"=\"*len(\"Accuracy:\"))\n",
    "print(\"TRAIN:\", accuracy_score(y_train, train_preds))\n",
    "print(\"TEST:\", accuracy_score(y_test, test_preds))"
   ]
  },
  {
   "cell_type": "code",
   "execution_count": 145,
   "metadata": {},
   "outputs": [
    {
     "name": "stdout",
     "output_type": "stream",
     "text": [
      "Balanced Accuracy:\n",
      "==================\n",
      "TRAIN: 0.5335514705223646\n",
      "TEST: 0.5418985725510739\n"
     ]
    }
   ],
   "source": [
    "print(\"Balanced Accuracy:\"); print(\"=\"*len(\"Balanced Accuracy:\"))\n",
    "print(\"TRAIN:\", balanced_accuracy_score(y_train, train_preds))\n",
    "print(\"TEST:\", balanced_accuracy_score(y_test, test_preds))"
   ]
  },
  {
   "cell_type": "code",
   "execution_count": 147,
   "metadata": {},
   "outputs": [
    {
     "name": "stdout",
     "output_type": "stream",
     "text": [
      "AUC:\n",
      "====\n",
      "TRAIN: 0.7843289321963836\n",
      "TEST: 0.7625491094814039\n"
     ]
    }
   ],
   "source": [
    "train_preds = lr_pipe.predict_proba(X_train)[:,1]\n",
    "test_preds = lr_pipe.predict_proba(X_test)[:,1]\n",
    "\n",
    "print(\"AUC:\"); print(\"=\"*len(\"AUC:\"))\n",
    "print(\"TRAIN:\", roc_auc_score(y_train, train_preds))\n",
    "print(\"TEST:\", roc_auc_score(y_test, test_preds))"
   ]
  },
  {
   "cell_type": "markdown",
   "metadata": {},
   "source": [
    "### Support Vector Machine (SVM)"
   ]
  },
  {
   "cell_type": "code",
   "execution_count": 151,
   "metadata": {},
   "outputs": [],
   "source": [
    "used_cols = ['draw_encoded', 'race_number', 'max_speed_diff', 'min_speed_diff', 'horse_rank', 'jockey_win_perc','actual_weight', 'days_since_last_race', 'win_odds']\n",
    "X, y = horse[used_cols], horse[target]"
   ]
  },
  {
   "cell_type": "code",
   "execution_count": 152,
   "metadata": {},
   "outputs": [],
   "source": [
    "from sklearn.experimental import enable_hist_gradient_boosting \n",
    "from sklearn.ensemble import AdaBoostClassifier, GradientBoostingClassifier, HistGradientBoostingClassifier\n",
    "\n",
    "from sklearn.svm import SVC"
   ]
  },
  {
   "cell_type": "code",
   "execution_count": 153,
   "metadata": {},
   "outputs": [
    {
     "name": "stdout",
     "output_type": "stream",
     "text": [
      "0.7807590540541118 +/- 0.029166041137835302\n"
     ]
    }
   ],
   "source": [
    "# used_cols = [c for c in df_10.columns.tolist() if c not in [target]]\n",
    "# X, y = df_10[used_cols], df_10[target]\n",
    "\n",
    "svm = SVC(probability=True, class_weight='balanced', random_state=42)\n",
    "\n",
    "scores = cross_val_score(svm, X, y, cv=5, scoring='roc_auc')\n",
    "print(scores.mean(), \"+/-\", scores.std())"
   ]
  },
  {
   "cell_type": "markdown",
   "metadata": {},
   "source": [
    "### AdaBoost (Very Slow)"
   ]
  },
  {
   "cell_type": "code",
   "execution_count": 145,
   "metadata": {},
   "outputs": [
    {
     "name": "stdout",
     "output_type": "stream",
     "text": [
      "0.7609080495905245 +/- 0.032781309275707396\n"
     ]
    }
   ],
   "source": [
    "clf = AdaBoostClassifier(svm, n_estimators=50, \n",
    "                         learning_rate=0.1, random_state=42)\n",
    "\n",
    "scores = cross_val_score(clf, X, y, cv=5, scoring='roc_auc')\n",
    "print(scores.mean(), \"+/-\", scores.std())"
   ]
  },
  {
   "cell_type": "markdown",
   "metadata": {},
   "source": [
    "### Gradient Boosted Classifier"
   ]
  },
  {
   "cell_type": "code",
   "execution_count": 155,
   "metadata": {},
   "outputs": [
    {
     "name": "stdout",
     "output_type": "stream",
     "text": [
      "0.7679734740089599 +/- 0.022059818490738937\n"
     ]
    }
   ],
   "source": [
    "clf = GradientBoostingClassifier(n_estimators=2000,\n",
    "                                 learning_rate=0.05, random_state=42, \n",
    "                                 subsample=0.9, max_depth=5, max_features=5,\n",
    "                                 min_samples_leaf=2, min_samples_split=5,\n",
    "                                 validation_fraction=0.20, # use 20% of the data as hold-out for early stopping\n",
    "                                 n_iter_no_change=50, # allowed to go 50 iterations without improvement to hold-out score\n",
    "                                 verbose=0)\n",
    "\n",
    "scores = cross_val_score(clf, X, y, cv=5, scoring='roc_auc')\n",
    "print(scores.mean(), \"+/-\", scores.std())"
   ]
  },
  {
   "cell_type": "code",
   "execution_count": 156,
   "metadata": {},
   "outputs": [
    {
     "name": "stdout",
     "output_type": "stream",
     "text": [
      "0.7762193765085372 +/- 0.024414924446882504\n"
     ]
    }
   ],
   "source": [
    "clf = GradientBoostingClassifier(n_estimators=2000,\n",
    "                                 learning_rate=0.01, random_state=42, \n",
    "                                 subsample=0.9, max_depth=5, max_features=5,\n",
    "                                 min_samples_leaf=2, min_samples_split=5,\n",
    "                                 validation_fraction=0.20, # use 20% of the data as hold-out for early stopping\n",
    "                                 n_iter_no_change=50, # allowed to go 50 iterations without improvement to hold-out score\n",
    "                                 verbose=0)\n",
    "\n",
    "scores = cross_val_score(clf, X, y, cv=5, scoring='roc_auc')\n",
    "print(scores.mean(), \"+/-\", scores.std())"
   ]
  },
  {
   "cell_type": "code",
   "execution_count": 157,
   "metadata": {},
   "outputs": [
    {
     "name": "stdout",
     "output_type": "stream",
     "text": [
      "0.7771058078794784 +/- 0.024645114444199423\n"
     ]
    }
   ],
   "source": [
    "clf = GradientBoostingClassifier(n_estimators=2000,\n",
    "                                 learning_rate=0.005, random_state=42, \n",
    "                                 subsample=0.9, max_depth=5, max_features=5,\n",
    "                                 min_samples_leaf=2, min_samples_split=5,\n",
    "                                 validation_fraction=0.20, # use 20% of the data as hold-out for early stopping\n",
    "                                 n_iter_no_change=50, # allowed to go 50 iterations without improvement to hold-out score\n",
    "                                 verbose=0)\n",
    "\n",
    "scores = cross_val_score(clf, X, y, cv=5, scoring='roc_auc')\n",
    "print(scores.mean(), \"+/-\", scores.std())"
   ]
  },
  {
   "cell_type": "markdown",
   "metadata": {},
   "source": [
    "Lowering the learning rate increases the mean AUC but also increases the standard deviation."
   ]
  },
  {
   "cell_type": "code",
   "execution_count": null,
   "metadata": {},
   "outputs": [],
   "source": []
  }
 ],
 "metadata": {
  "kernelspec": {
   "display_name": "Python [conda env:learn-env] *",
   "language": "python",
   "name": "conda-env-learn-env-py"
  },
  "language_info": {
   "codemirror_mode": {
    "name": "ipython",
    "version": 3
   },
   "file_extension": ".py",
   "mimetype": "text/x-python",
   "name": "python",
   "nbconvert_exporter": "python",
   "pygments_lexer": "ipython3",
   "version": "3.6.9"
  }
 },
 "nbformat": 4,
 "nbformat_minor": 2
}
