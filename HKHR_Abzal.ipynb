{
 "cells": [
  {
   "cell_type": "markdown",
   "metadata": {
    "_cell_guid": "b1076dfc-b9ad-4769-8c92-a6c4dae69d19",
    "_uuid": "8f2839f25d086af736a60e9eeb907d3b93b6e0e5"
   },
   "source": [
    "## Mod 3 Project - Hong Kong Horse racing."
   ]
  },
  {
   "cell_type": "markdown",
   "metadata": {},
   "source": [
    "Reference list:\n",
    "\n",
    "https://www.kaggle.com/lantanacamara/hong-kong-horse-racing\n",
    "\n",
    "https://www.kaggle.com/gdaley/hkracing\n",
    "\n",
    "https://racing.hkjc.com/racing/english/racing-info/special_race_index.asp\n",
    "\n",
    "https://online.stat.psu.edu/stat414/node/240/\n",
    "\n",
    "https://online.stat.psu.edu/stat504/node/79/\n",
    "\n",
    "https://online.stat.psu.edu/stat200/lesson/2/2.1/2.1.1/2.1.1.1\n",
    "\n",
    "Trueskill\n",
    "\n",
    "https://www.kaggle.com/gkoundry/rating-teams-using-microsoft-s-trueskill-algorithm\n",
    "\n",
    "https://www.youtube.com/watch?v=VnOVLBbYlU0\n",
    "\n",
    "https://trueskill.org/\n",
    "\n",
    "https://www.kaggle.com/gkoundry/rating-teams-using-microsoft-s-trueskill-algorithm\n",
    "\n",
    "https://www.moserware.com/assets/computing-your-skill/The%20Math%20Behind%20TrueSkill.pdf\n",
    "\n",
    "https://www.gwern.net/docs/statistics/decision/1994-benter.pdf\n",
    "\n",
    "http://finmathblog.blogspot.com/2013/09/the-horse-race-problem-general-solution.html\n",
    "\n",
    "https://www.stat.berkeley.edu/~aldous/157/Papers/ali.pdf\n",
    "\n",
    "https://www.microsoft.com/en-us/research/wp-content/uploads/2007/01/NIPS2006_0688.pdf"
   ]
  },
  {
   "cell_type": "markdown",
   "metadata": {},
   "source": [
    "## 1.Data Exploration."
   ]
  },
  {
   "cell_type": "markdown",
   "metadata": {},
   "source": [
    "###  1.1. Import Libriries."
   ]
  },
  {
   "cell_type": "code",
   "execution_count": 1,
   "metadata": {},
   "outputs": [],
   "source": [
    "import pandas as pd\n",
    "import numpy as np\n",
    "import seaborn as sns\n",
    "import matplotlib.pyplot as plt\n",
    "import seaborn as sns; sns.set()\n",
    "%matplotlib inline\n",
    "\n",
    "from sklearn.tree import DecisionTreeClassifier\n",
    "from sklearn.ensemble import RandomForestClassifier, ExtraTreesClassifier\n",
    "from sklearn.linear_model import LogisticRegression\n",
    "from sklearn.experimental import enable_hist_gradient_boosting \n",
    "from sklearn.ensemble import GradientBoostingClassifier, HistGradientBoostingClassifier\n",
    "from sklearn.svm import SVC\n",
    "\n",
    "from sklearn.preprocessing import KBinsDiscretizer, FunctionTransformer\n",
    "from sklearn.pipeline import make_pipeline\n",
    "from sklearn.compose import ColumnTransformer\n",
    "\n",
    "from sklearn.impute import SimpleImputer\n",
    "from sklearn.preprocessing import MinMaxScaler\n",
    "import category_encoders as ce\n",
    "from sklearn.preprocessing import LabelEncoder\n",
    "\n",
    "from sklearn.model_selection import cross_val_score\n",
    "from sklearn.metrics import precision_score, recall_score, f1_score, roc_auc_score\n",
    "from sklearn.model_selection import train_test_split\n",
    "from sklearn.metrics import plot_confusion_matrix,classification_report, confusion_matrix\n",
    "\n",
    "\n",
    "import warnings\n",
    "warnings.filterwarnings(\"ignore\")"
   ]
  },
  {
   "cell_type": "markdown",
   "metadata": {},
   "source": [
    "### 1.2. Read in two csv files."
   ]
  },
  {
   "cell_type": "code",
   "execution_count": 211,
   "metadata": {
    "_cell_guid": "79c7e3d0-c299-4dcb-8224-4455121ee9b0",
    "_uuid": "d629ff2d2480ee46fbb7e2d37f6b5fab8052498a"
   },
   "outputs": [],
   "source": [
    "PATH = 'hong-kong-horse-racing/race-result-horse.csv'\n",
    "horse = pd.read_csv(PATH)\n",
    "#horse.head()"
   ]
  },
  {
   "cell_type": "code",
   "execution_count": 212,
   "metadata": {},
   "outputs": [
    {
     "data": {
      "text/plain": [
       "(30189, 19)"
      ]
     },
     "execution_count": 212,
     "metadata": {},
     "output_type": "execute_result"
    }
   ],
   "source": [
    "horse.shape"
   ]
  },
  {
   "cell_type": "code",
   "execution_count": 213,
   "metadata": {},
   "outputs": [],
   "source": [
    "PATH = 'hong-kong-horse-racing/race-result-race.csv'\n",
    "race = pd.read_csv(PATH)\n",
    "# race.head()"
   ]
  },
  {
   "cell_type": "code",
   "execution_count": 214,
   "metadata": {},
   "outputs": [
    {
     "data": {
      "text/plain": [
       "(2367, 12)"
      ]
     },
     "execution_count": 214,
     "metadata": {},
     "output_type": "execute_result"
    }
   ],
   "source": [
    "race.shape"
   ]
  },
  {
   "cell_type": "markdown",
   "metadata": {},
   "source": [
    "### 1.3. Merge two data frames."
   ]
  },
  {
   "cell_type": "code",
   "execution_count": 400,
   "metadata": {},
   "outputs": [
    {
     "data": {
      "text/html": [
       "<div>\n",
       "<style scoped>\n",
       "    .dataframe tbody tr th:only-of-type {\n",
       "        vertical-align: middle;\n",
       "    }\n",
       "\n",
       "    .dataframe tbody tr th {\n",
       "        vertical-align: top;\n",
       "    }\n",
       "\n",
       "    .dataframe thead th {\n",
       "        text-align: right;\n",
       "    }\n",
       "</style>\n",
       "<table border=\"1\" class=\"dataframe\">\n",
       "  <thead>\n",
       "    <tr style=\"text-align: right;\">\n",
       "      <th></th>\n",
       "      <th>finishing_position</th>\n",
       "      <th>horse_number</th>\n",
       "      <th>horse_name</th>\n",
       "      <th>horse_id</th>\n",
       "      <th>jockey</th>\n",
       "      <th>trainer</th>\n",
       "      <th>actual_weight</th>\n",
       "      <th>declared_horse_weight</th>\n",
       "      <th>draw</th>\n",
       "      <th>length_behind_winner</th>\n",
       "      <th>...</th>\n",
       "      <th>race_date</th>\n",
       "      <th>race_course</th>\n",
       "      <th>race_number</th>\n",
       "      <th>race_class</th>\n",
       "      <th>race_distance</th>\n",
       "      <th>track_condition</th>\n",
       "      <th>race_name</th>\n",
       "      <th>track</th>\n",
       "      <th>sectional_time</th>\n",
       "      <th>incident_report</th>\n",
       "    </tr>\n",
       "  </thead>\n",
       "  <tbody>\n",
       "    <tr>\n",
       "      <td>0</td>\n",
       "      <td>1</td>\n",
       "      <td>1.0</td>\n",
       "      <td>DOUBLE DRAGON</td>\n",
       "      <td>K019</td>\n",
       "      <td>B Prebble</td>\n",
       "      <td>D Cruz</td>\n",
       "      <td>133</td>\n",
       "      <td>1032</td>\n",
       "      <td>1</td>\n",
       "      <td>-</td>\n",
       "      <td>...</td>\n",
       "      <td>2014-09-14</td>\n",
       "      <td>Sha Tin</td>\n",
       "      <td>1</td>\n",
       "      <td>Class 5</td>\n",
       "      <td>1400</td>\n",
       "      <td>GOOD TO FIRM</td>\n",
       "      <td>TIM WA HANDICAP</td>\n",
       "      <td>TURF - \"A\" COURSE</td>\n",
       "      <td>13.59 22.08 23.11 23.55</td>\n",
       "      <td>\\n                When about to enter the trac...</td>\n",
       "    </tr>\n",
       "    <tr>\n",
       "      <td>1</td>\n",
       "      <td>2</td>\n",
       "      <td>2.0</td>\n",
       "      <td>PLAIN BLUE BANNER</td>\n",
       "      <td>S070</td>\n",
       "      <td>D Whyte</td>\n",
       "      <td>D E Ferraris</td>\n",
       "      <td>133</td>\n",
       "      <td>1075</td>\n",
       "      <td>13</td>\n",
       "      <td>2</td>\n",
       "      <td>...</td>\n",
       "      <td>2014-09-14</td>\n",
       "      <td>Sha Tin</td>\n",
       "      <td>1</td>\n",
       "      <td>Class 5</td>\n",
       "      <td>1400</td>\n",
       "      <td>GOOD TO FIRM</td>\n",
       "      <td>TIM WA HANDICAP</td>\n",
       "      <td>TURF - \"A\" COURSE</td>\n",
       "      <td>13.59 22.08 23.11 23.55</td>\n",
       "      <td>\\n                When about to enter the trac...</td>\n",
       "    </tr>\n",
       "    <tr>\n",
       "      <td>2</td>\n",
       "      <td>3</td>\n",
       "      <td>10.0</td>\n",
       "      <td>GOLDWEAVER</td>\n",
       "      <td>P072</td>\n",
       "      <td>Y T Cheng</td>\n",
       "      <td>Y S Tsui</td>\n",
       "      <td>121</td>\n",
       "      <td>1065</td>\n",
       "      <td>3</td>\n",
       "      <td>2</td>\n",
       "      <td>...</td>\n",
       "      <td>2014-09-14</td>\n",
       "      <td>Sha Tin</td>\n",
       "      <td>1</td>\n",
       "      <td>Class 5</td>\n",
       "      <td>1400</td>\n",
       "      <td>GOOD TO FIRM</td>\n",
       "      <td>TIM WA HANDICAP</td>\n",
       "      <td>TURF - \"A\" COURSE</td>\n",
       "      <td>13.59 22.08 23.11 23.55</td>\n",
       "      <td>\\n                When about to enter the trac...</td>\n",
       "    </tr>\n",
       "  </tbody>\n",
       "</table>\n",
       "<p>3 rows × 30 columns</p>\n",
       "</div>"
      ],
      "text/plain": [
       "  finishing_position  horse_number         horse_name horse_id     jockey  \\\n",
       "0                  1           1.0      DOUBLE DRAGON     K019  B Prebble   \n",
       "1                  2           2.0  PLAIN BLUE BANNER     S070    D Whyte   \n",
       "2                  3          10.0         GOLDWEAVER     P072  Y T Cheng   \n",
       "\n",
       "        trainer actual_weight declared_horse_weight draw length_behind_winner  \\\n",
       "0        D Cruz           133                  1032    1                    -   \n",
       "1  D E Ferraris           133                  1075   13                    2   \n",
       "2      Y S Tsui           121                  1065    3                    2   \n",
       "\n",
       "   ...   race_date  race_course  race_number  race_class race_distance  \\\n",
       "0  ...  2014-09-14      Sha Tin            1     Class 5          1400   \n",
       "1  ...  2014-09-14      Sha Tin            1     Class 5          1400   \n",
       "2  ...  2014-09-14      Sha Tin            1     Class 5          1400   \n",
       "\n",
       "  track_condition        race_name              track  \\\n",
       "0    GOOD TO FIRM  TIM WA HANDICAP  TURF - \"A\" COURSE   \n",
       "1    GOOD TO FIRM  TIM WA HANDICAP  TURF - \"A\" COURSE   \n",
       "2    GOOD TO FIRM  TIM WA HANDICAP  TURF - \"A\" COURSE   \n",
       "\n",
       "            sectional_time                                    incident_report  \n",
       "0  13.59 22.08 23.11 23.55  \\n                When about to enter the trac...  \n",
       "1  13.59 22.08 23.11 23.55  \\n                When about to enter the trac...  \n",
       "2  13.59 22.08 23.11 23.55  \\n                When about to enter the trac...  \n",
       "\n",
       "[3 rows x 30 columns]"
      ]
     },
     "execution_count": 400,
     "metadata": {},
     "output_type": "execute_result"
    }
   ],
   "source": [
    "df = horse.merge(race, on='race_id', how='left')\n",
    "df.head(3)"
   ]
  },
  {
   "cell_type": "code",
   "execution_count": 401,
   "metadata": {},
   "outputs": [
    {
     "data": {
      "text/plain": [
       "(30189, 30)"
      ]
     },
     "execution_count": 401,
     "metadata": {},
     "output_type": "execute_result"
    }
   ],
   "source": [
    "df.shape"
   ]
  },
  {
   "cell_type": "markdown",
   "metadata": {},
   "source": [
    "### 1.4. Drop some columns."
   ]
  },
  {
   "cell_type": "code",
   "execution_count": 402,
   "metadata": {},
   "outputs": [],
   "source": [
    "df.drop(columns=['horse_number','horse_name', 'src', 'length_behind_winner',\n",
    "                 'sectional_time', 'incident_report'],\n",
    "        axis=1, inplace=True)"
   ]
  },
  {
   "cell_type": "code",
   "execution_count": 403,
   "metadata": {},
   "outputs": [],
   "source": [
    "for i in range(1,7):\n",
    "    del df['running_position_{}'.format(i)]"
   ]
  },
  {
   "cell_type": "code",
   "execution_count": 404,
   "metadata": {},
   "outputs": [
    {
     "data": {
      "text/plain": [
       "finishing_position       2\n",
       "horse_id                 0\n",
       "jockey                   0\n",
       "trainer                  0\n",
       "actual_weight            0\n",
       "declared_horse_weight    0\n",
       "draw                     0\n",
       "finish_time              0\n",
       "win_odds                 0\n",
       "race_id                  0\n",
       "race_date                0\n",
       "race_course              0\n",
       "race_number              0\n",
       "race_class               0\n",
       "race_distance            0\n",
       "track_condition          0\n",
       "race_name                0\n",
       "track                    0\n",
       "dtype: int64"
      ]
     },
     "execution_count": 404,
     "metadata": {},
     "output_type": "execute_result"
    }
   ],
   "source": [
    "# check for Nan values\n",
    "df.isna().sum()"
   ]
  },
  {
   "cell_type": "code",
   "execution_count": 405,
   "metadata": {},
   "outputs": [],
   "source": [
    "# Drop NaN values\n",
    "df.dropna(subset=['finishing_position'], axis=0,inplace=True)"
   ]
  },
  {
   "cell_type": "code",
   "execution_count": 406,
   "metadata": {},
   "outputs": [
    {
     "data": {
      "text/plain": [
       "array(['1', '2', '3', '4', '5', '6', '7', '8', '9', '10', '11', '12',\n",
       "       '13', 'WV-A', '14', 'WV', '9 DH', '2 DH', 'WX', 'PU', '1 DH',\n",
       "       '8 DH', 'UR', 'FE', '4 DH', '10 DH', 'TNP', '5 DH', 'DISQ',\n",
       "       '11 DH', '12 DH', '3 DH', '7 DH', 'WX-A', 'DNF', '6 DH'],\n",
       "      dtype=object)"
      ]
     },
     "execution_count": 406,
     "metadata": {},
     "output_type": "execute_result"
    }
   ],
   "source": [
    "df['finishing_position'].unique()"
   ]
  },
  {
   "cell_type": "code",
   "execution_count": 407,
   "metadata": {},
   "outputs": [
    {
     "name": "stdout",
     "output_type": "stream",
     "text": [
      "<class 'pandas.core.frame.DataFrame'>\n",
      "Int64Index: 30187 entries, 0 to 30188\n",
      "Data columns (total 18 columns):\n",
      "finishing_position       30187 non-null object\n",
      "horse_id                 30187 non-null object\n",
      "jockey                   30187 non-null object\n",
      "trainer                  30187 non-null object\n",
      "actual_weight            30187 non-null object\n",
      "declared_horse_weight    30187 non-null object\n",
      "draw                     30187 non-null object\n",
      "finish_time              30187 non-null object\n",
      "win_odds                 30187 non-null object\n",
      "race_id                  30187 non-null object\n",
      "race_date                30187 non-null object\n",
      "race_course              30187 non-null object\n",
      "race_number              30187 non-null int64\n",
      "race_class               30187 non-null object\n",
      "race_distance            30187 non-null int64\n",
      "track_condition          30187 non-null object\n",
      "race_name                30187 non-null object\n",
      "track                    30187 non-null object\n",
      "dtypes: int64(2), object(16)\n",
      "memory usage: 4.4+ MB\n"
     ]
    }
   ],
   "source": [
    "# df.duplicated().sum()\n",
    "df.info()"
   ]
  },
  {
   "cell_type": "code",
   "execution_count": 408,
   "metadata": {},
   "outputs": [],
   "source": [
    "# Work with finish time\n",
    "df['finish_time'] = df['finish_time'].str.split('.')"
   ]
  },
  {
   "cell_type": "code",
   "execution_count": 409,
   "metadata": {},
   "outputs": [],
   "source": [
    "# throw-away horses who did not finish\n",
    "df = df[df['finish_time'].apply(lambda x: len(x)) == 3]\n",
    "\n",
    "# finish time in seconds\n",
    "df['finish_time'] = df['finish_time'].apply(lambda x: \n",
    "                                            int(x[0])*60.0 + int(x[1]) + int(x[2])*0.01)"
   ]
  },
  {
   "cell_type": "code",
   "execution_count": 410,
   "metadata": {},
   "outputs": [
    {
     "data": {
      "text/plain": [
       "Index(['finishing_position', 'horse_id', 'jockey', 'trainer', 'actual_weight',\n",
       "       'declared_horse_weight', 'draw', 'finish_time', 'win_odds', 'race_id',\n",
       "       'race_date', 'race_course', 'race_number', 'race_class',\n",
       "       'race_distance', 'track_condition', 'race_name', 'track'],\n",
       "      dtype='object')"
      ]
     },
     "execution_count": 410,
     "metadata": {},
     "output_type": "execute_result"
    }
   ],
   "source": [
    "df.columns"
   ]
  },
  {
   "cell_type": "markdown",
   "metadata": {},
   "source": [
    "### 1.5.Keep 1200m Races."
   ]
  },
  {
   "cell_type": "code",
   "execution_count": 411,
   "metadata": {},
   "outputs": [
    {
     "data": {
      "text/plain": [
       "1200    9923\n",
       "1400    5330\n",
       "1650    4740\n",
       "1000    2984\n",
       "1600    2779\n",
       "1800    2516\n",
       "2000     699\n",
       "2200     454\n",
       "2400      95\n",
       "Name: race_distance, dtype: int64"
      ]
     },
     "execution_count": 411,
     "metadata": {},
     "output_type": "execute_result"
    }
   ],
   "source": [
    "df.race_distance.value_counts()"
   ]
  },
  {
   "cell_type": "code",
   "execution_count": 412,
   "metadata": {},
   "outputs": [],
   "source": [
    "df = df[df[\"race_distance\"] == 1200]"
   ]
  },
  {
   "cell_type": "markdown",
   "metadata": {},
   "source": [
    "### 1.6. Create Features: Speed, Rolling average speed, Relative speed"
   ]
  },
  {
   "cell_type": "markdown",
   "metadata": {},
   "source": [
    "### 1.6.a. Speed"
   ]
  },
  {
   "cell_type": "code",
   "execution_count": 413,
   "metadata": {},
   "outputs": [],
   "source": [
    "# Define the speed for each race\n",
    "df['speed']=df['race_distance']/df['finish_time']"
   ]
  },
  {
   "cell_type": "markdown",
   "metadata": {},
   "source": [
    "### 1.6.b. Rolling average speed for each horse"
   ]
  },
  {
   "cell_type": "code",
   "execution_count": 417,
   "metadata": {},
   "outputs": [],
   "source": [
    "# create rolling average speed for each horse\n",
    "cumm_avg_ser = pd.Series()\n",
    "for i in df['horse_id'].unique():\n",
    "    ind = df.loc[df['horse_id'] == i]['speed'].rolling(window=2).mean().shift(1)# # rolling average\n",
    "    #ind = df.loc[df['horse_id'] == i]['speed'].expanding(1).mean().shift(1) # cummulative average\n",
    "    \n",
    "    # replace NaN value with first speed value-its a 'data leak' but for first row only.\n",
    "    ind.fillna(float(df['speed'].loc[df['horse_id']==i][:1].values),inplace=True)\n",
    "    \n",
    "    cumm_avg_ser = pd.concat([cumm_avg_ser,ind])\n",
    "cumm_avg_df=pd.DataFrame(cumm_avg_ser,columns=['cumm_avg_speed'])"
   ]
  },
  {
   "cell_type": "code",
   "execution_count": 422,
   "metadata": {
    "scrolled": true
   },
   "outputs": [],
   "source": [
    "# merge horse_cumm_avg_speed with main data frame\n",
    "df = df.join(cumm_avg_df)"
   ]
  },
  {
   "cell_type": "code",
   "execution_count": 425,
   "metadata": {},
   "outputs": [
    {
     "data": {
      "text/html": [
       "<div>\n",
       "<style scoped>\n",
       "    .dataframe tbody tr th:only-of-type {\n",
       "        vertical-align: middle;\n",
       "    }\n",
       "\n",
       "    .dataframe tbody tr th {\n",
       "        vertical-align: top;\n",
       "    }\n",
       "\n",
       "    .dataframe thead th {\n",
       "        text-align: right;\n",
       "    }\n",
       "</style>\n",
       "<table border=\"1\" class=\"dataframe\">\n",
       "  <thead>\n",
       "    <tr style=\"text-align: right;\">\n",
       "      <th></th>\n",
       "      <th>speed</th>\n",
       "      <th>cumm_avg_speed</th>\n",
       "      <th>horse_id</th>\n",
       "    </tr>\n",
       "  </thead>\n",
       "  <tbody>\n",
       "    <tr>\n",
       "      <td>30</td>\n",
       "      <td>17.084282</td>\n",
       "      <td>17.084282</td>\n",
       "      <td>L252</td>\n",
       "    </tr>\n",
       "    <tr>\n",
       "      <td>470</td>\n",
       "      <td>17.026107</td>\n",
       "      <td>17.084282</td>\n",
       "      <td>L252</td>\n",
       "    </tr>\n",
       "    <tr>\n",
       "      <td>1732</td>\n",
       "      <td>16.958734</td>\n",
       "      <td>17.055195</td>\n",
       "      <td>L252</td>\n",
       "    </tr>\n",
       "    <tr>\n",
       "      <td>3806</td>\n",
       "      <td>16.956337</td>\n",
       "      <td>16.992420</td>\n",
       "      <td>L252</td>\n",
       "    </tr>\n",
       "    <tr>\n",
       "      <td>5228</td>\n",
       "      <td>16.856300</td>\n",
       "      <td>16.957536</td>\n",
       "      <td>L252</td>\n",
       "    </tr>\n",
       "    <tr>\n",
       "      <td>6317</td>\n",
       "      <td>16.908553</td>\n",
       "      <td>16.906319</td>\n",
       "      <td>L252</td>\n",
       "    </tr>\n",
       "  </tbody>\n",
       "</table>\n",
       "</div>"
      ],
      "text/plain": [
       "          speed  cumm_avg_speed horse_id\n",
       "30    17.084282       17.084282     L252\n",
       "470   17.026107       17.084282     L252\n",
       "1732  16.958734       17.055195     L252\n",
       "3806  16.956337       16.992420     L252\n",
       "5228  16.856300       16.957536     L252\n",
       "6317  16.908553       16.906319     L252"
      ]
     },
     "execution_count": 425,
     "metadata": {},
     "output_type": "execute_result"
    }
   ],
   "source": [
    "# check\n",
    "# cumm_avg_df[:11]\n",
    "df[['speed','cumm_avg_speed','horse_id']].loc[df['horse_id']=='L252']"
   ]
  },
  {
   "cell_type": "markdown",
   "metadata": {},
   "source": [
    "### 1.6.c.Relative_avg_max_speed  \n",
    "rel_avg_max_speed = Horse_cummulitive_average_speed - max of Horse_cummulitive_average_speeds"
   ]
  },
  {
   "cell_type": "code",
   "execution_count": 426,
   "metadata": {},
   "outputs": [],
   "source": [
    "# create difference_avg_speed_ to max of averages \n",
    "result_1, result_2 = pd.Series(),pd.Series()\n",
    "\n",
    "for i in df['race_id'].unique():\n",
    "    # to calculate average to max\n",
    "    rel_avg_series = df.loc[df['race_id'] == i]['cumm_avg_speed']\n",
    "    rel_avg_series_max = rel_avg_series.max()\n",
    "    rel_avg_max = rel_avg_series - rel_avg_series_max\n",
    "    result_1 = pd.concat([result_1, rel_avg_max])\n",
    "    \n",
    "    # to calculate average to min\n",
    "    rel_avg_series_min = rel_avg_series.min()\n",
    "    rel_avg_min = rel_avg_series - rel_avg_series_min\n",
    "    result_2 = pd.concat([result_2, rel_avg_min])\n",
    "    \n",
    "rel_avg_max_min_df = pd.concat([result_1,result_2], axis=1, \n",
    "                               keys=['rel_avg_max_speed', 'rel_avg_min_speed'])\n",
    "# merge rel_avg_max_speed with main data frame\n",
    "df = df.join(rel_avg_max_min_df)"
   ]
  },
  {
   "cell_type": "markdown",
   "metadata": {},
   "source": [
    "### 1.6.d. Relative_max and min speed."
   ]
  },
  {
   "cell_type": "code",
   "execution_count": 427,
   "metadata": {},
   "outputs": [
    {
     "data": {
      "text/plain": [
       "array(['P012', 'P331', 'L252', ..., 'A294', 'V368', 'A287'], dtype=object)"
      ]
     },
     "execution_count": 427,
     "metadata": {},
     "output_type": "execute_result"
    }
   ],
   "source": [
    "df['horse_id'].unique()"
   ]
  },
  {
   "cell_type": "code",
   "execution_count": 428,
   "metadata": {},
   "outputs": [],
   "source": [
    "### create cummulative/running max and min speed for each horse \n",
    "\n",
    "result_1, result_2 = pd.Series(),pd.Series()\n",
    "\n",
    "for i in df['horse_id'].unique():\n",
    "    data = df['cumm_avg_speed'].loc[df['horse_id'] == i]\n",
    "    horse_max = data.cummax()\n",
    "    result_1 = pd.concat([result_1, horse_max])\n",
    "    \n",
    "    horse_min = data.cummin()\n",
    "    result_2 = pd.concat([result_2, horse_min])\n",
    "\n",
    "horse_max_min_df = pd.concat([result_1,result_2], axis=1, keys=['max_speed', 'min_speed'])\n",
    "\n",
    "# merge rel_avg_max_speed with main data frame\n",
    "df = df.join(horse_max_min_df)\n"
   ]
  },
  {
   "cell_type": "code",
   "execution_count": 434,
   "metadata": {},
   "outputs": [],
   "source": [
    "### relative max speed of horse k = \n",
    "### = cummulative max speed of horse k - max in race of (cummul_max_horse_1, 2, ...,k, ...,n)\n",
    "\n",
    "### relative min speed of horse k = \n",
    "### = cummulative min speed of horse k - min in race of (cummul_min_horse_1, 2, ...,k, ...,n)\n",
    "\n",
    "result_1, result_2 = pd.Series(),pd.Series()\n",
    "\n",
    "for i in df['race_id'].unique():\n",
    "    data_max = df['max_speed'].loc[df['race_id'] == i]\n",
    "    data_min = df['min_speed'].loc[df['race_id'] == i]\n",
    "    max_in_race = data_max - data_max.max()\n",
    "    min_in_race = data_min - data_min.min()\n",
    "    \n",
    "    result_1 = pd.concat([result_1, max_in_race])\n",
    "    result_2 = pd.concat([result_2, min_in_race])\n",
    "\n",
    "rel_max_min_df = pd.concat([result_1,result_2], axis=1, keys=['rel_max_speed', 'rel_min_speed'])\n",
    "\n",
    "# merge rel_avg_max_speed with main data frame\n",
    "df = df.join(rel_max_min_df)\n",
    "    "
   ]
  },
  {
   "cell_type": "code",
   "execution_count": null,
   "metadata": {},
   "outputs": [],
   "source": []
  },
  {
   "cell_type": "markdown",
   "metadata": {},
   "source": [
    "###  1.7. Categorical to numeric."
   ]
  },
  {
   "cell_type": "code",
   "execution_count": 436,
   "metadata": {},
   "outputs": [],
   "source": [
    "# convert to numeric values:\n",
    "df['win_odds'] = pd.to_numeric(df['win_odds'])"
   ]
  },
  {
   "cell_type": "code",
   "execution_count": 437,
   "metadata": {},
   "outputs": [],
   "source": [
    "# create probability from odds-normili\n",
    "df['proba'] = 1 / (1 + df['win_odds'])"
   ]
  },
  {
   "cell_type": "code",
   "execution_count": 438,
   "metadata": {},
   "outputs": [],
   "source": [
    "df['actual_weight'] = pd.to_numeric(df['actual_weight'])\n",
    "df['declared_horse_weight'] = pd.to_numeric(df['declared_horse_weight'])"
   ]
  },
  {
   "cell_type": "code",
   "execution_count": 439,
   "metadata": {},
   "outputs": [],
   "source": [
    "# reset indeces\n",
    "df.reset_index(inplace=True)\n",
    "del df['index']"
   ]
  },
  {
   "cell_type": "markdown",
   "metadata": {},
   "source": [
    "### 1.7.a. Convert to numeric 'finishing positions'"
   ]
  },
  {
   "cell_type": "code",
   "execution_count": 440,
   "metadata": {},
   "outputs": [
    {
     "data": {
      "text/plain": [
       "array(['1', '2', '3', '4', '5', '6', '7', '8', '9', '10', '11', '12',\n",
       "       '13', '14', '10 DH', '5 DH', '1 DH', '3 DH', '2 DH', '4 DH',\n",
       "       '6 DH', '7 DH', '8 DH', '9 DH'], dtype=object)"
      ]
     },
     "execution_count": 440,
     "metadata": {},
     "output_type": "execute_result"
    }
   ],
   "source": [
    "df['finishing_position'].unique()"
   ]
  },
  {
   "cell_type": "code",
   "execution_count": 441,
   "metadata": {},
   "outputs": [],
   "source": [
    "#replace DH places\n",
    "df.replace({'finishing_position': {'1 DH':'1','2 DH':'2','3 DH':'3','4 DH':'4','5 DH':'5',\n",
    "                                  '6 DH':'6', '7 DH':'7', '8 DH':'8', '9 DH':'9', '10 DH':'10'}\n",
    "           },inplace=True)"
   ]
  },
  {
   "cell_type": "code",
   "execution_count": 442,
   "metadata": {},
   "outputs": [],
   "source": [
    "df['finishing_position'] = pd.to_numeric(df['finishing_position'])"
   ]
  },
  {
   "cell_type": "code",
   "execution_count": 443,
   "metadata": {},
   "outputs": [
    {
     "data": {
      "text/plain": [
       "array([ 1,  2,  3,  4,  5,  6,  7,  8,  9, 10, 11, 12, 13, 14])"
      ]
     },
     "execution_count": 443,
     "metadata": {},
     "output_type": "execute_result"
    }
   ],
   "source": [
    "# check\n",
    "df['finishing_position'].unique()"
   ]
  },
  {
   "cell_type": "markdown",
   "metadata": {},
   "source": [
    "### 1.8. TrueSkill Ranking"
   ]
  },
  {
   "cell_type": "code",
   "execution_count": 444,
   "metadata": {},
   "outputs": [],
   "source": [
    "import trueskill\n",
    "ts = trueskill.TrueSkill()\n",
    "horses = df['horse_id'].unique().ravel()\n",
    "rating_dict = dict()\n",
    "\n",
    "for horse in horses:\n",
    "    rating_dict[horse] = ts.create_rating()\n",
    "    \n",
    "race_groups = df.groupby('race_id')\n",
    "\n",
    "def update_ratings(new_ratings, rating_dict):\n",
    "    for key in new_ratings.keys():\n",
    "        rating_dict[key] = new_ratings[key]\n",
    "    return rating_dict\n",
    "\n",
    "\n",
    "\n",
    "mu_list = []\n",
    "sigma_list = []\n",
    "k_list = []\n",
    "true_skill_dicts = []\n",
    "for i, group in enumerate(race_groups):\n",
    "    horse_ids = group[1]['horse_id'].values.tolist()\n",
    "    horse_dict = [(rating_dict[k],) for k in horse_ids if k in rating_dict]\n",
    "    date = group[1]['race_date'].values.tolist()[0]\n",
    "\n",
    "\n",
    "    for k in horse_ids:\n",
    "        mu_list.append(rating_dict[k].mu)\n",
    "        sigma_list.append(rating_dict[k].sigma)\n",
    "        k_list.append(k)\n",
    "        true_skill_values = {'mu_horse': rating_dict[k].mu, 'sigma_horse': rating_dict[k].sigma, 'horse_id': k, 'race_date' : date}\n",
    "        true_skill_dicts.append(true_skill_values)\n",
    "    # for ranks 0 is winner\n",
    "    ranks = (group[1]['finishing_position']-1).astype(np.int).values.tolist()\n",
    "    updated_horses = ts.rate(horse_dict, ranks=ranks)\n",
    "    updated_horses = dict(zip(horse_ids,list(sum(updated_horses, ()))))    \n",
    "    # update the rating dictionary\n",
    "    rating_dict = update_ratings(updated_horses, rating_dict)"
   ]
  },
  {
   "cell_type": "code",
   "execution_count": 445,
   "metadata": {},
   "outputs": [],
   "source": [
    "rank_df = pd.DataFrame(true_skill_dicts)\n",
    "rank_df['rank_horse'] = rank_df['mu_horse'] - 3*rank_df['sigma_horse']"
   ]
  },
  {
   "cell_type": "code",
   "execution_count": 447,
   "metadata": {},
   "outputs": [],
   "source": [
    "# pd.concat([df, rank_df],axis=1)\n",
    "df = df.merge(rank_df, on=['horse_id','race_date'], how='left')"
   ]
  },
  {
   "cell_type": "markdown",
   "metadata": {},
   "source": [
    "###  1.9. Make Target: Binary(1st place_Win)."
   ]
  },
  {
   "cell_type": "code",
   "execution_count": 448,
   "metadata": {},
   "outputs": [],
   "source": [
    "df_2=df.copy()"
   ]
  },
  {
   "cell_type": "code",
   "execution_count": 449,
   "metadata": {},
   "outputs": [
    {
     "data": {
      "text/plain": [
       "array([ 1,  2,  3,  4,  5,  6,  7,  8,  9, 10, 11, 12, 13, 14])"
      ]
     },
     "execution_count": 449,
     "metadata": {},
     "output_type": "execute_result"
    }
   ],
   "source": [
    "df_2.finishing_position.unique()"
   ]
  },
  {
   "cell_type": "code",
   "execution_count": 450,
   "metadata": {},
   "outputs": [],
   "source": [
    "target = 'win'\n",
    "df_2[target] = (df_2['finishing_position'].isin([1])).astype(np.int)"
   ]
  },
  {
   "cell_type": "code",
   "execution_count": 451,
   "metadata": {},
   "outputs": [
    {
     "data": {
      "text/plain": [
       "819"
      ]
     },
     "execution_count": 451,
     "metadata": {},
     "output_type": "execute_result"
    }
   ],
   "source": [
    "df_2[target].sum()"
   ]
  },
  {
   "cell_type": "markdown",
   "metadata": {},
   "source": [
    "## 2. Models."
   ]
  },
  {
   "cell_type": "code",
   "execution_count": 452,
   "metadata": {},
   "outputs": [
    {
     "data": {
      "text/plain": [
       "Index(['finishing_position', 'horse_id', 'jockey', 'trainer', 'actual_weight',\n",
       "       'declared_horse_weight', 'draw', 'finish_time', 'win_odds', 'race_id',\n",
       "       'race_date', 'race_course', 'race_number', 'race_class',\n",
       "       'race_distance', 'track_condition', 'race_name', 'track', 'speed',\n",
       "       'cumm_avg_speed', 'rel_avg_max_speed', 'rel_avg_min_speed', 'max_speed',\n",
       "       'min_speed', 'rel_max_speed', 'rel_min_speed', 'proba', 'mu_horse',\n",
       "       'sigma_horse', 'rank_horse', 'win'],\n",
       "      dtype='object')"
      ]
     },
     "execution_count": 452,
     "metadata": {},
     "output_type": "execute_result"
    }
   ],
   "source": [
    "df_2.columns"
   ]
  },
  {
   "cell_type": "markdown",
   "metadata": {},
   "source": [
    "### 2.1. Label encoding of Categorical"
   ]
  },
  {
   "cell_type": "code",
   "execution_count": 453,
   "metadata": {},
   "outputs": [],
   "source": [
    "categorical = ['horse_id', 'jockey', 'trainer','race_id',\n",
    "              'race_course','race_class','track_condition','track']\n",
    "le = LabelEncoder()\n",
    "le_encoded = []\n",
    "for i in categorical:\n",
    "    le_encoded.append(le.fit_transform(df_2[i]))\n",
    "le_encoded = pd.DataFrame(np.array(le_encoded).transpose(), columns = categorical)\n",
    "df_2.drop(columns = categorical, inplace=True)\n",
    "df_2 = pd.concat([df_2, le_encoded],axis=1)"
   ]
  },
  {
   "cell_type": "markdown",
   "metadata": {},
   "source": [
    "### 2.2. Target encoding of the features in pipeline"
   ]
  },
  {
   "cell_type": "code",
   "execution_count": 454,
   "metadata": {},
   "outputs": [],
   "source": [
    "# features for target encoding\n",
    "te_features = ['draw']\n",
    "\n",
    "# numeric features\n",
    "num_features = ['actual_weight', 'declared_horse_weight',\n",
    "            'cumm_avg_speed', 'rel_avg_max_speed',\n",
    "            'rel_avg_min_speed', 'rel_max_speed',\n",
    "            'rel_min_speed', 'mu_horse', 'sigma_horse',\n",
    "            'rank_horse','proba'] + categorical\n",
    "\n",
    "# define total columns to use\n",
    "used_cols = te_features + num_features\n",
    "\n",
    "# define X, y\n",
    "X, y = df_2[used_cols], df_2[target]\n",
    "\n",
    "# train test split\n",
    "\n",
    "train_ids = df_2['race_id'].unique().tolist()[:735]\n",
    "test_ids = df_2['race_id'].unique().tolist()[735:]\n",
    "\n",
    "X_train, y_train = df_2[df_2.race_id.isin(train_ids)][used_cols], df_2[df_2.race_id.isin(train_ids)][target]\n",
    "X_test, y_test = df_2[df_2.race_id.isin(test_ids)][used_cols], df_2[df_2.race_id.isin(test_ids)][target]"
   ]
  },
  {
   "cell_type": "code",
   "execution_count": 752,
   "metadata": {},
   "outputs": [],
   "source": [
    "# create tarnsformer for numerical\n",
    "imputer = SimpleImputer()\n",
    "scaler = MinMaxScaler()\n",
    "num_transformer = make_pipeline(imputer, scaler)\n",
    "\n",
    "# create transformer for categorical\n",
    "te_encoder = ce.TargetEncoder(cols=te_features, handle_missing=\"value\")\n",
    "te_transformer = make_pipeline(te_encoder)\n",
    "\n",
    "# definr preprocessor\n",
    "preprocessor = ColumnTransformer(\n",
    "    transformers=[('num', num_transformer, num_features),\n",
    "                  ('cat', te_transformer, te_features)])"
   ]
  },
  {
   "cell_type": "markdown",
   "metadata": {},
   "source": [
    "### 2.3. Logistic Regression"
   ]
  },
  {
   "cell_type": "code",
   "execution_count": 791,
   "metadata": {},
   "outputs": [],
   "source": [
    "model = LogisticRegression(class_weight='balanced', random_state=42,\n",
    "                           solver = 'newton-cg')\n",
    "pipe = make_pipeline(preprocessor,model)"
   ]
  },
  {
   "cell_type": "code",
   "execution_count": 792,
   "metadata": {},
   "outputs": [
    {
     "name": "stdout",
     "output_type": "stream",
     "text": [
      "0.7973164892035297 +/- 0.019562008511690397\n"
     ]
    }
   ],
   "source": [
    "# scores = cross_val_score(pipe, X, y, cv=5, scoring='roc_auc')\n",
    "scores = cross_val_score(pipe, X, y, cv=5, scoring='roc_auc')\n",
    "\n",
    "print(scores.mean(), \"+/-\", scores.std())"
   ]
  },
  {
   "cell_type": "code",
   "execution_count": 793,
   "metadata": {},
   "outputs": [
    {
     "data": {
      "text/plain": [
       "(0.8033020980013436, 0.8059879266939173)"
      ]
     },
     "execution_count": 793,
     "metadata": {},
     "output_type": "execute_result"
    }
   ],
   "source": [
    "pipe.fit(X_train, y_train)\n",
    "\n",
    "y_hat_train = pipe.predict(X_train)\n",
    "y_hat_test = pipe.predict(X_test)\n",
    "\n",
    "prob_train = pipe.predict_proba(X_train)[:,1]\n",
    "prob_test = pipe.predict_proba(X_test)[:,1]\n",
    "roc_auc_score(y_train, prob_train),roc_auc_score(y_test, prob_test)"
   ]
  },
  {
   "cell_type": "code",
   "execution_count": 794,
   "metadata": {},
   "outputs": [
    {
     "name": "stdout",
     "output_type": "stream",
     "text": [
      "              precision    recall  f1-score   support\n",
      "\n",
      "           0       0.92      1.00      0.96       901\n",
      "           1       0.80      0.05      0.09        82\n",
      "\n",
      "    accuracy                           0.92       983\n",
      "   macro avg       0.86      0.52      0.52       983\n",
      "weighted avg       0.91      0.92      0.89       983\n",
      "\n"
     ]
    }
   ],
   "source": [
    "thresh = 0.96\n",
    "pred = (prob_test >= thresh)\n",
    "\n",
    "print(classification_report(y_test, pred))"
   ]
  },
  {
   "cell_type": "code",
   "execution_count": 795,
   "metadata": {},
   "outputs": [
    {
     "data": {
      "text/plain": [
       "array([[900,   1],\n",
       "       [ 78,   4]])"
      ]
     },
     "execution_count": 795,
     "metadata": {},
     "output_type": "execute_result"
    }
   ],
   "source": [
    "confusion_matrix(y_test,pred)"
   ]
  },
  {
   "cell_type": "markdown",
   "metadata": {},
   "source": [
    "### Test Case -1 -for presentation"
   ]
  },
  {
   "cell_type": "code",
   "execution_count": 796,
   "metadata": {},
   "outputs": [],
   "source": [
    "test_df=X_test.join(y_test)"
   ]
  },
  {
   "cell_type": "code",
   "execution_count": 797,
   "metadata": {},
   "outputs": [],
   "source": [
    "predicted = pd.DataFrame(pred, columns = ['pred'], index= test_df.index.values)"
   ]
  },
  {
   "cell_type": "code",
   "execution_count": 798,
   "metadata": {},
   "outputs": [],
   "source": [
    "test_df=test_df.join(predicted)"
   ]
  },
  {
   "cell_type": "code",
   "execution_count": 799,
   "metadata": {},
   "outputs": [
    {
     "data": {
      "text/html": [
       "<div>\n",
       "<style scoped>\n",
       "    .dataframe tbody tr th:only-of-type {\n",
       "        vertical-align: middle;\n",
       "    }\n",
       "\n",
       "    .dataframe tbody tr th {\n",
       "        vertical-align: top;\n",
       "    }\n",
       "\n",
       "    .dataframe thead th {\n",
       "        text-align: right;\n",
       "    }\n",
       "</style>\n",
       "<table border=\"1\" class=\"dataframe\">\n",
       "  <thead>\n",
       "    <tr style=\"text-align: right;\">\n",
       "      <th></th>\n",
       "      <th>proba</th>\n",
       "      <th>win</th>\n",
       "      <th>pred</th>\n",
       "      <th>rank_horse</th>\n",
       "      <th>horse_id</th>\n",
       "      <th>race_id</th>\n",
       "    </tr>\n",
       "  </thead>\n",
       "  <tbody>\n",
       "    <tr>\n",
       "      <td>9629</td>\n",
       "      <td>0.384615</td>\n",
       "      <td>1</td>\n",
       "      <td>True</td>\n",
       "      <td>27.789955</td>\n",
       "      <td>1343</td>\n",
       "      <td>792</td>\n",
       "    </tr>\n",
       "    <tr>\n",
       "      <td>9679</td>\n",
       "      <td>0.400000</td>\n",
       "      <td>0</td>\n",
       "      <td>True</td>\n",
       "      <td>20.168034</td>\n",
       "      <td>158</td>\n",
       "      <td>797</td>\n",
       "    </tr>\n",
       "    <tr>\n",
       "      <td>9827</td>\n",
       "      <td>0.344828</td>\n",
       "      <td>1</td>\n",
       "      <td>True</td>\n",
       "      <td>18.252908</td>\n",
       "      <td>1477</td>\n",
       "      <td>809</td>\n",
       "    </tr>\n",
       "  </tbody>\n",
       "</table>\n",
       "</div>"
      ],
      "text/plain": [
       "         proba  win  pred  rank_horse  horse_id  race_id\n",
       "9629  0.384615    1  True   27.789955      1343      792\n",
       "9679  0.400000    0  True   20.168034       158      797\n",
       "9827  0.344828    1  True   18.252908      1477      809"
      ]
     },
     "execution_count": 799,
     "metadata": {},
     "output_type": "execute_result"
    }
   ],
   "source": [
    "test_df[['proba','win','pred','rank_horse','horse_id','race_id']].loc[(test_df['pred']==1) & \n",
    "                                                            (df['rank_horse'])!=0]"
   ]
  },
  {
   "cell_type": "code",
   "execution_count": 694,
   "metadata": {},
   "outputs": [
    {
     "data": {
      "text/plain": [
       "Int64Index([8940, 8941, 8942, 8943, 8944, 8945, 8946, 8947, 8948, 8949,\n",
       "            ...\n",
       "            9913, 9914, 9915, 9916, 9917, 9918, 9919, 9920, 9921, 9922],\n",
       "           dtype='int64', length=983)"
      ]
     },
     "execution_count": 694,
     "metadata": {},
     "output_type": "execute_result"
    }
   ],
   "source": [
    "test_df.index"
   ]
  },
  {
   "cell_type": "code",
   "execution_count": 701,
   "metadata": {},
   "outputs": [
    {
     "data": {
      "text/plain": [
       "6.377777777777777"
      ]
     },
     "execution_count": 701,
     "metadata": {},
     "output_type": "execute_result"
    }
   ],
   "source": [
    "# df_2[['rank_horse','win_odds','horse_id']].loc[df_2['race_id']==797]\n",
    "(len(df_2['race_id'].unique()))/90*7"
   ]
  },
  {
   "cell_type": "markdown",
   "metadata": {},
   "source": [
    "### 2.4. Decision Tree"
   ]
  },
  {
   "cell_type": "code",
   "execution_count": 505,
   "metadata": {},
   "outputs": [],
   "source": [
    "# create tarnsformer for numerical\n",
    "imputer = SimpleImputer()\n",
    "num_transformer = make_pipeline(imputer)\n",
    "\n",
    "# create transformer for categorical\n",
    "te_encoder = ce.TargetEncoder(cols=te_features, handle_missing=\"value\")\n",
    "te_transformer = make_pipeline(te_encoder)\n",
    "\n",
    "# definr preprocessor\n",
    "preprocessor = ColumnTransformer(\n",
    "    transformers=[('num', num_transformer, num_features),\n",
    "                  ('cat', te_transformer, te_features)])"
   ]
  },
  {
   "cell_type": "code",
   "execution_count": 506,
   "metadata": {},
   "outputs": [],
   "source": [
    "N=4\n",
    "model = DecisionTreeClassifier(class_weight='balanced', criterion='entropy', \n",
    "                               random_state=42, max_depth=N, max_leaf_nodes=2**N-1)\n",
    "\n",
    "\n",
    "pipe = make_pipeline(preprocessor,model)\n",
    "\n"
   ]
  },
  {
   "cell_type": "code",
   "execution_count": 507,
   "metadata": {},
   "outputs": [
    {
     "name": "stdout",
     "output_type": "stream",
     "text": [
      "0.7747719356709523 +/- 0.02196949130013989\n"
     ]
    }
   ],
   "source": [
    "# scores = cross_val_score(pipe, X, y, cv=5, scoring='roc_auc')\n",
    "scores = cross_val_score(pipe, X, y, cv=5, scoring='roc_auc')\n",
    "\n",
    "print(scores.mean(), \"+/-\", scores.std())"
   ]
  },
  {
   "cell_type": "code",
   "execution_count": 508,
   "metadata": {},
   "outputs": [
    {
     "data": {
      "text/plain": [
       "(0.8162337934081435, 0.794374813892423)"
      ]
     },
     "execution_count": 508,
     "metadata": {},
     "output_type": "execute_result"
    }
   ],
   "source": [
    "pipe.fit(X_train, y_train)\n",
    "\n",
    "y_hat_train = pipe.predict(X_train)\n",
    "y_hat_test = pipe.predict(X_test)\n",
    "\n",
    "prob_train = pipe.predict_proba(X_train)[:,1]\n",
    "prob_test = pipe.predict_proba(X_test)[:,1]\n",
    "roc_auc_score(y_train, prob_train),roc_auc_score(y_test, prob_test)"
   ]
  },
  {
   "cell_type": "code",
   "execution_count": 546,
   "metadata": {},
   "outputs": [
    {
     "name": "stdout",
     "output_type": "stream",
     "text": [
      "              precision    recall  f1-score   support\n",
      "\n",
      "           0       0.93      0.98      0.95       901\n",
      "           1       0.37      0.16      0.22        82\n",
      "\n",
      "    accuracy                           0.91       983\n",
      "   macro avg       0.65      0.57      0.59       983\n",
      "weighted avg       0.88      0.91      0.89       983\n",
      "\n"
     ]
    }
   ],
   "source": [
    "thresh = 0.8\n",
    "pred = (prob_test >= thresh)\n",
    "\n",
    "print(classification_report(y_test, pred))"
   ]
  },
  {
   "cell_type": "code",
   "execution_count": 547,
   "metadata": {},
   "outputs": [
    {
     "data": {
      "text/plain": [
       "array([[879,  22],\n",
       "       [ 69,  13]])"
      ]
     },
     "execution_count": 547,
     "metadata": {},
     "output_type": "execute_result"
    }
   ],
   "source": [
    "confusion_matrix(y_test,pred)"
   ]
  },
  {
   "cell_type": "markdown",
   "metadata": {},
   "source": [
    "### 2.5. Random Forest."
   ]
  },
  {
   "cell_type": "code",
   "execution_count": 551,
   "metadata": {},
   "outputs": [
    {
     "name": "stdout",
     "output_type": "stream",
     "text": [
      "0.7710735280665398 +/- 0.04204769750353548\n"
     ]
    }
   ],
   "source": [
    "model = RandomForestClassifier(class_weight='balanced', random_state=42)\n",
    "pipe = make_pipeline(preprocessor,model)\n",
    "\n",
    "# scores = cross_val_score(pipe, X, y, cv=5, scoring='roc_auc')\n",
    "scores = cross_val_score(pipe, X, y, cv=5, scoring='roc_auc')\n",
    "\n",
    "print(scores.mean(), \"+/-\", scores.std())"
   ]
  },
  {
   "cell_type": "markdown",
   "metadata": {},
   "source": [
    "### 2.6. Gradient Boosting."
   ]
  },
  {
   "cell_type": "code",
   "execution_count": 811,
   "metadata": {},
   "outputs": [
    {
     "name": "stdout",
     "output_type": "stream",
     "text": [
      "0.7398909593881704 +/- 0.07833783350627732\n"
     ]
    }
   ],
   "source": [
    "model = GradientBoostingClassifier(learning_rate=0.1, random_state=42)\n",
    "pipe = make_pipeline(preprocessor,model)\n",
    "\n",
    "\n",
    "scores = cross_val_score(pipe, X, y, cv=5, scoring='roc_auc')\n",
    "print(scores.mean(), \"+/-\", scores.std())"
   ]
  },
  {
   "cell_type": "code",
   "execution_count": 812,
   "metadata": {},
   "outputs": [
    {
     "data": {
      "text/plain": [
       "(0.8724008210253686, 0.8030237405592702)"
      ]
     },
     "execution_count": 812,
     "metadata": {},
     "output_type": "execute_result"
    }
   ],
   "source": [
    "pipe.fit(X_train, y_train)\n",
    "\n",
    "y_hat_train = pipe.predict(X_train)\n",
    "y_hat_test = pipe.predict(X_test)\n",
    "\n",
    "prob_train = pipe.predict_proba(X_train)[:,1]\n",
    "prob_test = pipe.predict_proba(X_test)[:,1]\n",
    "roc_auc_score(y_train, prob_train),roc_auc_score(y_test, prob_test)"
   ]
  },
  {
   "cell_type": "code",
   "execution_count": 578,
   "metadata": {},
   "outputs": [
    {
     "name": "stdout",
     "output_type": "stream",
     "text": [
      "              precision    recall  f1-score   support\n",
      "\n",
      "           0       0.92      1.00      0.96       901\n",
      "           1       0.60      0.04      0.07        82\n",
      "\n",
      "    accuracy                           0.92       983\n",
      "   macro avg       0.76      0.52      0.51       983\n",
      "weighted avg       0.89      0.92      0.88       983\n",
      "\n"
     ]
    }
   ],
   "source": [
    "thresh = 0.55\n",
    "pred = (prob_test >= thresh)\n",
    "\n",
    "print(classification_report(y_test, pred))"
   ]
  },
  {
   "cell_type": "code",
   "execution_count": 579,
   "metadata": {},
   "outputs": [
    {
     "data": {
      "text/plain": [
       "array([[899,   2],\n",
       "       [ 79,   3]])"
      ]
     },
     "execution_count": 579,
     "metadata": {},
     "output_type": "execute_result"
    }
   ],
   "source": [
    "confusion_matrix(y_test,pred)"
   ]
  },
  {
   "cell_type": "markdown",
   "metadata": {},
   "source": [
    "### 2.7. Gradient Boosting."
   ]
  },
  {
   "cell_type": "code",
   "execution_count": 831,
   "metadata": {},
   "outputs": [
    {
     "name": "stdout",
     "output_type": "stream",
     "text": [
      "0.7842920414710772 +/- 0.03758370676546228\n"
     ]
    }
   ],
   "source": [
    "model = HistGradientBoostingClassifier(loss='binary_crossentropy', random_state=42, \n",
    "                                     learning_rate=0.1)\n",
    "pipe = make_pipeline(preprocessor,model)\n",
    "\n",
    "\n",
    "scores = cross_val_score(pipe, X, y, cv=5, scoring='roc_auc')\n",
    "print(scores.mean(), \"+/-\", scores.std())"
   ]
  },
  {
   "cell_type": "code",
   "execution_count": 581,
   "metadata": {},
   "outputs": [
    {
     "data": {
      "text/plain": [
       "(0.9977944330192597, 0.7821796919412035)"
      ]
     },
     "execution_count": 581,
     "metadata": {},
     "output_type": "execute_result"
    }
   ],
   "source": [
    "pipe.fit(X_train, y_train)\n",
    "\n",
    "y_hat_train = pipe.predict(X_train)\n",
    "y_hat_test = pipe.predict(X_test)\n",
    "\n",
    "prob_train = pipe.predict_proba(X_train)[:,1]\n",
    "prob_test = pipe.predict_proba(X_test)[:,1]\n",
    "roc_auc_score(y_train, prob_train),roc_auc_score(y_test, prob_test)"
   ]
  },
  {
   "cell_type": "code",
   "execution_count": 835,
   "metadata": {},
   "outputs": [
    {
     "name": "stdout",
     "output_type": "stream",
     "text": [
      "              precision    recall  f1-score   support\n",
      "\n",
      "           0       0.92      1.00      0.96       901\n",
      "           1       0.60      0.04      0.07        82\n",
      "\n",
      "    accuracy                           0.92       983\n",
      "   macro avg       0.76      0.52      0.51       983\n",
      "weighted avg       0.89      0.92      0.88       983\n",
      "\n"
     ]
    }
   ],
   "source": [
    "thresh = 0.55\n",
    "pred = (prob_test >= thresh)\n",
    "\n",
    "print(classification_report(y_test, pred))"
   ]
  },
  {
   "cell_type": "code",
   "execution_count": 836,
   "metadata": {},
   "outputs": [
    {
     "data": {
      "text/plain": [
       "array([[899,   2],\n",
       "       [ 79,   3]])"
      ]
     },
     "execution_count": 836,
     "metadata": {},
     "output_type": "execute_result"
    }
   ],
   "source": [
    "confusion_matrix(y_test,pred)"
   ]
  },
  {
   "cell_type": "markdown",
   "metadata": {},
   "source": [
    "### Test Case -2 - for presentation"
   ]
  },
  {
   "cell_type": "code",
   "execution_count": 837,
   "metadata": {},
   "outputs": [
    {
     "data": {
      "text/html": [
       "<div>\n",
       "<style scoped>\n",
       "    .dataframe tbody tr th:only-of-type {\n",
       "        vertical-align: middle;\n",
       "    }\n",
       "\n",
       "    .dataframe tbody tr th {\n",
       "        vertical-align: top;\n",
       "    }\n",
       "\n",
       "    .dataframe thead th {\n",
       "        text-align: right;\n",
       "    }\n",
       "</style>\n",
       "<table border=\"1\" class=\"dataframe\">\n",
       "  <thead>\n",
       "    <tr style=\"text-align: right;\">\n",
       "      <th></th>\n",
       "      <th>proba</th>\n",
       "      <th>win</th>\n",
       "      <th>pred</th>\n",
       "      <th>rank_horse</th>\n",
       "      <th>horse_id</th>\n",
       "      <th>race_id</th>\n",
       "    </tr>\n",
       "  </thead>\n",
       "  <tbody>\n",
       "    <tr>\n",
       "      <td>9243</td>\n",
       "      <td>0.322581</td>\n",
       "      <td>1</td>\n",
       "      <td>True</td>\n",
       "      <td>29.725059</td>\n",
       "      <td>1519</td>\n",
       "      <td>760</td>\n",
       "    </tr>\n",
       "    <tr>\n",
       "      <td>9913</td>\n",
       "      <td>0.303030</td>\n",
       "      <td>0</td>\n",
       "      <td>True</td>\n",
       "      <td>20.431879</td>\n",
       "      <td>164</td>\n",
       "      <td>815</td>\n",
       "    </tr>\n",
       "  </tbody>\n",
       "</table>\n",
       "</div>"
      ],
      "text/plain": [
       "         proba  win  pred  rank_horse  horse_id  race_id\n",
       "9243  0.322581    1  True   29.725059      1519      760\n",
       "9913  0.303030    0  True   20.431879       164      815"
      ]
     },
     "execution_count": 837,
     "metadata": {},
     "output_type": "execute_result"
    }
   ],
   "source": [
    "test_df=X_test.join(y_test)\n",
    "predicted = pd.DataFrame(pred, columns = ['pred'], index= test_df.index.values)\n",
    "test_df=test_df.join(predicted)\n",
    "test_df[['proba','win','pred','rank_horse','horse_id','race_id']].loc[(test_df['pred']==1) & \n",
    "                                                            (df['rank_horse'])!=0]"
   ]
  },
  {
   "cell_type": "markdown",
   "metadata": {},
   "source": [
    "### 3. Visualizations for presentation"
   ]
  },
  {
   "cell_type": "code",
   "execution_count": 702,
   "metadata": {},
   "outputs": [],
   "source": [
    "#https://docs.google.com/presentation/d/1equvB3q35yTqE2_hQVRzISJnZNZJ1_PD9xE36v_rqx0/edit#slide=id.g73c1a3de1a_2_5"
   ]
  },
  {
   "cell_type": "code",
   "execution_count": 704,
   "metadata": {},
   "outputs": [
    {
     "data": {
      "text/plain": [
       "Index(['finishing_position', 'actual_weight', 'declared_horse_weight', 'draw',\n",
       "       'finish_time', 'win_odds', 'race_date', 'race_number', 'race_distance',\n",
       "       'race_name', 'speed', 'cumm_avg_speed', 'rel_avg_max_speed',\n",
       "       'rel_avg_min_speed', 'max_speed', 'min_speed', 'rel_max_speed',\n",
       "       'rel_min_speed', 'proba', 'mu_horse', 'sigma_horse', 'rank_horse',\n",
       "       'win', 'horse_id', 'jockey', 'trainer', 'race_id', 'race_course',\n",
       "       'race_class', 'track_condition', 'track'],\n",
       "      dtype='object')"
      ]
     },
     "execution_count": 704,
     "metadata": {},
     "output_type": "execute_result"
    }
   ],
   "source": [
    "df_2.columns"
   ]
  },
  {
   "cell_type": "code",
   "execution_count": 710,
   "metadata": {},
   "outputs": [
    {
     "data": {
      "text/html": [
       "<div>\n",
       "<style scoped>\n",
       "    .dataframe tbody tr th:only-of-type {\n",
       "        vertical-align: middle;\n",
       "    }\n",
       "\n",
       "    .dataframe tbody tr th {\n",
       "        vertical-align: top;\n",
       "    }\n",
       "\n",
       "    .dataframe thead th {\n",
       "        text-align: right;\n",
       "    }\n",
       "</style>\n",
       "<table border=\"1\" class=\"dataframe\">\n",
       "  <thead>\n",
       "    <tr style=\"text-align: right;\">\n",
       "      <th></th>\n",
       "      <th>horse_id</th>\n",
       "      <th>rank_horse</th>\n",
       "      <th>draw</th>\n",
       "      <th>declared_horse_weight</th>\n",
       "      <th>cumm_avg_speed</th>\n",
       "      <th>win_odds</th>\n",
       "      <th>finishing_position</th>\n",
       "      <th>win</th>\n",
       "    </tr>\n",
       "  </thead>\n",
       "  <tbody>\n",
       "    <tr>\n",
       "      <td>0</td>\n",
       "      <td>402</td>\n",
       "      <td>0.000000</td>\n",
       "      <td>8</td>\n",
       "      <td>1147</td>\n",
       "      <td>17.150207</td>\n",
       "      <td>7.1</td>\n",
       "      <td>1</td>\n",
       "      <td>1</td>\n",
       "    </tr>\n",
       "    <tr>\n",
       "      <td>1</td>\n",
       "      <td>549</td>\n",
       "      <td>0.000000</td>\n",
       "      <td>10</td>\n",
       "      <td>1073</td>\n",
       "      <td>17.101325</td>\n",
       "      <td>7.4</td>\n",
       "      <td>2</td>\n",
       "      <td>0</td>\n",
       "    </tr>\n",
       "    <tr>\n",
       "      <td>2</td>\n",
       "      <td>216</td>\n",
       "      <td>0.000000</td>\n",
       "      <td>7</td>\n",
       "      <td>1072</td>\n",
       "      <td>17.084282</td>\n",
       "      <td>82.0</td>\n",
       "      <td>3</td>\n",
       "      <td>0</td>\n",
       "    </tr>\n",
       "    <tr>\n",
       "      <td>3</td>\n",
       "      <td>401</td>\n",
       "      <td>0.000000</td>\n",
       "      <td>13</td>\n",
       "      <td>1161</td>\n",
       "      <td>17.067274</td>\n",
       "      <td>5.7</td>\n",
       "      <td>4</td>\n",
       "      <td>0</td>\n",
       "    </tr>\n",
       "    <tr>\n",
       "      <td>4</td>\n",
       "      <td>215</td>\n",
       "      <td>0.000000</td>\n",
       "      <td>14</td>\n",
       "      <td>1084</td>\n",
       "      <td>17.047876</td>\n",
       "      <td>58.0</td>\n",
       "      <td>5</td>\n",
       "      <td>0</td>\n",
       "    </tr>\n",
       "    <tr>\n",
       "      <td>...</td>\n",
       "      <td>...</td>\n",
       "      <td>...</td>\n",
       "      <td>...</td>\n",
       "      <td>...</td>\n",
       "      <td>...</td>\n",
       "      <td>...</td>\n",
       "      <td>...</td>\n",
       "      <td>...</td>\n",
       "    </tr>\n",
       "    <tr>\n",
       "      <td>9918</td>\n",
       "      <td>182</td>\n",
       "      <td>5.970213</td>\n",
       "      <td>4</td>\n",
       "      <td>1076</td>\n",
       "      <td>16.908553</td>\n",
       "      <td>63.0</td>\n",
       "      <td>8</td>\n",
       "      <td>0</td>\n",
       "    </tr>\n",
       "    <tr>\n",
       "      <td>9919</td>\n",
       "      <td>1034</td>\n",
       "      <td>28.450538</td>\n",
       "      <td>8</td>\n",
       "      <td>1141</td>\n",
       "      <td>16.949615</td>\n",
       "      <td>17.0</td>\n",
       "      <td>9</td>\n",
       "      <td>0</td>\n",
       "    </tr>\n",
       "    <tr>\n",
       "      <td>9920</td>\n",
       "      <td>958</td>\n",
       "      <td>19.860191</td>\n",
       "      <td>11</td>\n",
       "      <td>1054</td>\n",
       "      <td>16.975603</td>\n",
       "      <td>88.0</td>\n",
       "      <td>10</td>\n",
       "      <td>0</td>\n",
       "    </tr>\n",
       "    <tr>\n",
       "      <td>9921</td>\n",
       "      <td>1588</td>\n",
       "      <td>5.016660</td>\n",
       "      <td>6</td>\n",
       "      <td>975</td>\n",
       "      <td>16.755096</td>\n",
       "      <td>99.0</td>\n",
       "      <td>11</td>\n",
       "      <td>0</td>\n",
       "    </tr>\n",
       "    <tr>\n",
       "      <td>9922</td>\n",
       "      <td>1468</td>\n",
       "      <td>14.394733</td>\n",
       "      <td>12</td>\n",
       "      <td>1051</td>\n",
       "      <td>16.835018</td>\n",
       "      <td>56.0</td>\n",
       "      <td>12</td>\n",
       "      <td>0</td>\n",
       "    </tr>\n",
       "  </tbody>\n",
       "</table>\n",
       "<p>9923 rows × 8 columns</p>\n",
       "</div>"
      ],
      "text/plain": [
       "      horse_id  rank_horse draw  declared_horse_weight  cumm_avg_speed  \\\n",
       "0          402    0.000000    8                   1147       17.150207   \n",
       "1          549    0.000000   10                   1073       17.101325   \n",
       "2          216    0.000000    7                   1072       17.084282   \n",
       "3          401    0.000000   13                   1161       17.067274   \n",
       "4          215    0.000000   14                   1084       17.047876   \n",
       "...        ...         ...  ...                    ...             ...   \n",
       "9918       182    5.970213    4                   1076       16.908553   \n",
       "9919      1034   28.450538    8                   1141       16.949615   \n",
       "9920       958   19.860191   11                   1054       16.975603   \n",
       "9921      1588    5.016660    6                    975       16.755096   \n",
       "9922      1468   14.394733   12                   1051       16.835018   \n",
       "\n",
       "      win_odds  finishing_position  win  \n",
       "0          7.1                   1    1  \n",
       "1          7.4                   2    0  \n",
       "2         82.0                   3    0  \n",
       "3          5.7                   4    0  \n",
       "4         58.0                   5    0  \n",
       "...        ...                 ...  ...  \n",
       "9918      63.0                   8    0  \n",
       "9919      17.0                   9    0  \n",
       "9920      88.0                  10    0  \n",
       "9921      99.0                  11    0  \n",
       "9922      56.0                  12    0  \n",
       "\n",
       "[9923 rows x 8 columns]"
      ]
     },
     "execution_count": 710,
     "metadata": {},
     "output_type": "execute_result"
    }
   ],
   "source": [
    "df_2[['horse_id','rank_horse','draw','declared_horse_weight','cumm_avg_speed','win_odds','finishing_position','win']]"
   ]
  },
  {
   "cell_type": "markdown",
   "metadata": {},
   "source": [
    "### Feature Importance"
   ]
  },
  {
   "cell_type": "code",
   "execution_count": 820,
   "metadata": {},
   "outputs": [
    {
     "data": {
      "application/vnd.jupyter.widget-view+json": {
       "model_id": "96c9517678aa4dd0986e750ba1d73da1",
       "version_major": 2,
       "version_minor": 0
      },
      "text/plain": [
       "HBox(children=(IntProgress(value=0, max=20), HTML(value='')))"
      ]
     },
     "metadata": {},
     "output_type": "display_data"
    },
    {
     "name": "stdout",
     "output_type": "stream",
     "text": [
      "\n"
     ]
    },
    {
     "data": {
      "image/png": "[encoded data removed]",
      "text/plain": [
       "<Figure size 432x720 with 1 Axes>"
      ]
     },
     "metadata": {
      "needs_background": "dark"
     },
     "output_type": "display_data"
    }
   ],
   "source": [
    "from lofo import LOFOImportance, Dataset, plot_importance\n",
    "from sklearn.model_selection import KFold\n",
    "\n",
    "# define the validation scheme\n",
    "cv = KFold(n_splits=5, shuffle=True, random_state=42)\n",
    "\n",
    "# define the binary target and the features\n",
    "dataset = Dataset(df=df_2, target=target, features=used_cols)\n",
    "\n",
    "# define the validation scheme and scorer.\n",
    "lofo_imp = LOFOImportance(dataset, cv=cv, model=model, scoring=\"precision\", n_jobs=-1)\n",
    "\n",
    "# get the mean and standard deviation of the importances in pandas format\n",
    "importance_df = lofo_imp.get_importance()\n",
    "\n",
    "# plot the means and standard deviations of the importances\n",
    "plot_importance(importance_df, figsize=(6, 10))"
   ]
  },
  {
   "cell_type": "code",
   "execution_count": 825,
   "metadata": {},
   "outputs": [],
   "source": [
    "GBtree = importance_df"
   ]
  },
  {
   "cell_type": "code",
   "execution_count": 826,
   "metadata": {},
   "outputs": [],
   "source": [
    "importance_df['importance_abs']= np.abs(importance_df['importance_mean'])"
   ]
  },
  {
   "cell_type": "code",
   "execution_count": 827,
   "metadata": {},
   "outputs": [
    {
     "data": {
      "text/plain": [
       "1.0"
      ]
     },
     "execution_count": 827,
     "metadata": {},
     "output_type": "execute_result"
    }
   ],
   "source": [
    "importance_df['importance_norm']=importance_df['importance_abs']/importance_df['importance_abs'].sum()\n",
    "importance_df['importance_norm'].sum()"
   ]
  },
  {
   "cell_type": "code",
   "execution_count": 857,
   "metadata": {},
   "outputs": [
    {
     "name": "stdout",
     "output_type": "stream",
     "text": [
      "['win_probability', 'draw', 'horse_id', 'mu_horse', 'jockey', 'race_id', 'declared_horse_weight', 'cumm_avg_speed', 'track_condition', 'rel_min_speed', 'race_course', 'race_class', 'rel_max_speed', 'trainer', 'actual_weight', 'rel_avg_max_speed', 'sigma_horse', 'track', 'rel_avg_min_speed', 'rank_horse']\n"
     ]
    }
   ],
   "source": [
    "importance=importance_df.sort_values(by='importance_norm', ascending=False)['importance_norm'].tolist()\n",
    "feature=importance_df.sort_values(by='importance_norm', ascending=False)['feature'].tolist()\n",
    "feature[0] = 'win_probability'\n",
    "print(list(feature))"
   ]
  },
  {
   "cell_type": "code",
   "execution_count": 886,
   "metadata": {},
   "outputs": [],
   "source": [
    "# 100*np.array(importance)"
   ]
  },
  {
   "cell_type": "code",
   "execution_count": 858,
   "metadata": {},
   "outputs": [
    {
     "data": {
      "image/png": "[encoded data removed]",
      "text/plain": [
       "<Figure size 432x288 with 1 Axes>"
      ]
     },
     "metadata": {},
     "output_type": "display_data"
    }
   ],
   "source": [
    "# import matplotlib.pyplot as plt\n",
    "\n",
    "# Pie chart, where the slices will be ordered and plotted counter-clockwise:\n",
    "labels = 'win_probability', 'draw', 'horse_id', 'mu_horse', 'jockey', 'race_id', 'declared_horse_weight', 'cumm_avg_speed', 'track_condition', 'rel_min_speed', 'race_course', 'race_class', 'rel_max_speed', 'trainer', 'actual_weight', 'rel_avg_max_speed', 'sigma_horse', 'track', 'rel_avg_min_speed', 'rank_horse'\n",
    "#'Frogs', 'Hogs', 'Dogs', 'Logs'\n",
    "sizes = 100*np.array(importance) #[15, 30, 45, 10]\n",
    "explode = (0.1, 0.1, 0.1, 0.1)  # only \"explode\" the 2nd slice (i.e. 'Hogs')\n",
    "\n",
    "fig1, ax1 = plt.subplots()\n",
    "ax1.pie(sizes, labels=labels, autopct='%1.1f%%',\n",
    "        shadow=True, startangle=90)\n",
    "ax1.axis('equal')  # Equal aspect ratio ensures that pie is drawn as a circle.\n",
    "\n",
    "plt.show()\n"
   ]
  },
  {
   "cell_type": "code",
   "execution_count": null,
   "metadata": {},
   "outputs": [],
   "source": []
  },
  {
   "cell_type": "code",
   "execution_count": 873,
   "metadata": {},
   "outputs": [
    {
     "data": {
      "text/plain": [
       "(13, 13)"
      ]
     },
     "execution_count": 873,
     "metadata": {},
     "output_type": "execute_result"
    }
   ],
   "source": [
    "labels = ['win_probability', 'draw', 'horse_id', 'mu_horse', 'jockey',\n",
    "          'race_id', 'declared_horse_weight', 'cumm_avg_speed', 'track_condition', \n",
    "          'rel_min_speed', 'race_course', 'race_class', 'other']\n",
    "sizes = [16.5079231 , 10.30193769, 10.29292648,  8.45706925,  7.22506613,\n",
    "        7.04853711,  7.00248813,  5.77908663,  5.1534862 ,  5.06934982,\n",
    "        3.9015608 ,  3.89050221, 9.37006646]\n",
    "len(labels),len(sizes)"
   ]
  },
  {
   "cell_type": "code",
   "execution_count": 885,
   "metadata": {},
   "outputs": [
    {
     "data": {
      "image/png": "[encoded data removed]",
      "text/plain": [
       "<Figure size 576x576 with 1 Axes>"
      ]
     },
     "metadata": {},
     "output_type": "display_data"
    }
   ],
   "source": [
    "# Pie chart\n",
    "\n",
    "#colors\n",
    "colors = ['#ff9999','#66b3ff','#99ff99','#ffcc99','#ffffba', '#bae1ff',\n",
    "          '#baffc9', '#ffdfba','#b3b7d2']\n",
    "#explsion\n",
    "#explode = (0.05,0.05,0.05,0.05)\n",
    " \n",
    "plt.pie(sizes, colors = colors, labels=labels, \n",
    "        autopct='%1.1f%%', startangle=90, pctdistance=0.85) \n",
    "#draw circle\n",
    "centre_circle = plt.Circle((0,0),0.70,fc='white')\n",
    "fig = plt.gcf()\n",
    "fig.gca().add_artist(centre_circle)\n",
    "# Equal aspect ratio ensures that pie is drawn as a circle\n",
    "ax1.axis('equal')  \n",
    "plt.tight_layout()\n",
    "fig.set_size_inches(8,8)\n",
    "plt.show()"
   ]
  },
  {
   "cell_type": "code",
   "execution_count": null,
   "metadata": {},
   "outputs": [],
   "source": []
  }
 ],
 "metadata": {
  "kernelspec": {
   "display_name": "Python 3",
   "language": "python",
   "name": "python3"
  },
  "language_info": {
   "codemirror_mode": {
    "name": "ipython",
    "version": 3
   },
   "file_extension": ".py",
   "mimetype": "text/x-python",
   "name": "python",
   "nbconvert_exporter": "python",
   "pygments_lexer": "ipython3",
   "version": "3.6.9"
  }
 },
 "nbformat": 4,
 "nbformat_minor": 4
}
